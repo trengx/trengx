{
 "cells": [
  {
   "cell_type": "code",
   "execution_count": 1,
   "metadata": {},
   "outputs": [
    {
     "name": "stdout",
     "output_type": "stream",
     "text": [
      "Requirement already satisfied: azure-iot-hub in c:\\users\\yshin\\onedrive - trengx\\trengx\\code\\trengx\\.venv\\lib\\site-packages (2.6.1)\n",
      "Requirement already satisfied: msrest<1.0.0,>=0.6.21 in c:\\users\\yshin\\onedrive - trengx\\trengx\\code\\trengx\\.venv\\lib\\site-packages (from azure-iot-hub) (0.7.1)\n",
      "Requirement already satisfied: uamqp<2.0.0,>=1.2.14 in c:\\users\\yshin\\onedrive - trengx\\trengx\\code\\trengx\\.venv\\lib\\site-packages (from azure-iot-hub) (1.6.4)\n",
      "Requirement already satisfied: azure-core<2.0.0,>=1.10.0 in c:\\users\\yshin\\onedrive - trengx\\trengx\\code\\trengx\\.venv\\lib\\site-packages (from azure-iot-hub) (1.27.1)\n",
      "Requirement already satisfied: requests>=2.18.4 in c:\\users\\yshin\\onedrive - trengx\\trengx\\code\\trengx\\.venv\\lib\\site-packages (from azure-core<2.0.0,>=1.10.0->azure-iot-hub) (2.31.0)\n",
      "Requirement already satisfied: six>=1.11.0 in c:\\users\\yshin\\onedrive - trengx\\trengx\\code\\trengx\\.venv\\lib\\site-packages (from azure-core<2.0.0,>=1.10.0->azure-iot-hub) (1.16.0)\n",
      "Requirement already satisfied: typing-extensions>=4.3.0 in c:\\users\\yshin\\onedrive - trengx\\trengx\\code\\trengx\\.venv\\lib\\site-packages (from azure-core<2.0.0,>=1.10.0->azure-iot-hub) (4.6.2)\n",
      "Requirement already satisfied: certifi>=2017.4.17 in c:\\users\\yshin\\onedrive - trengx\\trengx\\code\\trengx\\.venv\\lib\\site-packages (from msrest<1.0.0,>=0.6.21->azure-iot-hub) (2023.5.7)\n",
      "Requirement already satisfied: isodate>=0.6.0 in c:\\users\\yshin\\onedrive - trengx\\trengx\\code\\trengx\\.venv\\lib\\site-packages (from msrest<1.0.0,>=0.6.21->azure-iot-hub) (0.6.1)\n",
      "Requirement already satisfied: requests-oauthlib>=0.5.0 in c:\\users\\yshin\\onedrive - trengx\\trengx\\code\\trengx\\.venv\\lib\\site-packages (from msrest<1.0.0,>=0.6.21->azure-iot-hub) (1.3.1)\n",
      "Requirement already satisfied: charset-normalizer<4,>=2 in c:\\users\\yshin\\onedrive - trengx\\trengx\\code\\trengx\\.venv\\lib\\site-packages (from requests>=2.18.4->azure-core<2.0.0,>=1.10.0->azure-iot-hub) (3.1.0)\n",
      "Requirement already satisfied: idna<4,>=2.5 in c:\\users\\yshin\\onedrive - trengx\\trengx\\code\\trengx\\.venv\\lib\\site-packages (from requests>=2.18.4->azure-core<2.0.0,>=1.10.0->azure-iot-hub) (3.4)\n",
      "Requirement already satisfied: urllib3<3,>=1.21.1 in c:\\users\\yshin\\onedrive - trengx\\trengx\\code\\trengx\\.venv\\lib\\site-packages (from requests>=2.18.4->azure-core<2.0.0,>=1.10.0->azure-iot-hub) (1.26.16)\n",
      "Requirement already satisfied: oauthlib>=3.0.0 in c:\\users\\yshin\\onedrive - trengx\\trengx\\code\\trengx\\.venv\\lib\\site-packages (from requests-oauthlib>=0.5.0->msrest<1.0.0,>=0.6.21->azure-iot-hub) (3.2.2)\n",
      "Note: you may need to restart the kernel to use updated packages.\n",
      "Requirement already satisfied: azure-iot-device in c:\\users\\yshin\\onedrive - trengx\\trengx\\code\\trengx\\.venv\\lib\\site-packages (2.12.0)\n",
      "Requirement already satisfied: urllib3<1.27,>=1.26.5 in c:\\users\\yshin\\onedrive - trengx\\trengx\\code\\trengx\\.venv\\lib\\site-packages (from azure-iot-device) (1.26.16)\n",
      "Requirement already satisfied: deprecation<3.0.0,>=2.1.0 in c:\\users\\yshin\\onedrive - trengx\\trengx\\code\\trengx\\.venv\\lib\\site-packages (from azure-iot-device) (2.1.0)\n",
      "Requirement already satisfied: paho-mqtt<2.0.0,>=1.6.1 in c:\\users\\yshin\\onedrive - trengx\\trengx\\code\\trengx\\.venv\\lib\\site-packages (from azure-iot-device) (1.6.1)\n",
      "Requirement already satisfied: requests<3.0.0,>=2.20.0 in c:\\users\\yshin\\onedrive - trengx\\trengx\\code\\trengx\\.venv\\lib\\site-packages (from azure-iot-device) (2.31.0)\n",
      "Requirement already satisfied: requests-unixsocket<1.0.0,>=0.1.5 in c:\\users\\yshin\\onedrive - trengx\\trengx\\code\\trengx\\.venv\\lib\\site-packages (from azure-iot-device) (0.3.0)\n",
      "Requirement already satisfied: janus in c:\\users\\yshin\\onedrive - trengx\\trengx\\code\\trengx\\.venv\\lib\\site-packages (from azure-iot-device) (1.0.0)\n",
      "Requirement already satisfied: PySocks in c:\\users\\yshin\\onedrive - trengx\\trengx\\code\\trengx\\.venv\\lib\\site-packages (from azure-iot-device) (1.7.1)\n",
      "Requirement already satisfied: packaging in c:\\users\\yshin\\onedrive - trengx\\trengx\\code\\trengx\\.venv\\lib\\site-packages (from deprecation<3.0.0,>=2.1.0->azure-iot-device) (23.1)\n",
      "Requirement already satisfied: charset-normalizer<4,>=2 in c:\\users\\yshin\\onedrive - trengx\\trengx\\code\\trengx\\.venv\\lib\\site-packages (from requests<3.0.0,>=2.20.0->azure-iot-device) (3.1.0)\n",
      "Requirement already satisfied: idna<4,>=2.5 in c:\\users\\yshin\\onedrive - trengx\\trengx\\code\\trengx\\.venv\\lib\\site-packages (from requests<3.0.0,>=2.20.0->azure-iot-device) (3.4)\n",
      "Requirement already satisfied: certifi>=2017.4.17 in c:\\users\\yshin\\onedrive - trengx\\trengx\\code\\trengx\\.venv\\lib\\site-packages (from requests<3.0.0,>=2.20.0->azure-iot-device) (2023.5.7)\n",
      "Requirement already satisfied: typing-extensions>=3.7.4.3 in c:\\users\\yshin\\onedrive - trengx\\trengx\\code\\trengx\\.venv\\lib\\site-packages (from janus->azure-iot-device) (4.6.2)\n",
      "Note: you may need to restart the kernel to use updated packages.\n"
     ]
    }
   ],
   "source": [
    "%pip install azure-iot-hub\n",
    "%pip install azure-iot-device"
   ]
  },
  {
   "cell_type": "code",
   "execution_count": 8,
   "metadata": {},
   "outputs": [],
   "source": [
    "import sys\n",
    "import os\n",
    "from time import sleep\n",
    "from azure.iot.hub import IoTHubRegistryManager\n",
    "from azure.iot.hub.models import Twin, TwinProperties, QuerySpecification, QueryResult\n",
    "from azure.iot.device import IoTHubDeviceClient, Message\n",
    "\n",
    "IOTHUB_CONNECTION_STRING = os.getenv('AZURE_IOT_HUB_CONNECTION_STRING')\n",
    "DEVICE_ID = \"device-1\"\n",
    "\n",
    "AZURE_DEVICE_1_CONNECTION_STRING = os.getenv('AZURE_DEVICE_1_CONNECTION_STRING')"
   ]
  },
  {
   "cell_type": "code",
   "execution_count": 12,
   "metadata": {},
   "outputs": [
    {
     "name": "stdout",
     "output_type": "stream",
     "text": [
      "Time taken to send 100 messages: 5.976132392883301 seconds\n"
     ]
    }
   ],
   "source": [
    "\n",
    "import time\n",
    "# Create instance of the device client\n",
    "d = IoTHubDeviceClient.create_from_connection_string(AZURE_DEVICE_1_CONNECTION_STRING)\n",
    "\n",
    "# Connect to the IoT hub\n",
    "d.connect()\n",
    "\n",
    "# Number of messages to send\n",
    "NUM_MESSAGES = 100\n",
    "\n",
    "# Start the timer\n",
    "start_time = time.time()\n",
    "\n",
    "# Send the messages in a loop\n",
    "for i in range(NUM_MESSAGES):\n",
    "    '''\n",
    "    # Property name and value\n",
    "    property_name = \"glucose\"\n",
    "    property_value = 267\n",
    "    # Report the new property value\n",
    "    d.patch_twin_reported_properties({property_name: property_value})\n",
    "    '''\n",
    "    \n",
    "    msg = Message(f\"Hi {i}\")\n",
    "    d.send_message(msg)\n",
    "\n",
    "# Stop the timer\n",
    "end_time = time.time()\n",
    "\n",
    "# Calculate the time taken\n",
    "time_taken = end_time - start_time\n",
    "\n",
    "# Disconnect from the IoT hub\n",
    "d.disconnect()\n",
    "\n",
    "# Print the result\n",
    "print(f\"Time taken to send {NUM_MESSAGES} messages: {time_taken} seconds\")\n"
   ]
  },
  {
   "cell_type": "code",
   "execution_count": 13,
   "metadata": {},
   "outputs": [
    {
     "data": {
      "text/plain": [
       "288"
      ]
     },
     "execution_count": 13,
     "metadata": {},
     "output_type": "execute_result"
    }
   ],
   "source": [
    "12*24\n"
   ]
  },
  {
   "cell_type": "code",
   "execution_count": 4,
   "metadata": {},
   "outputs": [],
   "source": [
    "\n",
    "def iothub_service_sample_run(result):\n",
    "    try:\n",
    "        iothub_registry_manager = IoTHubRegistryManager(IOTHUB_CONNECTION_STRING)\n",
    "\n",
    "        new_tags = {\n",
    "                'patient' : {\n",
    "                    'region' : 'US',\n",
    "                    'id' : 'pt-34322'\n",
    "                }\n",
    "            }\n",
    "\n",
    "        twin = iothub_registry_manager.get_twin(DEVICE_ID)\n",
    "        twin_patch = Twin(tags=new_tags, properties= TwinProperties(desired={'glucose' : 120}, reported={'glucose' : 250}))\n",
    "        twin = iothub_registry_manager.update_twin(DEVICE_ID, twin_patch, twin.etag)\n",
    "\n",
    "        # Add a delay to account for any latency before executing the query\n",
    "        sleep(1)\n",
    "\n",
    "        query_spec = QuerySpecification(query=\"SELECT * FROM devices WHERE tags.patient.id = 'pt-34322'\")\n",
    "        query_result = iothub_registry_manager.query_iot_hub(query_spec, None, 100)\n",
    "        result = query_result\n",
    "        print(\"Devices: {}\".format(', '.join([twin.device_id for twin in query_result.items])))\n",
    "\n",
    "        print()\n",
    "\n",
    "        query_spec = QuerySpecification(query=\"SELECT * FROM devices WHERE tags.patient.id = 'pt-34322' AND properties.desired.glucose = 120\")\n",
    "        query_result = iothub_registry_manager.query_iot_hub(query_spec, None, 100)\n",
    "        print(\"Devices: {}\".format(', '.join([twin.device_id for twin in query_result.items])))\n",
    "\n",
    "    except Exception as ex:\n",
    "        print(\"Unexpected error {0}\".format(ex))\n",
    "        return\n",
    "    except KeyboardInterrupt:\n",
    "        print(\"IoT Hub Device Twin service sample stopped\")\n",
    "        \n",
    "    return result"
   ]
  },
  {
   "cell_type": "code",
   "execution_count": 5,
   "metadata": {},
   "outputs": [
    {
     "name": "stdout",
     "output_type": "stream",
     "text": [
      "Starting the Python IoT Hub Device Twin service sample...\n",
      "\n"
     ]
    },
    {
     "ename": "TypeError",
     "evalue": "iothub_service_sample_run() missing 1 required positional argument: 'result'",
     "output_type": "error",
     "traceback": [
      "\u001b[1;31m---------------------------------------------------------------------------\u001b[0m",
      "\u001b[1;31mTypeError\u001b[0m                                 Traceback (most recent call last)",
      "Cell \u001b[1;32mIn[5], line 5\u001b[0m\n\u001b[0;32m      2\u001b[0m \u001b[39mprint\u001b[39m(\u001b[39m\"\u001b[39m\u001b[39mStarting the Python IoT Hub Device Twin service sample...\u001b[39m\u001b[39m\"\u001b[39m)\n\u001b[0;32m      3\u001b[0m \u001b[39mprint\u001b[39m()\n\u001b[1;32m----> 5\u001b[0m iothub_service_sample_run()\n",
      "\u001b[1;31mTypeError\u001b[0m: iothub_service_sample_run() missing 1 required positional argument: 'result'"
     ]
    }
   ],
   "source": [
    "if __name__ == '__main__':\n",
    "    print(\"Starting the Python IoT Hub Device Twin service sample...\")\n",
    "    print()\n",
    "\n",
    "    iothub_service_sample_run()"
   ]
  },
  {
   "cell_type": "code",
   "execution_count": null,
   "metadata": {},
   "outputs": [
    {
     "name": "stdout",
     "output_type": "stream",
     "text": [
      "Devices: device-1\n",
      "\n",
      "Devices: device-1\n",
      "267\n"
     ]
    }
   ],
   "source": [
    "result = None\n",
    "result = iothub_service_sample_run(result)\n",
    "for twin in result.items:\n",
    "    print (twin.properties.reported.get('glucose'))"
   ]
  }
 ],
 "metadata": {
  "kernelspec": {
   "display_name": ".venv",
   "language": "python",
   "name": "python3"
  },
  "language_info": {
   "codemirror_mode": {
    "name": "ipython",
    "version": 3
   },
   "file_extension": ".py",
   "mimetype": "text/x-python",
   "name": "python",
   "nbconvert_exporter": "python",
   "pygments_lexer": "ipython3",
   "version": "3.8.10"
  },
  "orig_nbformat": 4
 },
 "nbformat": 4,
 "nbformat_minor": 2
}
