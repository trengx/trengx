{
 "cells": [
  {
   "attachments": {},
   "cell_type": "markdown",
   "metadata": {},
   "source": []
  },
  {
   "cell_type": "code",
   "execution_count": 1,
   "metadata": {},
   "outputs": [
    {
     "name": "stdout",
     "output_type": "stream",
     "text": [
      "{'id': '6ff8c7f8-0f22-11ee-a537-f736a911ff82', 'label': 'num', 'name': 'operand', 'value': 1, 'grad': 0.1}\n"
     ]
    }
   ],
   "source": [
    "import networkx as nx\n",
    "import uuid\n",
    "import sys\n",
    "sys.path.append('../')\n",
    "import trengx as t\n",
    "\n",
    "# Create a directed graph\n",
    "g = nx.DiGraph()\n",
    "id = str(uuid.uuid1())\n",
    "node1_dict = {'id': id, 'label': 'num', 'name': \"operand\", 'value': 1, 'grad': 0.1}\n",
    "node1 = t.add_node(g, node1_dict)\n",
    "print(node1)"
   ]
  },
  {
   "cell_type": "code",
   "execution_count": 2,
   "metadata": {},
   "outputs": [
    {
     "name": "stdout",
     "output_type": "stream",
     "text": [
      "<class 'trengx.engine.node.add_node.networkx_add_node.NetworkXAddNode'>\n",
      "{'id': '6ffb5e34-0f22-11ee-89f5-f736a911ff82', 'label': 'num', 'name': 'x', 'value': 2, 'grad': 0.1}\n",
      "{'id': '6ffb5e36-0f22-11ee-be32-f736a911ff82', 'label': 'op', 'name': 'sin'}\n",
      "{'id': '6ffb5e38-0f22-11ee-bacd-f736a911ff82', 'label': 'num2op', 'source': '6ffb5e34-0f22-11ee-89f5-f736a911ff82', 'target': '6ffb5e36-0f22-11ee-be32-f736a911ff82', 'second_operand': False}\n"
     ]
    }
   ],
   "source": [
    "import networkx as nx\n",
    "import uuid\n",
    "import sys\n",
    "sys.path.append('../')\n",
    "import trengx as t\n",
    "\n",
    "# Create a directed graph\n",
    "g = nx.DiGraph()\n",
    "\n",
    "# Create nodes\n",
    "id1 = str(uuid.uuid1())\n",
    "node1_dict = {'id': id1, 'label': 'num', 'name': \"x\", 'value': 2, 'grad': 0.1}\n",
    "node1 = t.add_node(g, node1_dict)\n",
    "id2 = str(uuid.uuid1())\n",
    "node2_dict = {'id': id2, 'label': 'op', 'name': \"sin\"}\n",
    "node2 = t.add_node(g, node2_dict)\n",
    "\n",
    "print (type(node1))\n",
    "\n",
    "# Create edge\n",
    "id3 = str(uuid.uuid1())\n",
    "edge = {'id': id3, 'label': 'num2op', 'source': node1.id, 'target': node2.id, 'second_operand': False}\n",
    "t.add_edge(g, edge)\n",
    "\n",
    "print(node1)\n",
    "print(node2)\n",
    "print(edge)\n"
   ]
  },
  {
   "cell_type": "code",
   "execution_count": 3,
   "metadata": {},
   "outputs": [
    {
     "ename": "NameError",
     "evalue": "name 'G' is not defined",
     "output_type": "error",
     "traceback": [
      "\u001b[1;31m---------------------------------------------------------------------------\u001b[0m",
      "\u001b[1;31mNameError\u001b[0m                                 Traceback (most recent call last)",
      "Cell \u001b[1;32mIn[3], line 2\u001b[0m\n\u001b[0;32m      1\u001b[0m \u001b[39m# Set initial values\u001b[39;00m\n\u001b[1;32m----> 2\u001b[0m G\u001b[39m.\u001b[39mnodes[x1][\u001b[39m'\u001b[39m\u001b[39mvalue\u001b[39m\u001b[39m'\u001b[39m] \u001b[39m=\u001b[39m \u001b[39m2\u001b[39m\n\u001b[0;32m      3\u001b[0m G\u001b[39m.\u001b[39mnodes[x2][\u001b[39m'\u001b[39m\u001b[39mvalue\u001b[39m\u001b[39m'\u001b[39m] \u001b[39m=\u001b[39m \u001b[39m1\u001b[39m\n\u001b[0;32m      4\u001b[0m G\u001b[39m.\u001b[39mnodes[x3][\u001b[39m'\u001b[39m\u001b[39mvalue\u001b[39m\u001b[39m'\u001b[39m] \u001b[39m=\u001b[39m \u001b[39m7\u001b[39m\n",
      "\u001b[1;31mNameError\u001b[0m: name 'G' is not defined"
     ]
    }
   ],
   "source": [
    "# Set initial values\n",
    "G.nodes[x1]['value'] = 2\n",
    "G.nodes[x2]['value'] = 1\n",
    "G.nodes[x3]['value'] = 7\n",
    "\n",
    "# Perform forward propagation\n",
    "te.forward_propagate(G, x1, 3)\n",
    "\n",
    "# Print out the values of the nodes\n",
    "print(\"x1 value: \", G.nodes[x1]['value'])\n",
    "print(\"x2 value: \", G.nodes[x2]['value'])\n",
    "print(\"x3 value: \", G.nodes[x3]['value'])\n",
    "print(\"x4 value: \", G.nodes[x4]['value'])\n",
    "print(\"x5 value: \", G.nodes[x5]['value'])"
   ]
  },
  {
   "cell_type": "code",
   "execution_count": null,
   "metadata": {},
   "outputs": [
    {
     "data": {
      "text/plain": [
       "0.1411200080598672"
      ]
     },
     "execution_count": 23,
     "metadata": {},
     "output_type": "execute_result"
    }
   ],
   "source": [
    "np.sin(3)"
   ]
  },
  {
   "cell_type": "code",
   "execution_count": null,
   "metadata": {},
   "outputs": [
    {
     "name": "stdout",
     "output_type": "stream",
     "text": [
      "x1 value:  1\n",
      "x2 value:  3\n",
      "x3 value:  2\n",
      "x4 value:  0.1411200080598672\n",
      "x5 value:  0.6931471805599453\n"
     ]
    }
   ],
   "source": [
    "# Perform forward propagation\n",
    "te.forward_propagate(G, x1, 1)\n",
    "\n",
    "print(\"x1 value: \", G.nodes[x1]['value'])\n",
    "print(\"x2 value: \", G.nodes[x2]['value'])\n",
    "print(\"x3 value: \", G.nodes[x3]['value'])\n",
    "print(\"x4 value: \", G.nodes[x4]['value'])\n",
    "print(\"x5 value: \", G.nodes[x5]['value'])"
   ]
  }
 ],
 "metadata": {
  "kernelspec": {
   "display_name": "Python 3",
   "language": "python",
   "name": "python3"
  },
  "language_info": {
   "codemirror_mode": {
    "name": "ipython",
    "version": 3
   },
   "file_extension": ".py",
   "mimetype": "text/x-python",
   "name": "python",
   "nbconvert_exporter": "python",
   "pygments_lexer": "ipython3",
   "version": "3.8.10"
  },
  "orig_nbformat": 4,
  "vscode": {
   "interpreter": {
    "hash": "3ad933181bd8a04b432d3370b9dc3b0662ad032c4dfaa4e4f1596c548f763858"
   }
  }
 },
 "nbformat": 4,
 "nbformat_minor": 2
}
