{
 "cells": [
  {
   "attachments": {},
   "cell_type": "markdown",
   "metadata": {},
   "source": []
  },
  {
   "cell_type": "code",
   "execution_count": 1,
   "metadata": {},
   "outputs": [
    {
     "name": "stdout",
     "output_type": "stream",
     "text": [
      "Node(id=ff73d386-0e77-11ee-887d-f736a911ff82, label=num, name=operand, value=2, grad=0.1)\n"
     ]
    }
   ],
   "source": [
    "import networkx as nx\n",
    "import uuid\n",
    "import sys\n",
    "sys.path.append('../')\n",
    "import trengx as t\n",
    "\n",
    "# Create a directed graph\n",
    "g = nx.DiGraph()\n",
    "id = uuid.uuid1()\n",
    "node1 = t.node(g, id=id, label='num', name=\"operand\", value=2, grad=0.1)\n",
    "print (node1)"
   ]
  },
  {
   "cell_type": "code",
   "execution_count": 4,
   "metadata": {},
   "outputs": [
    {
     "ename": "TypeError",
     "evalue": "node1 must be a string",
     "output_type": "error",
     "traceback": [
      "\u001b[1;31m---------------------------------------------------------------------------\u001b[0m",
      "\u001b[1;31mTypeError\u001b[0m                                 Traceback (most recent call last)",
      "Cell \u001b[1;32mIn[4], line 9\u001b[0m\n\u001b[0;32m      7\u001b[0m \u001b[39m# Create edge\u001b[39;00m\n\u001b[0;32m      8\u001b[0m id3 \u001b[39m=\u001b[39m \u001b[39mstr\u001b[39m(uuid\u001b[39m.\u001b[39muuid1())\n\u001b[1;32m----> 9\u001b[0m edge \u001b[39m=\u001b[39m t\u001b[39m.\u001b[39;49medge(g, node1\u001b[39m.\u001b[39;49mid, node2\u001b[39m.\u001b[39;49mid, \u001b[39mid\u001b[39;49m\u001b[39m=\u001b[39;49mid3, label\u001b[39m=\u001b[39;49m\u001b[39m'\u001b[39;49m\u001b[39mnum2op\u001b[39;49m\u001b[39m'\u001b[39;49m, second_operand\u001b[39m=\u001b[39;49m\u001b[39mFalse\u001b[39;49;00m)\n\u001b[0;32m     11\u001b[0m \u001b[39mprint\u001b[39m(node1)\n\u001b[0;32m     12\u001b[0m \u001b[39mprint\u001b[39m(node2)\n",
      "File \u001b[1;32mc:\\Users\\yshin\\OneDrive - trengx\\trengx\\code\\trengx\\notebooks\\..\\trengx\\engine\\add_edge\\edge.py:10\u001b[0m, in \u001b[0;36medge\u001b[1;34m(driver, node1, node2, id, label, second_operand)\u001b[0m\n\u001b[0;32m      8\u001b[0m     \u001b[39mreturn\u001b[39;00m NetworkXAddEdge(driver, node1, node2, \u001b[39mid\u001b[39m, label, second_operand)\n\u001b[0;32m      9\u001b[0m \u001b[39melif\u001b[39;00m \u001b[39misinstance\u001b[39m(driver, Neo4jDriver):\n\u001b[1;32m---> 10\u001b[0m     \u001b[39mreturn\u001b[39;00m Neo4jAddEdge(driver, node1, node2, \u001b[39mid\u001b[39m, label, second_operand)\n\u001b[0;32m     11\u001b[0m \u001b[39melse\u001b[39;00m:\n\u001b[0;32m     12\u001b[0m     \u001b[39mraise\u001b[39;00m \u001b[39mValueError\u001b[39;00m(\u001b[39m'\u001b[39m\u001b[39mInvalid driver type\u001b[39m\u001b[39m'\u001b[39m)\n",
      "File \u001b[1;32mc:\\Users\\yshin\\OneDrive - trengx\\trengx\\code\\trengx\\notebooks\\..\\trengx\\engine\\add_edge\\add_edge.py:11\u001b[0m, in \u001b[0;36mAddEdge.__init__\u001b[1;34m(self, driver, node1, node2, id, label, second_operand)\u001b[0m\n\u001b[0;32m      9\u001b[0m \u001b[39mself\u001b[39m\u001b[39m.\u001b[39mlabel \u001b[39m=\u001b[39m label\n\u001b[0;32m     10\u001b[0m \u001b[39mself\u001b[39m\u001b[39m.\u001b[39msecond_operand \u001b[39m=\u001b[39m second_operand\n\u001b[1;32m---> 11\u001b[0m \u001b[39mself\u001b[39;49m\u001b[39m.\u001b[39;49madd_to_graph()\n",
      "File \u001b[1;32mc:\\Users\\yshin\\OneDrive - trengx\\trengx\\code\\trengx\\notebooks\\..\\trengx\\engine\\add_edge\\networkx_add_edge.py:7\u001b[0m, in \u001b[0;36mNetworkXAddEdge.add_to_graph\u001b[1;34m(self)\u001b[0m\n\u001b[0;32m      4\u001b[0m \u001b[39mdef\u001b[39;00m \u001b[39madd_to_graph\u001b[39m(\u001b[39mself\u001b[39m):\n\u001b[0;32m      5\u001b[0m     \u001b[39m# the add_edge method in networkx takes the form of G.add_edge(n1, n2, **attr)\u001b[39;00m\n\u001b[0;32m      6\u001b[0m     \u001b[39mif\u001b[39;00m \u001b[39mnot\u001b[39;00m \u001b[39misinstance\u001b[39m(\u001b[39mself\u001b[39m\u001b[39m.\u001b[39mnode1, \u001b[39mstr\u001b[39m):\n\u001b[1;32m----> 7\u001b[0m         \u001b[39mraise\u001b[39;00m \u001b[39mTypeError\u001b[39;00m(\u001b[39m'\u001b[39m\u001b[39mnode1 must be a string\u001b[39m\u001b[39m'\u001b[39m)\n\u001b[0;32m      8\u001b[0m     \u001b[39mif\u001b[39;00m \u001b[39mnot\u001b[39;00m \u001b[39misinstance\u001b[39m(\u001b[39mself\u001b[39m\u001b[39m.\u001b[39mnode2, \u001b[39mstr\u001b[39m):\n\u001b[0;32m      9\u001b[0m         \u001b[39mraise\u001b[39;00m \u001b[39mTypeError\u001b[39;00m(\u001b[39m'\u001b[39m\u001b[39mnode2 must be a string\u001b[39m\u001b[39m'\u001b[39m)\n",
      "\u001b[1;31mTypeError\u001b[0m: node1 must be a string"
     ]
    }
   ],
   "source": [
    "# Create nodes\n",
    "id1 = str(uuid.uuid1())\n",
    "node1 = t.node(g, id=id1, label='num', name=\"x\", value=2, grad=0.1)\n",
    "id2 = str(uuid.uuid1())\n",
    "node2 = t.node(g, id=id2, label='op', name=\"sin\")\n",
    "\n",
    "# Create edge\n",
    "id3 = str(uuid.uuid1())\n",
    "edge = t.edge(g, node1.id, node2.id, id=id3, label='num2op', second_operand=False)\n",
    "\n",
    "print(node1)\n",
    "print(node2)\n",
    "print(edge)\n",
    "\n"
   ]
  },
  {
   "cell_type": "code",
   "execution_count": 3,
   "metadata": {},
   "outputs": [
    {
     "ename": "NameError",
     "evalue": "name 'G' is not defined",
     "output_type": "error",
     "traceback": [
      "\u001b[1;31m---------------------------------------------------------------------------\u001b[0m",
      "\u001b[1;31mNameError\u001b[0m                                 Traceback (most recent call last)",
      "Cell \u001b[1;32mIn[3], line 2\u001b[0m\n\u001b[0;32m      1\u001b[0m \u001b[39m# Set initial values\u001b[39;00m\n\u001b[1;32m----> 2\u001b[0m G\u001b[39m.\u001b[39mnodes[x1][\u001b[39m'\u001b[39m\u001b[39mvalue\u001b[39m\u001b[39m'\u001b[39m] \u001b[39m=\u001b[39m \u001b[39m2\u001b[39m\n\u001b[0;32m      3\u001b[0m G\u001b[39m.\u001b[39mnodes[x2][\u001b[39m'\u001b[39m\u001b[39mvalue\u001b[39m\u001b[39m'\u001b[39m] \u001b[39m=\u001b[39m \u001b[39m1\u001b[39m\n\u001b[0;32m      4\u001b[0m G\u001b[39m.\u001b[39mnodes[x3][\u001b[39m'\u001b[39m\u001b[39mvalue\u001b[39m\u001b[39m'\u001b[39m] \u001b[39m=\u001b[39m \u001b[39m7\u001b[39m\n",
      "\u001b[1;31mNameError\u001b[0m: name 'G' is not defined"
     ]
    }
   ],
   "source": [
    "# Set initial values\n",
    "G.nodes[x1]['value'] = 2\n",
    "G.nodes[x2]['value'] = 1\n",
    "G.nodes[x3]['value'] = 7\n",
    "\n",
    "# Perform forward propagation\n",
    "te.forward_propagate(G, x1, 3)\n",
    "\n",
    "# Print out the values of the nodes\n",
    "print(\"x1 value: \", G.nodes[x1]['value'])\n",
    "print(\"x2 value: \", G.nodes[x2]['value'])\n",
    "print(\"x3 value: \", G.nodes[x3]['value'])\n",
    "print(\"x4 value: \", G.nodes[x4]['value'])\n",
    "print(\"x5 value: \", G.nodes[x5]['value'])"
   ]
  },
  {
   "cell_type": "code",
   "execution_count": null,
   "metadata": {},
   "outputs": [
    {
     "data": {
      "text/plain": [
       "0.1411200080598672"
      ]
     },
     "execution_count": 23,
     "metadata": {},
     "output_type": "execute_result"
    }
   ],
   "source": [
    "np.sin(3)"
   ]
  },
  {
   "cell_type": "code",
   "execution_count": null,
   "metadata": {},
   "outputs": [
    {
     "name": "stdout",
     "output_type": "stream",
     "text": [
      "x1 value:  1\n",
      "x2 value:  3\n",
      "x3 value:  2\n",
      "x4 value:  0.1411200080598672\n",
      "x5 value:  0.6931471805599453\n"
     ]
    }
   ],
   "source": [
    "# Perform forward propagation\n",
    "te.forward_propagate(G, x1, 1)\n",
    "\n",
    "print(\"x1 value: \", G.nodes[x1]['value'])\n",
    "print(\"x2 value: \", G.nodes[x2]['value'])\n",
    "print(\"x3 value: \", G.nodes[x3]['value'])\n",
    "print(\"x4 value: \", G.nodes[x4]['value'])\n",
    "print(\"x5 value: \", G.nodes[x5]['value'])"
   ]
  }
 ],
 "metadata": {
  "kernelspec": {
   "display_name": "Python 3",
   "language": "python",
   "name": "python3"
  },
  "language_info": {
   "codemirror_mode": {
    "name": "ipython",
    "version": 3
   },
   "file_extension": ".py",
   "mimetype": "text/x-python",
   "name": "python",
   "nbconvert_exporter": "python",
   "pygments_lexer": "ipython3",
   "version": "3.8.10"
  },
  "orig_nbformat": 4,
  "vscode": {
   "interpreter": {
    "hash": "3ad933181bd8a04b432d3370b9dc3b0662ad032c4dfaa4e4f1596c548f763858"
   }
  }
 },
 "nbformat": 4,
 "nbformat_minor": 2
}
