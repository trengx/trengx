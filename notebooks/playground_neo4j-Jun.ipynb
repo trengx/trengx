{
 "cells": [
  {
   "cell_type": "code",
   "execution_count": 1,
   "metadata": {},
   "outputs": [
    {
     "name": "stdout",
     "output_type": "stream",
     "text": [
      "{'name': 'operand', 'id': 'ad8387e3-0f3c-11ee-aab4-f736a911ff82', 'value': 1, 'grad': 0.1}\n"
     ]
    }
   ],
   "source": [
    "from neo4j import GraphDatabase, basic_auth\n",
    "import os\n",
    "import uuid\n",
    "import sys\n",
    "sys.path.append('../')\n",
    "import trengx as t\n",
    "\n",
    "uri = os.getenv('NEO4J_URI') # Get the value of the uri variable\n",
    "user = os.getenv('NEO4J_USER') # Get the value of the user variable\n",
    "password= os.getenv('NEO4J_PASSWORD')  # Get the value of the password variable\n",
    "\n",
    "# Create a Neo4j driver and add a node\n",
    "g = GraphDatabase.driver(uri, auth=basic_auth(user, password))\n",
    "id = str(uuid.uuid1())\n",
    "node1_dict = {'id': id, 'label': 'num', 'name': \"operand\", 'value': 1, 'grad': 0.1}\n",
    "node1 = t.add_node(g, node1_dict)\n",
    "print(node1)"
   ]
  },
  {
   "cell_type": "code",
   "execution_count": 2,
   "metadata": {},
   "outputs": [
    {
     "name": "stdout",
     "output_type": "stream",
     "text": [
      "<class 'trengx.engine.node.add_node.neo4j_add_node.Neo4jAddNode'>\n",
      "{'name': 'x', 'id': 'ae302bbd-0f3c-11ee-8808-f736a911ff82', 'value': 2, 'grad': 0.1}\n",
      "{'name': 'sin', 'id': 'aebe63e5-0f3c-11ee-b124-f736a911ff82'}\n",
      "{'id': 'aedb0ab1-0f3c-11ee-bb22-f736a911ff82', 'label': 'num2op', 'source': 'ae302bbd-0f3c-11ee-8808-f736a911ff82', 'target': 'aebe63e5-0f3c-11ee-b124-f736a911ff82', 'second_operand': False}\n"
     ]
    }
   ],
   "source": [
    "from neo4j import GraphDatabase, basic_auth\n",
    "import os\n",
    "import uuid\n",
    "import sys\n",
    "sys.path.append('../')\n",
    "import trengx as t\n",
    "\n",
    "# get environment variables\n",
    "uri = os.getenv('NEO4J_URI')\n",
    "user = os.getenv('NEO4J_USER')\n",
    "password = os.getenv('NEO4J_PASSWORD')\n",
    "\n",
    "# create a Neo4j driver\n",
    "g = GraphDatabase.driver(uri, auth=basic_auth(user, password))\n",
    "\n",
    "# Create nodes\n",
    "id1 = str(uuid.uuid1())\n",
    "node1_dict = {'id': id1, 'label': 'num', 'name': \"x\", 'value': 2, 'grad': 0.1}\n",
    "node1 = t.add_node(g, node1_dict)\n",
    "id2 = str(uuid.uuid1())\n",
    "node2_dict = {'id': id2, 'label': 'op', 'name': \"sin\"}\n",
    "node2 = t.add_node(g, node2_dict)\n",
    "\n",
    "print (type(node1))\n",
    "\n",
    "# Create edge\n",
    "id3 = str(uuid.uuid1())\n",
    "edge = {'id': id3, 'label': 'num2op', 'source': node1.id, 'target': node2.id, 'second_operand': False}\n",
    "t.add_edge(g, edge)\n",
    "\n",
    "print(node1)\n",
    "print(node2)\n",
    "print(edge)\n"
   ]
  },
  {
   "cell_type": "code",
   "execution_count": 3,
   "metadata": {},
   "outputs": [
    {
     "name": "stdout",
     "output_type": "stream",
     "text": [
      "Requirement already satisfied: numpy in c:\\users\\yshin\\onedrive - trengx\\trengx\\code\\trengx\\.venv\\lib\\site-packages (1.24.3)\n",
      "Note: you may need to restart the kernel to use updated packages.\n"
     ]
    }
   ],
   "source": [
    "%pip install numpy\n",
    "import numpy as np"
   ]
  },
  {
   "cell_type": "code",
   "execution_count": 4,
   "metadata": {},
   "outputs": [
    {
     "ename": "AttributeError",
     "evalue": "'Neo4jDriver' object has no attribute 'delete_all'",
     "output_type": "error",
     "traceback": [
      "\u001b[1;31m---------------------------------------------------------------------------\u001b[0m",
      "\u001b[1;31mAttributeError\u001b[0m                            Traceback (most recent call last)",
      "Cell \u001b[1;32mIn[4], line 1\u001b[0m\n\u001b[1;32m----> 1\u001b[0m g\u001b[39m.\u001b[39;49mdelete_all()\n\u001b[0;32m      3\u001b[0m N \u001b[39m=\u001b[39m \u001b[39m200\u001b[39m \u001b[39m# Number of 'num' nodes you want to create\u001b[39;00m\n\u001b[0;32m      5\u001b[0m \u001b[39m# First 'num' node\u001b[39;00m\n",
      "\u001b[1;31mAttributeError\u001b[0m: 'Neo4jDriver' object has no attribute 'delete_all'"
     ]
    }
   ],
   "source": [
    "\n",
    "\n",
    "g.delete_all()\n",
    "\n",
    "N = 200 # Number of 'num' nodes you want to create\n",
    "\n",
    "# First 'num' node\n",
    "prev_node = g.add_node('num', {'name': 'x1', 'value': 0, 'grad': 0.0})\n",
    "x1 = prev_node\n",
    "\n",
    "for i in range(2, N+1):\n",
    "    # 'op' node\n",
    "    op_node = g.add_node('op', {'name': 'sin'})\n",
    "    g.add_edge('num2op', prev_node['id'], op_node['id'])\n",
    "    \n",
    "    # 'num' node\n",
    "    curr_node = g.add_node('num', {'name': f'x{i}', 'value': 0, 'grad': 0.0})\n",
    "    g.add_edge('op2num', op_node['id'], curr_node['id'])\n",
    "\n",
    "    prev_node = curr_node\n",
    "\n",
    "\n",
    "\n",
    "\n"
   ]
  },
  {
   "cell_type": "code",
   "execution_count": null,
   "metadata": {},
   "outputs": [],
   "source": [
    "g.set_node_value(x1['id'], 1)"
   ]
  },
  {
   "cell_type": "code",
   "execution_count": null,
   "metadata": {},
   "outputs": [],
   "source": [
    "def get_node_by_name(graph, name):\n",
    "    return g.run_query(f\"MATCH (n) WHERE n.name = '{name}' RETURN n\")\n",
    "node = get_node_by_name(g, 'x199')\n",
    "print (node)\n",
    "id = node[0]['n']['uuid']\n"
   ]
  },
  {
   "cell_type": "code",
   "execution_count": null,
   "metadata": {},
   "outputs": [],
   "source": [
    "\n",
    "print (g.get_node_value(x1['id']))\n",
    "print (g.get_node_value(id))"
   ]
  },
  {
   "cell_type": "code",
   "execution_count": null,
   "metadata": {},
   "outputs": [],
   "source": [
    "\n",
    "\n",
    "# networkx code for making a graph with repeating num-op pattern\n",
    "\n",
    "import networkx as nx\n",
    "import matplotlib.pyplot as plt\n",
    "\n",
    "G = nx.DiGraph()\n",
    "\n",
    "G.add_node(1, name='x1', value=1, grad=0.0)\n",
    "G.add_node(2, name='sin', value=0, grad=0.0)\n",
    "G.add_node(3, name='x2', value=0, grad=0.0)\n",
    "G.add_node(4, name='sin', value=0, grad=0.0)\n",
    "G.add_node(5, name='x3', value=0, grad=0.0)\n",
    "G.add_node(6, name='sin', value=0, grad=0.0)\n",
    "G.add_node(7, name='x4', value=0, grad=0.0)\n",
    "G.add_node(8, name='sin', value=0, grad=0.0)\n",
    "G.add_node(9, name='x5', value=0, grad=0.0)\n",
    "G.add_node(10, name='sin', value=0, grad=0.0)\n",
    "G.add_node(11, name='x6', value=0, grad=0.0)\n",
    "G.add_node(12, name='sin', value=0, grad=0.0)\n",
    "G.add_node(13, name='x7', value=0, grad=0.0)\n",
    "G.add_node(14, name='sin', value=0, grad=0.0)\n",
    "G.add_node(15, name='x8', value=0, grad=0.0)\n",
    "G.add_node(16, name='sin', value=0, grad=0.0)\n",
    "G.add_node(17, name='x9', value=0, grad=0.0)\n",
    "G.add_node(18, name='sin', value=0, grad=0.0)\n",
    "G.add_node(19, name='x10', value=0, grad=0.0)\n",
    "G.add_node(20, name='sin', value=0, grad=0.0)\n",
    "G.add_node(21, name='x11', value=0, grad=0.0)   \n",
    "G.add_node(22, name='sin', value=0, grad=0.0)\n",
    "G.add_node(23, name='x12', value=0, grad=0.0)\n",
    "G.add_node(24, name='sin', value=0, grad=0.0)\n",
    "G.add_node(25, name='x13', value=0, grad=0.0)\n",
    "\n",
    "G.add_edge(1, 2)\n",
    "\n",
    "G.add_edge(2, 3)\n",
    "G.add_edge(3, 4)\n",
    "G.add_edge(4, 5)\n",
    "G.add_edge(5, 6)\n",
    "G.add_edge(6, 7)\n",
    "G.add_edge(7, 8)\n",
    "G.add_edge(8, 9)\n",
    "G.add_edge(9, 10)\n",
    "G.add_edge(10, 11)\n",
    "\n",
    "G.add_edge(11, 12)\n",
    "G.add_edge(12, 13)\n",
    "G.add_edge(13, 14)\n",
    "G.add_edge(14, 15)\n",
    "G.add_edge(15, 16)\n",
    "G.add_edge(16, 17)\n",
    "G.add_edge(17, 18)\n",
    "G.add_edge(18, 19)\n",
    "G.add_edge(19, 20)\n",
    "G.add_edge(20, 21)\n",
    "\n",
    "G.add_edge(21, 22)\n",
    "G.add_edge(22, 23)\n",
    "G.add_edge(23, 24)\n",
    "G.add_edge(24, 25)\n",
    "\n",
    "nx.draw(G, with_labels=True)\n",
    "plt.show()\n",
    "\n"
   ]
  },
  {
   "attachments": {},
   "cell_type": "markdown",
   "metadata": {},
   "source": []
  }
 ],
 "metadata": {
  "kernelspec": {
   "display_name": "Python 3",
   "language": "python",
   "name": "python3"
  },
  "language_info": {
   "codemirror_mode": {
    "name": "ipython",
    "version": 3
   },
   "file_extension": ".py",
   "mimetype": "text/x-python",
   "name": "python",
   "nbconvert_exporter": "python",
   "pygments_lexer": "ipython3",
   "version": "3.8.10"
  },
  "orig_nbformat": 4,
  "vscode": {
   "interpreter": {
    "hash": "3ad933181bd8a04b432d3370b9dc3b0662ad032c4dfaa4e4f1596c548f763858"
   }
  }
 },
 "nbformat": 4,
 "nbformat_minor": 2
}
