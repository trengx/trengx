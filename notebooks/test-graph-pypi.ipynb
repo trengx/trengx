{
 "cells": [
  {
   "attachments": {},
   "cell_type": "markdown",
   "metadata": {},
   "source": [
    "[![Open In Colab](https://colab.research.google.com/assets/colab-badge.svg)](https://githubtocolab.com/trengx/trengx-3/blob/main/notebooks/test-graph.ipynb)\n",
    "\n",
    "\n",
    "add .env in the same direcotry\n",
    "\n",
    ".env file example (use your own uri, user and password):\n",
    "\n",
    "uri= neo4j+s://9b65478d.databases.neo4j.io\n",
    "\n",
    "user= neo4j\n",
    "\n",
    "password = ICdpbgftOWqvGMWtaNpX545dxsgUCpvkRsOUg6KE71k"
   ]
  },
  {
   "cell_type": "code",
   "execution_count": 1,
   "metadata": {},
   "outputs": [
    {
     "name": "stdout",
     "output_type": "stream",
     "text": [
      "Requirement already satisfied: neo4j in /usr/local/python/3.10.4/lib/python3.10/site-packages (5.6.0)\n",
      "Requirement already satisfied: pytz in /home/codespace/.local/lib/python3.10/site-packages (from neo4j) (2022.7.1)\n",
      "Note: you may need to restart the kernel to use updated packages.\n",
      "Requirement already satisfied: python-dotenv in /usr/local/python/3.10.4/lib/python3.10/site-packages (1.0.0)\n",
      "Note: you may need to restart the kernel to use updated packages.\n",
      "Requirement already satisfied: trengx==0.0.9 in /usr/local/python/3.10.4/lib/python3.10/site-packages (0.0.9)\n",
      "Note: you may need to restart the kernel to use updated packages.\n"
     ]
    }
   ],
   "source": [
    "%pip install neo4j\n",
    "%pip install python-dotenv\n",
    "%pip install trengx==0.0.9"
   ]
  },
  {
   "cell_type": "code",
   "execution_count": 6,
   "metadata": {},
   "outputs": [],
   "source": [
    "import os\n",
    "from dotenv import load_dotenv\n",
    "from neo4j import GraphDatabase as graphdb\n",
    "from trengx import graph"
   ]
  },
  {
   "cell_type": "code",
   "execution_count": 7,
   "metadata": {},
   "outputs": [
    {
     "name": "stdout",
     "output_type": "stream",
     "text": [
      "OCkCWQBK0XN8BEXk3e6_smLzwkE72_2G1P4ENoZ6W8M\n"
     ]
    }
   ],
   "source": [
    "load_dotenv()  # Load environment variables from .env file\n",
    "uri = os.getenv(\"uri\")  # Get the value of the uri variable\n",
    "user = os.getenv(\"user\")  # Get the value of the user variable\n",
    "password = os.getenv(\"password\")  # Get the value of the pw variable\n",
    "\n",
    "g = graph.Graph(graphdb, uri, user, password)\n",
    "print (password)"
   ]
  },
  {
   "cell_type": "code",
   "execution_count": 8,
   "metadata": {},
   "outputs": [
    {
     "data": {
      "text/plain": [
       "{'name': 'Juno'}"
      ]
     },
     "execution_count": 8,
     "metadata": {},
     "output_type": "execute_result"
    }
   ],
   "source": [
    "g.add_node ('Person', 'name', 'Juno')"
   ]
  },
  {
   "attachments": {},
   "cell_type": "markdown",
   "metadata": {},
   "source": [
    "CREATE (:num {name: 'x', value: 1.4})\n",
    "CREATE (:num {name: 'y', value: 2.4})\n",
    "CREATE (:num {name: 'z', value: 0.0})\n",
    "CREATE (:op {name: '+'})"
   ]
  },
  {
   "cell_type": "code",
   "execution_count": 9,
   "metadata": {},
   "outputs": [
    {
     "ename": "TypeError",
     "evalue": "'NoneType' object is not subscriptable",
     "output_type": "error",
     "traceback": [
      "\u001b[0;31m---------------------------------------------------------------------------\u001b[0m",
      "\u001b[0;31mTypeError\u001b[0m                                 Traceback (most recent call last)",
      "Cell \u001b[0;32mIn[9], line 2\u001b[0m\n\u001b[1;32m      1\u001b[0m g\u001b[39m.\u001b[39madd_node (\u001b[39m'\u001b[39m\u001b[39mnum\u001b[39m\u001b[39m'\u001b[39m, \u001b[39m'\u001b[39m\u001b[39mname\u001b[39m\u001b[39m'\u001b[39m, \u001b[39m'\u001b[39m\u001b[39mx\u001b[39m\u001b[39m'\u001b[39m)\n\u001b[0;32m----> 2\u001b[0m g\u001b[39m.\u001b[39;49mset_node_prop(\u001b[39m'\u001b[39;49m\u001b[39mname\u001b[39;49m\u001b[39m'\u001b[39;49m, \u001b[39m'\u001b[39;49m\u001b[39mx\u001b[39;49m\u001b[39m'\u001b[39;49m, \u001b[39m'\u001b[39;49m\u001b[39mvalue\u001b[39;49m\u001b[39m'\u001b[39;49m, \u001b[39m3.6\u001b[39;49m)\n\u001b[1;32m      3\u001b[0m g\u001b[39m.\u001b[39madd_node (\u001b[39m'\u001b[39m\u001b[39mnum\u001b[39m\u001b[39m'\u001b[39m, \u001b[39m'\u001b[39m\u001b[39mname\u001b[39m\u001b[39m'\u001b[39m, \u001b[39m'\u001b[39m\u001b[39my\u001b[39m\u001b[39m'\u001b[39m)\n\u001b[1;32m      4\u001b[0m g\u001b[39m.\u001b[39mset_node_prop(\u001b[39m'\u001b[39m\u001b[39mname\u001b[39m\u001b[39m'\u001b[39m, \u001b[39m'\u001b[39m\u001b[39my\u001b[39m\u001b[39m'\u001b[39m, \u001b[39m'\u001b[39m\u001b[39mvalue\u001b[39m\u001b[39m'\u001b[39m, \u001b[39m1.4\u001b[39m)\n",
      "File \u001b[0;32m~/.python/current/lib/python3.10/site-packages/trengx/graph.py:97\u001b[0m, in \u001b[0;36mGraph.set_node_prop\u001b[0;34m(self, id_key, id_value, key, value)\u001b[0m\n\u001b[1;32m     95\u001b[0m \u001b[39mwith\u001b[39;00m \u001b[39mself\u001b[39m\u001b[39m.\u001b[39mdriver\u001b[39m.\u001b[39msession() \u001b[39mas\u001b[39;00m session:\n\u001b[1;32m     96\u001b[0m     result1 \u001b[39m=\u001b[39m session\u001b[39m.\u001b[39mexecute_write(\u001b[39mself\u001b[39m\u001b[39m.\u001b[39m_set_node_prop_tx, id_key, id_value, key, value)\n\u001b[0;32m---> 97\u001b[0m     result2 \u001b[39m=\u001b[39m \u001b[39mself\u001b[39;49m\u001b[39m.\u001b[39;49mdo_math (id_key, id_value)\n\u001b[1;32m     98\u001b[0m     \u001b[39mreturn\u001b[39;00m result1, result2\n",
      "File \u001b[0;32m~/.python/current/lib/python3.10/site-packages/trengx/graph.py:74\u001b[0m, in \u001b[0;36mGraph.do_math\u001b[0;34m(self, id_key, id_value)\u001b[0m\n\u001b[1;32m     72\u001b[0m \u001b[39mdef\u001b[39;00m \u001b[39mdo_math\u001b[39m(\u001b[39mself\u001b[39m, id_key, id_value):\n\u001b[1;32m     73\u001b[0m     \u001b[39mwith\u001b[39;00m \u001b[39mself\u001b[39m\u001b[39m.\u001b[39mdriver\u001b[39m.\u001b[39msession() \u001b[39mas\u001b[39;00m session:\n\u001b[0;32m---> 74\u001b[0m         result \u001b[39m=\u001b[39m session\u001b[39m.\u001b[39;49mexecute_write(\u001b[39mself\u001b[39;49m\u001b[39m.\u001b[39;49m_do_math_tx, id_key, id_value)\n\u001b[1;32m     75\u001b[0m         \u001b[39mreturn\u001b[39;00m result\n",
      "File \u001b[0;32m~/.python/current/lib/python3.10/site-packages/neo4j/_sync/work/session.py:672\u001b[0m, in \u001b[0;36mSession.execute_write\u001b[0;34m(self, transaction_function, *args, **kwargs)\u001b[0m\n\u001b[1;32m    627\u001b[0m \u001b[39mdef\u001b[39;00m \u001b[39mexecute_write\u001b[39m(\n\u001b[1;32m    628\u001b[0m     \u001b[39mself\u001b[39m,\n\u001b[1;32m    629\u001b[0m     transaction_function: t\u001b[39m.\u001b[39mCallable[\n\u001b[0;32m   (...)\u001b[0m\n\u001b[1;32m    632\u001b[0m     \u001b[39m*\u001b[39margs: _P\u001b[39m.\u001b[39margs,  \u001b[39m*\u001b[39m\u001b[39m*\u001b[39mkwargs: _P\u001b[39m.\u001b[39mkwargs\n\u001b[1;32m    633\u001b[0m ) \u001b[39m-\u001b[39m\u001b[39m>\u001b[39m _R:\n\u001b[1;32m    634\u001b[0m \u001b[39m    \u001b[39m\u001b[39m\"\"\"Execute a unit of work in a managed write transaction.\u001b[39;00m\n\u001b[1;32m    635\u001b[0m \n\u001b[1;32m    636\u001b[0m \u001b[39m    .. note::\u001b[39;00m\n\u001b[0;32m   (...)\u001b[0m\n\u001b[1;32m    670\u001b[0m \u001b[39m    .. versionadded:: 5.0\u001b[39;00m\n\u001b[1;32m    671\u001b[0m \u001b[39m    \"\"\"\u001b[39;00m\n\u001b[0;32m--> 672\u001b[0m     \u001b[39mreturn\u001b[39;00m \u001b[39mself\u001b[39;49m\u001b[39m.\u001b[39;49m_run_transaction(\n\u001b[1;32m    673\u001b[0m         WRITE_ACCESS, transaction_function, \u001b[39m*\u001b[39;49margs, \u001b[39m*\u001b[39;49m\u001b[39m*\u001b[39;49mkwargs\n\u001b[1;32m    674\u001b[0m     )\n",
      "File \u001b[0;32m~/.python/current/lib/python3.10/site-packages/neo4j/_sync/work/session.py:487\u001b[0m, in \u001b[0;36mSession._run_transaction\u001b[0;34m(self, access_mode, transaction_function, *args, **kwargs)\u001b[0m\n\u001b[1;32m    485\u001b[0m tx \u001b[39m=\u001b[39m \u001b[39mself\u001b[39m\u001b[39m.\u001b[39m_transaction\n\u001b[1;32m    486\u001b[0m \u001b[39mtry\u001b[39;00m:\n\u001b[0;32m--> 487\u001b[0m     result \u001b[39m=\u001b[39m transaction_function(tx, \u001b[39m*\u001b[39;49margs, \u001b[39m*\u001b[39;49m\u001b[39m*\u001b[39;49mkwargs)\n\u001b[1;32m    488\u001b[0m \u001b[39mexcept\u001b[39;00m asyncio\u001b[39m.\u001b[39mCancelledError:\n\u001b[1;32m    489\u001b[0m     \u001b[39m# if cancellation callback has not been called yet:\u001b[39;00m\n\u001b[1;32m    490\u001b[0m     \u001b[39mif\u001b[39;00m \u001b[39mself\u001b[39m\u001b[39m.\u001b[39m_transaction \u001b[39mis\u001b[39;00m \u001b[39mnot\u001b[39;00m \u001b[39mNone\u001b[39;00m:\n",
      "File \u001b[0;32m~/.python/current/lib/python3.10/site-packages/trengx/graph.py:70\u001b[0m, in \u001b[0;36mGraph._do_math_tx\u001b[0;34m(tx, id_key, id_value)\u001b[0m\n\u001b[1;32m     58\u001b[0m query \u001b[39m=\u001b[39m \u001b[39m\"\u001b[39m\u001b[39mMATCH (in1:num \u001b[39m\u001b[39m{\u001b[39m\u001b[39m\"\u001b[39m\u001b[39m+\u001b[39m id_key \u001b[39m+\u001b[39m \u001b[39m\"\u001b[39m\u001b[39m: $id_value})-[:num2op]->(o:op)<-[:num2op]-(in2:num)\u001b[39m\u001b[39m\"\u001b[39m \\\n\u001b[1;32m     59\u001b[0m     \u001b[39m\"\u001b[39m\u001b[39m MATCH (o)-[:op2num]->(out:num)\u001b[39m\u001b[39m\"\u001b[39m \\\n\u001b[1;32m     60\u001b[0m     \u001b[39m\"\u001b[39m\u001b[39m WITH in1, in2, out, o.name AS opName\u001b[39m\u001b[39m\"\u001b[39m \\\n\u001b[0;32m   (...)\u001b[0m\n\u001b[1;32m     67\u001b[0m     \u001b[39m\"\u001b[39m\u001b[39m END\u001b[39m\u001b[39m\"\u001b[39m \\\n\u001b[1;32m     68\u001b[0m     \u001b[39m\"\u001b[39m\u001b[39m RETURN out.value\u001b[39m\u001b[39m\"\u001b[39m\n\u001b[1;32m     69\u001b[0m result \u001b[39m=\u001b[39m tx\u001b[39m.\u001b[39mrun(query, id_key \u001b[39m=\u001b[39m id_key, id_value \u001b[39m=\u001b[39m id_value)\n\u001b[0;32m---> 70\u001b[0m \u001b[39mreturn\u001b[39;00m result\u001b[39m.\u001b[39;49msingle()[\u001b[39m0\u001b[39;49m]\n",
      "\u001b[0;31mTypeError\u001b[0m: 'NoneType' object is not subscriptable"
     ]
    }
   ],
   "source": [
    "g.add_node ('num', 'name', 'x')\n",
    "g.set_node_prop('name', 'x', 'value', 3.6)\n",
    "g.add_node ('num', 'name', 'y')\n",
    "g.set_node_prop('name', 'y', 'value', 1.4)\n",
    "g.add_node ('num', 'name', 'z')\n",
    "g.set_node_prop('name', 'z', 'value', 0.0)\n",
    "g.add_node ('op', 'name', '+')"
   ]
  },
  {
   "attachments": {},
   "cell_type": "markdown",
   "metadata": {},
   "source": [
    "MATCH (n:num {name: 'x'}), (o:op {name: '+'})\n",
    "CREATE (n)-[:num2op]->(o)\n",
    "\n",
    "MATCH (n:num {name: 'y'}), (o:op {name: '+'})\n",
    "CREATE (n)-[:num2op]->(o)\n",
    "\n",
    "MATCH (o:op {name: '+'}), (n:num {name: 'z'})\n",
    "CREATE (o)-[:op2num]->(n)"
   ]
  },
  {
   "cell_type": "code",
   "execution_count": 5,
   "metadata": {},
   "outputs": [
    {
     "data": {
      "text/plain": [
       "<bound method Result.data of <neo4j._sync.work.result.Result object at 0x7f792a8c5f90>>"
      ]
     },
     "execution_count": 5,
     "metadata": {},
     "output_type": "execute_result"
    }
   ],
   "source": [
    "g.add_edge('num2op', 'name', 'x', 'name', '+')\n",
    "g.add_edge('num2op', 'name', 'y', 'name', '+')\n",
    "g.add_edge('op2num', 'name', '+', 'name', 'z')"
   ]
  },
  {
   "attachments": {},
   "cell_type": "markdown",
   "metadata": {},
   "source": [
    "MATCH (x:num {name: 'x'})-[:num2op]->(o:op)<-[:num2op]-(y:num)\n",
    "MATCH (o)-[:op2num]->(z:num)\n",
    "WITH x, z,y, o.name AS opName\n",
    "SET z.value = CASE opName\n",
    "  WHEN '+' THEN x.value + y.value\n",
    "  WHEN '*' THEN x.value * y.value\n",
    "  ELSE z.value\n",
    "END"
   ]
  }
 ],
 "metadata": {
  "kernelspec": {
   "display_name": "Python 3",
   "language": "python",
   "name": "python3"
  },
  "language_info": {
   "codemirror_mode": {
    "name": "ipython",
    "version": 3
   },
   "file_extension": ".py",
   "mimetype": "text/x-python",
   "name": "python",
   "nbconvert_exporter": "python",
   "pygments_lexer": "ipython3",
   "version": "3.10.4"
  },
  "orig_nbformat": 4
 },
 "nbformat": 4,
 "nbformat_minor": 2
}
