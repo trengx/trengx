{
 "cells": [
  {
   "cell_type": "code",
   "execution_count": 2,
   "metadata": {},
   "outputs": [
    {
     "name": "stdout",
     "output_type": "stream",
     "text": [
      "Requirement already satisfied: neo4j in /usr/local/python/3.10.4/lib/python3.10/site-packages (5.6.0)\n",
      "Requirement already satisfied: pytz in /home/codespace/.local/lib/python3.10/site-packages (from neo4j) (2022.7.1)\n",
      "Note: you may need to restart the kernel to use updated packages.\n",
      "Requirement already satisfied: python-dotenv in /usr/local/python/3.10.4/lib/python3.10/site-packages (1.0.0)\n",
      "Note: you may need to restart the kernel to use updated packages.\n",
      "Collecting trengx==0.0.13\n",
      "  Downloading trengx-0.0.13-py3-none-any.whl (3.5 kB)\n",
      "Installing collected packages: trengx\n",
      "  Attempting uninstall: trengx\n",
      "    Found existing installation: trengx 0.0.12\n",
      "    Uninstalling trengx-0.0.12:\n",
      "      Successfully uninstalled trengx-0.0.12\n",
      "Successfully installed trengx-0.0.13\n",
      "Note: you may need to restart the kernel to use updated packages.\n"
     ]
    }
   ],
   "source": [
    "%pip install neo4j==5.7.0\n",
    "%pip install trengx==0.0.13"
   ]
  },
  {
   "cell_type": "code",
   "execution_count": 3,
   "metadata": {},
   "outputs": [],
   "source": [
    "import os\n",
    "from neo4j import GraphDatabase as graphdb\n",
    "from trengx import graph"
   ]
  },
  {
   "cell_type": "code",
   "execution_count": 4,
   "metadata": {},
   "outputs": [],
   "source": [
    "# Codespaces secrets\n",
    "uri = os.environ['NEO4J_URI'] # Get the value of the uri variable\n",
    "user = os.environ.get(\"NEO4J_USER\") # Get the value of the user variable\n",
    "password= os.getenv(\"NEO4J_PASSWORD\")  # Get the value of the pw variable\n",
    "\n",
    "# Create Graph Class\n",
    "g = graph.Graph(graphdb, uri, user, password)"
   ]
  },
  {
   "cell_type": "code",
   "execution_count": 7,
   "metadata": {},
   "outputs": [
    {
     "data": {
      "text/plain": [
       "{'node_id': 29,\n",
       " 'node_label': frozenset({'num'}),\n",
       " 'properties': {'name': 'x', 'value': 34.55}}"
      ]
     },
     "execution_count": 7,
     "metadata": {},
     "output_type": "execute_result"
    }
   ],
   "source": [
    "g.add_node ('num', 'x', {'value': 34.55}, merge=False)"
   ]
  }
 ],
 "metadata": {
  "kernelspec": {
   "display_name": "Python 3",
   "language": "python",
   "name": "python3"
  },
  "language_info": {
   "codemirror_mode": {
    "name": "ipython",
    "version": 3
   },
   "file_extension": ".py",
   "mimetype": "text/x-python",
   "name": "python",
   "nbconvert_exporter": "python",
   "pygments_lexer": "ipython3",
   "version": "3.10.4"
  },
  "orig_nbformat": 4
 },
 "nbformat": 4,
 "nbformat_minor": 2
}
