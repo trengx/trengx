{
 "cells": [
  {
   "attachments": {},
   "cell_type": "markdown",
   "metadata": {},
   "source": [
    "[![Open In Colab](https://colab.research.google.com/assets/colab-badge.svg)](https://githubtocolab.com/trengx/trengx-3/blob/main/notebooks/test-graph.ipynb)\n",
    "\n",
    "\n",
    "add .env in the same direcotry\n",
    "\n",
    ".env file example (use your own uri, user and password):\n",
    "\n",
    "uri= neo4j+s://9b65478d.databases.neo4j.io\n",
    "\n",
    "user= neo4j\n",
    "\n",
    "password = ICdpbgftOWqvGMWtaNpX545dxsgUCpvkRsOUg6KE71k"
   ]
  },
  {
   "cell_type": "code",
   "execution_count": 1,
   "metadata": {},
   "outputs": [
    {
     "name": "stdout",
     "output_type": "stream",
     "text": [
      "Requirement already satisfied: neo4j in /usr/local/python/3.10.4/lib/python3.10/site-packages (5.6.0)\n",
      "Requirement already satisfied: pytz in /home/codespace/.local/lib/python3.10/site-packages (from neo4j) (2022.7.1)\n",
      "Note: you may need to restart the kernel to use updated packages.\n",
      "Requirement already satisfied: python-dotenv in /usr/local/python/3.10.4/lib/python3.10/site-packages (1.0.0)\n",
      "Note: you may need to restart the kernel to use updated packages.\n",
      "Requirement already satisfied: trengx==0.0.5 in /usr/local/python/3.10.4/lib/python3.10/site-packages (0.0.5)\n",
      "Note: you may need to restart the kernel to use updated packages.\n"
     ]
    }
   ],
   "source": [
    "%pip install neo4j\n",
    "%pip install python-dotenv\n",
    "%pip install trengx==0.0.5"
   ]
  },
  {
   "cell_type": "code",
   "execution_count": 1,
   "metadata": {},
   "outputs": [],
   "source": [
    "import os\n",
    "from dotenv import load_dotenv\n",
    "from neo4j import GraphDatabase as graphdb\n",
    "from trengx import graph"
   ]
  },
  {
   "cell_type": "code",
   "execution_count": 2,
   "metadata": {},
   "outputs": [],
   "source": [
    "load_dotenv()  # Load environment variables from .env file\n",
    "uri = os.getenv(\"uri\")  # Get the value of the uri variable\n",
    "user = os.getenv(\"user\")  # Get the value of the user variable\n",
    "password = os.getenv(\"password\")  # Get the value of the pw variable\n",
    "\n",
    "g = graph.Graph(graphdb, uri, user, password)"
   ]
  },
  {
   "cell_type": "code",
   "execution_count": 3,
   "metadata": {},
   "outputs": [
    {
     "data": {
      "text/plain": [
       "{'name': 'Juno'}"
      ]
     },
     "execution_count": 3,
     "metadata": {},
     "output_type": "execute_result"
    }
   ],
   "source": [
    "g.add_node ('Person', 'name', 'Juno')"
   ]
  },
  {
   "cell_type": "code",
   "execution_count": null,
   "metadata": {},
   "outputs": [],
   "source": []
  },
  {
   "attachments": {},
   "cell_type": "markdown",
   "metadata": {},
   "source": [
    "CREATE (:num {name: 'x', value: 1.4})\n",
    "CREATE (:num {name: 'y', value: 2.4})\n",
    "CREATE (:num {name: 'z', value: 0.0})\n",
    "CREATE (:op {name: '+'})"
   ]
  },
  {
   "cell_type": "code",
   "execution_count": 4,
   "metadata": {},
   "outputs": [
    {
     "data": {
      "text/plain": [
       "{'name': '+'}"
      ]
     },
     "execution_count": 4,
     "metadata": {},
     "output_type": "execute_result"
    }
   ],
   "source": [
    "g.add_node ('num', 'name', 'x')\n",
    "g.set_node_prop('name', 'x', 'value', 3.6)\n",
    "g.add_node ('num', 'name', 'y')\n",
    "g.set_node_prop('name', 'y', 'value', 1.4)\n",
    "g.add_node ('num', 'name', 'z')\n",
    "g.set_node_prop('name', 'z', 'value', 0.0)\n",
    "g.add_node ('op', 'name', '+')"
   ]
  },
  {
   "attachments": {},
   "cell_type": "markdown",
   "metadata": {},
   "source": [
    "MATCH (n:num {name: 'x'}), (o:op {name: '+'})\n",
    "CREATE (n)-[:num2op]->(o)\n",
    "\n",
    "MATCH (n:num {name: 'y'}), (o:op {name: '+'})\n",
    "CREATE (n)-[:num2op]->(o)\n",
    "\n",
    "MATCH (o:op {name: '+'}), (n:num {name: 'z'})\n",
    "CREATE (o)-[:op2num]->(n)"
   ]
  },
  {
   "cell_type": "code",
   "execution_count": 5,
   "metadata": {},
   "outputs": [
    {
     "data": {
      "text/plain": [
       "<bound method Result.data of <neo4j._sync.work.result.Result object at 0x7f792a8c5f90>>"
      ]
     },
     "execution_count": 5,
     "metadata": {},
     "output_type": "execute_result"
    }
   ],
   "source": [
    "g.add_edge('num2op', 'name', 'x', 'name', '+')\n",
    "g.add_edge('num2op', 'name', 'y', 'name', '+')\n",
    "g.add_edge('op2num', 'name', '+', 'name', 'z')"
   ]
  },
  {
   "attachments": {},
   "cell_type": "markdown",
   "metadata": {},
   "source": [
    "MATCH (x:num {name: 'x'})-[:num2op]->(o:op)<-[:num2op]-(y:num)\n",
    "MATCH (o)-[:op2num]->(z:num)\n",
    "WITH x, z,y, o.name AS opName\n",
    "SET z.value = CASE opName\n",
    "  WHEN '+' THEN x.value + y.value\n",
    "  WHEN '*' THEN x.value * y.value\n",
    "  ELSE z.value\n",
    "END"
   ]
  }
 ],
 "metadata": {
  "kernelspec": {
   "display_name": "Python 3",
   "language": "python",
   "name": "python3"
  },
  "language_info": {
   "codemirror_mode": {
    "name": "ipython",
    "version": 3
   },
   "file_extension": ".py",
   "mimetype": "text/x-python",
   "name": "python",
   "nbconvert_exporter": "python",
   "pygments_lexer": "ipython3",
   "version": "3.10.4"
  },
  "orig_nbformat": 4
 },
 "nbformat": 4,
 "nbformat_minor": 2
}
