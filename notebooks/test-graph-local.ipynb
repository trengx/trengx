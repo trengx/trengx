{
 "cells": [
  {
   "cell_type": "code",
   "execution_count": null,
   "metadata": {},
   "outputs": [],
   "source": [
    "%pip install neo4j\n",
    "%pip install python-dotenv"
   ]
  },
  {
   "cell_type": "code",
   "execution_count": 1,
   "metadata": {},
   "outputs": [],
   "source": [
    "import os\n",
    "from dotenv import load_dotenv\n",
    "from neo4j import GraphDatabase as graphdb"
   ]
  },
  {
   "cell_type": "code",
   "execution_count": 2,
   "metadata": {},
   "outputs": [],
   "source": [
    "import sys\n",
    "sys.path.append('../trengx')\n",
    "import graph"
   ]
  },
  {
   "cell_type": "code",
   "execution_count": 3,
   "metadata": {},
   "outputs": [
    {
     "name": "stdout",
     "output_type": "stream",
     "text": [
      "OCkCWQBK0XN8BEXk3e6_smLzwkE72_2G1P4ENoZ6W8M\n"
     ]
    }
   ],
   "source": [
    "load_dotenv()  # Load environment variables from .env file\n",
    "uri = os.getenv(\"uri\")  # Get the value of the uri variable\n",
    "user = os.getenv(\"user\")  # Get the value of the user variable\n",
    "password = os.getenv(\"password\")  # Get the value of the pw variable\n",
    "\n",
    "g = graph.Graph(graphdb, uri, user, password)\n",
    "print (password)"
   ]
  },
  {
   "cell_type": "code",
   "execution_count": 5,
   "metadata": {},
   "outputs": [
    {
     "data": {
      "text/plain": [
       "{'name': '+'}"
      ]
     },
     "execution_count": 5,
     "metadata": {},
     "output_type": "execute_result"
    }
   ],
   "source": [
    "g.add_node ('num', 'name', 'x')\n",
    "g.set_node_prop('name', 'x', 'value', 3.6, False)\n",
    "g.add_node ('num', 'name', 'y')\n",
    "g.set_node_prop('name', 'y', 'value', 1.4, False)\n",
    "g.add_node ('num', 'name', 'z')\n",
    "g.set_node_prop('name', 'z', 'value', 0.0, False)\n",
    "g.add_node ('op', 'name', '+')"
   ]
  },
  {
   "cell_type": "code",
   "execution_count": 6,
   "metadata": {},
   "outputs": [
    {
     "data": {
      "text/plain": [
       "<bound method Result.data of <neo4j._sync.work.result.Result object at 0x7f3fcf0306d0>>"
      ]
     },
     "execution_count": 6,
     "metadata": {},
     "output_type": "execute_result"
    }
   ],
   "source": [
    "g.add_edge('num2op', 'name', 'x', 'name', '+')\n",
    "g.add_edge('num2op', 'name', 'y', 'name', '+')\n",
    "g.add_edge('op2num', 'name', '+', 'name', 'z')"
   ]
  },
  {
   "cell_type": "code",
   "execution_count": 7,
   "metadata": {},
   "outputs": [
    {
     "data": {
      "text/plain": [
       "[['name', 'x', 'value', 9], 10.4]"
      ]
     },
     "execution_count": 7,
     "metadata": {},
     "output_type": "execute_result"
    }
   ],
   "source": [
    "g.set_node_prop('name', 'x', 'value', 9, True)"
   ]
  }
 ],
 "metadata": {
  "kernelspec": {
   "display_name": "Python 3",
   "language": "python",
   "name": "python3"
  },
  "language_info": {
   "codemirror_mode": {
    "name": "ipython",
    "version": 3
   },
   "file_extension": ".py",
   "mimetype": "text/x-python",
   "name": "python",
   "nbconvert_exporter": "python",
   "pygments_lexer": "ipython3",
   "version": "3.10.4"
  },
  "orig_nbformat": 4
 },
 "nbformat": 4,
 "nbformat_minor": 2
}
