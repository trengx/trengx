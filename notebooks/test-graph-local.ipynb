{
 "cells": [
  {
   "cell_type": "code",
   "execution_count": 1,
   "metadata": {},
   "outputs": [],
   "source": [
    "# import os\n",
    "# from neo4j import GraphDatabase as graphdb\n",
    "# from trengx import graph\n",
    "\n",
    "import os\n",
    "from dotenv import load_dotenv\n",
    "from neo4j import GraphDatabase as graphdb\n",
    "import sys\n",
    "sys.path.append('../trengx')\n",
    "import graph"
   ]
  },
  {
   "cell_type": "code",
   "execution_count": 2,
   "metadata": {},
   "outputs": [],
   "source": [
    "# .env secrets\n",
    "uri = os.getenv('NEO4J_URI') # Get the value of the uri variable\n",
    "user = os.getenv('NEO4J_USER') # Get the value of the user variable\n",
    "password= os.getenv('NEO4J_PASSWORD')  # Get the value of the pw variable\n",
    "\n",
    "# Create a Graph class instance\n",
    "g = graph.Graph(graphdb, uri, user, password)\n"
   ]
  },
  {
   "cell_type": "code",
   "execution_count": 3,
   "metadata": {},
   "outputs": [
    {
     "data": {
      "text/plain": [
       "\"result = g.set_node_value(y_im1_id, 8)\\nprint (result)\\nresult = g.get_node_prop(e_i_id, 'value')\\nprint (result)\\ng.close()\\n\""
      ]
     },
     "execution_count": 3,
     "metadata": {},
     "output_type": "execute_result"
    }
   ],
   "source": [
    "g.delete_all()\n",
    "\n",
    "# y_est[i] = w_est[i]*y[i-1]\n",
    "w_est_i = g.add_node ('num', 'w_est_i', {'value': 0.1})\n",
    "w_est_i_id = w_est_i['node_id']\n",
    "y_im1 = g.add_node ('num', 'y_im1 ', {'value': 10})\n",
    "y_im1_id = y_im1['node_id']\n",
    "mul = g.add_node ('op', '*', {'reverse':False})\n",
    "mul_id = mul['node_id']\n",
    "g.add_edge ('num2op', w_est_i_id, mul_id, {'trigger':False})\n",
    "g.add_edge ('num2op', y_im1_id, mul_id, {'trigger':True})\n",
    "y_est_i = g.add_node ('num', 'y_est_i', {'value': 0})\n",
    "y_est_i_id = y_est_i['node_id']\n",
    "g.add_edge ('op2num', mul_id, y_est_i_id, {'trigger':True})\n",
    "\n",
    "# e[i] = y[i] - y_est[i]\n",
    "y_i = g.add_node ('num', 'y_i', {'value': 2})\n",
    "y_i_id = y_i['node_id']\n",
    "sub = g.add_node ('op', '-', {'reverse':True})\n",
    "sub_id = sub['node_id']\n",
    "g.add_edge ('num2op', y_i_id, sub_id, {'trigger':False})\n",
    "g.add_edge ('num2op', y_est_i_id, sub_id, {'trigger':True})\n",
    "e_i = g.add_node ('num', 'e_i', {'value': 0.2})\n",
    "e_i_id = e_i['node_id']\n",
    "g.add_edge ('op2num', sub_id, e_i_id, {'trigger':True})\n",
    "\n",
    "# w_est[i+1] = w_est[i] + lr*y[i-1]*e[i]\n",
    "mul = g.add_node ('op', '*', {'reverse':False})\n",
    "mul_id = mul['node_id']\n",
    "g.add_edge ('num2op', y_im1_id, mul_id, {'trigger':False})\n",
    "g.add_edge ('num2op', e_i_id, mul_id, {'trigger':True})\n",
    "temp1 = g.add_node ('num', 'temp1', {'value': 1.0})\n",
    "temp_id_1 = temp1['node_id']\n",
    "g.add_edge ('op2num', mul_id, temp_id_1, {'trigger':True})\n",
    "lr = g.add_node ('num', 'lr', {'value': 0.001})\n",
    "lr_id = lr['node_id']\n",
    "mul = g.add_node ('op', '*', {'reverse':False})\n",
    "mul_id = mul['node_id']\n",
    "g.add_edge ('num2op', temp_id_1, mul_id,{'trigger':True})\n",
    "g.add_edge ('num2op', lr_id, mul_id, {'trigger':False})\n",
    "temp2 = g.add_node ('num', 'temp2', {'value': 1.0})\n",
    "temp_id_2 = temp2['node_id']\n",
    "g.add_edge ('op2num', mul_id, temp_id_2, {'trigger':True})\n",
    "add = g.add_node ('op', '+', {'reverse':False})\n",
    "add_id = add['node_id']\n",
    "g.add_edge ('num2op', w_est_i_id, add_id, {'trigger':False})\n",
    "g.add_edge ('num2op', temp_id_2, add_id, {'trigger':True})\n",
    "w_est_ip1 = g.add_node ('num', 'w_est_ip1', {'value': 0.2})\n",
    "w_est_ip1_id = w_est_ip1['node_id']\n",
    "g.add_edge ('op2num', add_id, w_est_ip1_id, {'trigger':True})\n"
   ]
  },
  {
   "cell_type": "code",
   "execution_count": 6,
   "metadata": {},
   "outputs": [
    {
     "name": "stdout",
     "output_type": "stream",
     "text": [
      "1.0\n",
      "1.0\n",
      "10.0\n",
      "0.01\n",
      "0.11\n"
     ]
    }
   ],
   "source": [
    "query = \"\"\"\n",
    "MATCH path = (in1)-[r:num2op|op2num*0..]->()\n",
    "WHERE id(in1) = $node_id AND all(rel IN relationships(path) WHERE rel.trigger = true)\n",
    "WITH path\n",
    "ORDER BY length(path) DESC\n",
    "LIMIT 1\n",
    "WITH nodes(path) AS nodes\n",
    "UNWIND range(0, size(nodes)-2, 2) AS i\n",
    "WITH nodes[i] AS in1, nodes[i+1] AS op, nodes[i+2] AS out\n",
    "MATCH (in1)-[:num2op]->(op)-[:op2num]->(out), (in2)-[:num2op]->(op)\n",
    "WITH in1, op, out, in2\n",
    "SET out.value = \n",
    "  CASE \n",
    "    WHEN op.name = '+' THEN in1.value + in2.value\n",
    "    WHEN op.name = '-' AND op.reverse = false THEN in1.value - in2.value\n",
    "    WHEN op.name = '-' AND op.reverse = true THEN in2.value - in1.value\n",
    "    WHEN op.name = '*' THEN in1.value * in2.value\n",
    "    WHEN op.name = '/' AND op.reverse = false THEN in1.value / in2.value\n",
    "    WHEN op.name = '/' AND op.reverse = true THEN in2.value / in1.value\n",
    "    ELSE out.value\n",
    "  END\n",
    "RETURN out\n",
    "\"\"\"\n",
    "params = {\"node_id\": y_im1_id}  \n",
    "g.run_query(query, params)\n",
    "print (g.get_node_prop(y_est_i_id, 'value'))\n",
    "print (g.get_node_prop(e_i_id, 'value'))\n",
    "print (g.get_node_prop(temp_id_1, 'value'))\n",
    "print (g.get_node_prop(temp_id_2, 'value'))\n",
    "print (g.get_node_prop(w_est_ip1_id, 'value'))\n"
   ]
  },
  {
   "attachments": {},
   "cell_type": "markdown",
   "metadata": {},
   "source": []
  }
 ],
 "metadata": {
  "kernelspec": {
   "display_name": "Python 3",
   "language": "python",
   "name": "python3"
  },
  "language_info": {
   "codemirror_mode": {
    "name": "ipython",
    "version": 3
   },
   "file_extension": ".py",
   "mimetype": "text/x-python",
   "name": "python",
   "nbconvert_exporter": "python",
   "pygments_lexer": "ipython3",
   "version": "3.8.10"
  },
  "orig_nbformat": 4,
  "vscode": {
   "interpreter": {
    "hash": "3ad933181bd8a04b432d3370b9dc3b0662ad032c4dfaa4e4f1596c548f763858"
   }
  }
 },
 "nbformat": 4,
 "nbformat_minor": 2
}
