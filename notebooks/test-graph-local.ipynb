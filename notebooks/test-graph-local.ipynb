{
 "cells": [
  {
   "cell_type": "code",
   "execution_count": 1,
   "metadata": {},
   "outputs": [],
   "source": [
    "# import os\n",
    "# from neo4j import GraphDatabase as graphdb\n",
    "# from trengx import graph\n",
    "\n",
    "import os\n",
    "from dotenv import load_dotenv\n",
    "from neo4j import GraphDatabase as graphdb\n",
    "import sys\n",
    "sys.path.append('../trengx')\n",
    "import graph"
   ]
  },
  {
   "cell_type": "code",
   "execution_count": 2,
   "metadata": {},
   "outputs": [],
   "source": [
    "# .env secrets\n",
    "uri = os.getenv('NEO4J_URI') # Get the value of the uri variable\n",
    "user = os.getenv('NEO4J_USER') # Get the value of the user variable\n",
    "password= os.getenv('NEO4J_PASSWORD')  # Get the value of the pw variable\n",
    "\n",
    "# Create a Graph class instance\n",
    "g = graph.Graph(graphdb, uri, user, password)\n"
   ]
  },
  {
   "cell_type": "code",
   "execution_count": 44,
   "metadata": {},
   "outputs": [
    {
     "name": "stdout",
     "output_type": "stream",
     "text": [
      "4\n",
      "5\n"
     ]
    },
    {
     "data": {
      "text/plain": [
       "\"result = g.set_node_value(y_im1_id, 8)\\nprint (result)\\nresult = g.get_node_prop(e_i_id, 'value')\\nprint (result)\\ng.close()\\n\""
      ]
     },
     "execution_count": 44,
     "metadata": {},
     "output_type": "execute_result"
    }
   ],
   "source": [
    "g.delete_all()\n",
    "\n",
    "# y_est[i] = w_est[i]*y[i-1]\n",
    "w_est_i = g.add_node ('num', 'w_est_i', {'value': 1})\n",
    "w_est_i_id = w_est_i['node_id']\n",
    "y_im1 = g.add_node ('num', 'y_im1 ', {'value': 1})\n",
    "y_im1_id = y_im1['node_id']\n",
    "mul = g.add_node ('op', '*', {'reverse':False})\n",
    "mul_id = mul['node_id']\n",
    "print (mul_id)\n",
    "g.add_edge ('num2op', w_est_i_id, mul_id, {'trigger':False})\n",
    "g.add_edge ('num2op', y_im1_id, mul_id, {'trigger':True})\n",
    "y_est_i = g.add_node ('num', 'y_est_i', {'value': 1})\n",
    "y_est_i_id = y_est_i['node_id']\n",
    "print (y_est_i_id)\n",
    "g.add_edge ('op2num', mul_id, y_est_i_id, {'trigger':False})\n",
    "\n",
    "# e[i] = y[i] - y_est[i]\n",
    "y_i = g.add_node ('num', 'y_i', {'value': 1.0})\n",
    "y_i_id = y_i['node_id']\n",
    "sub = g.add_node ('op', '-', {'reverse':True})\n",
    "sub_id = sub['node_id']\n",
    "g.add_edge ('num2op', y_i_id, sub_id, {'trigger':False})\n",
    "g.add_edge ('num2op', y_est_i_id, sub_id, {'trigger':True})\n",
    "e_i = g.add_node ('num', 'e_i', {'value': 2})\n",
    "e_i_id = e_i['node_id']\n",
    "g.add_edge ('op2num', sub_id, e_i_id)\n",
    "\n",
    "'''result = g.set_node_value(y_im1_id, 8)\n",
    "print (result)\n",
    "result = g.get_node_prop(e_i_id, 'value')\n",
    "print (result)\n",
    "g.close()\n",
    "'''"
   ]
  },
  {
   "cell_type": "code",
   "execution_count": 92,
   "metadata": {},
   "outputs": [
    {
     "data": {
      "text/plain": [
       "[{'in1': {'name': 'y_im1 ', 'value': 1},\n",
       "  'op': {'name': '*', 'reverse': False},\n",
       "  'out': {'name': 'y_est_i', 'value': 1}},\n",
       " {'in1': {'name': 'y_est_i', 'value': 1},\n",
       "  'op': {'name': '-', 'reverse': True},\n",
       "  'out': {'name': 'y_i', 'value': 1.0}}]"
      ]
     },
     "execution_count": 92,
     "metadata": {},
     "output_type": "execute_result"
    }
   ],
   "source": [
    "query = \"\"\"\n",
    "MATCH (in1) WHERE id(in1) = $node_id\n",
    "CALL apoc.path.expand(in1, \"num2op|op2num>\", \"num|op\", 0, -1) \n",
    "YIELD path\n",
    "WITH nodes(path) AS node_sets\n",
    "ORDER BY size(node_sets) DESC\n",
    "LIMIT 1 \n",
    "WITH node_sets as nodes\n",
    "UNWIND range(0, size(nodes)-2, 2) AS i\n",
    "WITH nodes[i] AS in1, nodes[i+1] AS op, nodes[i+2] AS out\n",
    "return in1, op, out\n",
    "\"\"\"\n",
    "\n",
    "\n",
    "params = {\"node_id\": y_im1_id}  \n",
    "result = g.run_query(query, params)\n",
    "result"
   ]
  },
  {
   "cell_type": "code",
   "execution_count": 89,
   "metadata": {},
   "outputs": [],
   "source": [
    "query = \"\"\"\n",
    "MATCH (in1) WHERE id(in1) = $node_id\n",
    "CALL apoc.path.expand(in1, \"num2op|op2num>\", \"num|op\", 0, -1) \n",
    "YIELD path\n",
    "WITH nodes(path) AS node_sets\n",
    "ORDER BY size(node_sets) DESC\n",
    "LIMIT 1 \n",
    "WITH node_sets as nodes\n",
    "UNWIND range(0, size(nodes)-2, 2) AS i\n",
    "WITH nodes[i] AS in1, nodes[i+1] AS op, nodes[i+2] AS out\n",
    "return in1, op, out\n",
    "\"\"\""
   ]
  },
  {
   "cell_type": "code",
   "execution_count": null,
   "metadata": {},
   "outputs": [],
   "source": [
    "CALL apoc.path.expand(in1, \"num2op|op2num>\", \"num|op\", 0, -1) \n",
    "YIELD path\n",
    "WITH nodes(path) AS nodes\n",
    "ORDER BY size(nodes) DESC\n",
    "LIMIT 1\n",
    "UNWIND range(0, size(nodes)-2, 2) AS i\n",
    "WITH nodes[i] AS in1, nodes[i+1] AS op, nodes[i+2] AS in2, nodes[i+3] AS out\n",
    "WHERE (in1)-[:num2op]->(op)-[:op2num]->(out)\n",
    "CALL apoc.do.case(\n",
    "  [\n",
    "    op.name = 'add', 'SET out.value = in1.value + in2.value',\n",
    "    op.name = 'subtract' AND op.reverse IS NULL, 'SET out.value = in1.value - in2.value',\n",
    "    op.name = 'subtract' AND op.reverse = true, 'SET out.value = in2.value - in1.value',\n",
    "    op.name = 'multiply', 'SET out.value = in1.value * in2.value',\n",
    "    op.name = 'divide' AND op.reverse IS NULL, 'SET out.value = in1.value / in2.value',\n",
    "    op.name = 'divide' AND op.reverse = true, 'SET out.value = in2.value / in1.value'\n",
    "  ],\n",
    "  'RETURN out.value'\n",
    ") YIELD value\n",
    "WITH out, value.value AS newVal\n",
    "SET out.value = newVal\n",
    "RETURN out\n"
   ]
  },
  {
   "attachments": {},
   "cell_type": "markdown",
   "metadata": {},
   "source": []
  }
 ],
 "metadata": {
  "kernelspec": {
   "display_name": "Python 3",
   "language": "python",
   "name": "python3"
  },
  "language_info": {
   "codemirror_mode": {
    "name": "ipython",
    "version": 3
   },
   "file_extension": ".py",
   "mimetype": "text/x-python",
   "name": "python",
   "nbconvert_exporter": "python",
   "pygments_lexer": "ipython3",
   "version": "3.8.10"
  },
  "orig_nbformat": 4,
  "vscode": {
   "interpreter": {
    "hash": "3ad933181bd8a04b432d3370b9dc3b0662ad032c4dfaa4e4f1596c548f763858"
   }
  }
 },
 "nbformat": 4,
 "nbformat_minor": 2
}
