{
 "cells": [
  {
   "cell_type": "code",
   "execution_count": 1,
   "metadata": {},
   "outputs": [
    {
     "name": "stdout",
     "output_type": "stream",
     "text": [
      "Collecting neo4j\n",
      "  Downloading neo4j-5.7.0.tar.gz (176 kB)\n",
      "\u001b[2K     \u001b[90m━━━━━━━━━━━━━━━━━━━━━━━━━━━━━━━━━━━━━━━\u001b[0m \u001b[32m176.3/176.3 kB\u001b[0m \u001b[31m6.3 MB/s\u001b[0m eta \u001b[36m0:00:00\u001b[0m\n",
      "\u001b[?25h  Installing build dependencies ... \u001b[?25ldone\n",
      "\u001b[?25h  Getting requirements to build wheel ... \u001b[?25ldone\n",
      "\u001b[?25h  Installing backend dependencies ... \u001b[?25ldone\n",
      "\u001b[?25h  Preparing metadata (pyproject.toml) ... \u001b[?25ldone\n",
      "\u001b[?25hRequirement already satisfied: pytz in /home/codespace/.local/lib/python3.10/site-packages (from neo4j) (2022.7.1)\n",
      "Building wheels for collected packages: neo4j\n",
      "  Building wheel for neo4j (pyproject.toml) ... \u001b[?25ldone\n",
      "\u001b[?25h  Created wheel for neo4j: filename=neo4j-5.7.0-py3-none-any.whl size=243940 sha256=96f69a6ad05d9f5e471503adcda0dd4934fdc7bfce9fb315f9d6d7989f163a8d\n",
      "  Stored in directory: /home/codespace/.cache/pip/wheels/98/8b/97/425ebf2326ffa67bbfd80e9885f57932d8f538e7dfc0bf1beb\n",
      "Successfully built neo4j\n",
      "Installing collected packages: neo4j\n",
      "Successfully installed neo4j-5.7.0\n",
      "Note: you may need to restart the kernel to use updated packages.\n",
      "Collecting python-dotenv\n",
      "  Downloading python_dotenv-1.0.0-py3-none-any.whl (19 kB)\n",
      "Installing collected packages: python-dotenv\n",
      "Successfully installed python-dotenv-1.0.0\n",
      "Note: you may need to restart the kernel to use updated packages.\n"
     ]
    }
   ],
   "source": [
    "%pip install neo4j\n",
    "%pip install python-dotenv"
   ]
  },
  {
   "cell_type": "code",
   "execution_count": 1,
   "metadata": {},
   "outputs": [],
   "source": [
    "import os\n",
    "from dotenv import load_dotenv\n",
    "from neo4j import GraphDatabase as graphdb\n",
    "import sys\n",
    "sys.path.append('../trengx')\n",
    "import graph"
   ]
  },
  {
   "cell_type": "code",
   "execution_count": 2,
   "metadata": {},
   "outputs": [],
   "source": [
    "load_dotenv()  # Load environment variables from .env file\n",
    "uri = os.getenv(\"uri\")  # Get the value of the uri variable\n",
    "user = os.getenv(\"user\")  # Get the value of the user variable\n",
    "password = os.getenv(\"password\")  # Get the value of the pw variable\n",
    "g = graph.Graph(graphdb, uri, user, password)\n"
   ]
  },
  {
   "cell_type": "code",
   "execution_count": 6,
   "metadata": {},
   "outputs": [],
   "source": [
    "g.close()"
   ]
  },
  {
   "cell_type": "code",
   "execution_count": 3,
   "metadata": {},
   "outputs": [
    {
     "data": {
      "text/plain": [
       "[{'node_id': 7, 'properties': {'name': 'z', 'value': 0.0}}]"
      ]
     },
     "execution_count": 3,
     "metadata": {},
     "output_type": "execute_result"
    }
   ],
   "source": [
    "x = g.add_node ('num', 'x', merge=True)\n",
    "x_id = x['node_id']\n",
    "g.set_node_prop(x_id, 'value', 2.0, False)\n",
    "\n",
    "y = g.add_node ('num', 'y', merge=True)\n",
    "y_id = y['node_id']\n",
    "g.set_node_prop(y_id, 'value', 3.0, False)\n",
    "\n",
    "op = g.add_node ('op', '*',  merge=True)\n",
    "op_id = op['node_id']\n",
    "\n",
    "g.add_edge('num2op', x_id, op_id, merge=True)\n",
    "g.add_edge('num2op', y_id, op_id, merge=True)\n",
    "\n",
    "z = g.add_node ('num', 'z', merge=True)\n",
    "z_id = z['node_id']\n",
    "g.set_node_prop(z_id, 'value', 0.0, False)"
   ]
  },
  {
   "cell_type": "code",
   "execution_count": 4,
   "metadata": {},
   "outputs": [
    {
     "name": "stdout",
     "output_type": "stream",
     "text": [
      "[]\n"
     ]
    },
    {
     "ename": "UnboundLocalError",
     "evalue": "local variable 'out_id' referenced before assignment",
     "output_type": "error",
     "traceback": [
      "\u001b[0;31m---------------------------------------------------------------------------\u001b[0m",
      "\u001b[0;31mUnboundLocalError\u001b[0m                         Traceback (most recent call last)",
      "Cell \u001b[0;32mIn[4], line 1\u001b[0m\n\u001b[0;32m----> 1\u001b[0m g\u001b[39m.\u001b[39;49mset_node_prop(x_id, \u001b[39m'\u001b[39;49m\u001b[39mvalue\u001b[39;49m\u001b[39m'\u001b[39;49m, \u001b[39m5.0\u001b[39;49m, \u001b[39mTrue\u001b[39;49;00m)\n",
      "File \u001b[0;32m/workspaces/trengx/notebooks/../trengx/graph.py:134\u001b[0m, in \u001b[0;36mGraph.set_node_prop\u001b[0;34m(self, node_id, key, value, do_math)\u001b[0m\n\u001b[1;32m    132\u001b[0m         outgoing_edge \u001b[39m=\u001b[39m \u001b[39mself\u001b[39m\u001b[39m.\u001b[39mcheck_outgoing_edge(node_id)\n\u001b[1;32m    133\u001b[0m         \u001b[39mif\u001b[39;00m outgoing_edge \u001b[39mis\u001b[39;00m \u001b[39mTrue\u001b[39;00m:\n\u001b[0;32m--> 134\u001b[0m             result2 \u001b[39m=\u001b[39m \u001b[39mself\u001b[39;49m\u001b[39m.\u001b[39;49mdo_math(node_id)\n\u001b[1;32m    135\u001b[0m             results\u001b[39m.\u001b[39mappend(result2)\n\u001b[1;32m    136\u001b[0m \u001b[39mreturn\u001b[39;00m results\n",
      "File \u001b[0;32m/workspaces/trengx/notebooks/../trengx/graph.py:93\u001b[0m, in \u001b[0;36mGraph.do_math\u001b[0;34m(self, node_id)\u001b[0m\n\u001b[1;32m     91\u001b[0m \u001b[39m\u001b[39m\u001b[39m\"\"\"Function for doing math\"\"\"\u001b[39;00m\n\u001b[1;32m     92\u001b[0m \u001b[39mwith\u001b[39;00m \u001b[39mself\u001b[39m\u001b[39m.\u001b[39mdriver\u001b[39m.\u001b[39msession() \u001b[39mas\u001b[39;00m session:\n\u001b[0;32m---> 93\u001b[0m     result \u001b[39m=\u001b[39m session\u001b[39m.\u001b[39;49mexecute_write(\u001b[39mself\u001b[39;49m\u001b[39m.\u001b[39;49m_do_math_tx, node_id)\n\u001b[1;32m     94\u001b[0m     \u001b[39mself\u001b[39m\u001b[39m.\u001b[39mset_node_prop(result[\u001b[39m0\u001b[39m], result[\u001b[39m1\u001b[39m], result[\u001b[39m2\u001b[39m], \u001b[39mTrue\u001b[39;00m)\n\u001b[1;32m     95\u001b[0m     \u001b[39mreturn\u001b[39;00m result\n",
      "File \u001b[0;32m~/.python/current/lib/python3.10/site-packages/neo4j/_sync/work/session.py:675\u001b[0m, in \u001b[0;36mSession.execute_write\u001b[0;34m(self, transaction_function, *args, **kwargs)\u001b[0m\n\u001b[1;32m    630\u001b[0m \u001b[39mdef\u001b[39;00m \u001b[39mexecute_write\u001b[39m(\n\u001b[1;32m    631\u001b[0m     \u001b[39mself\u001b[39m,\n\u001b[1;32m    632\u001b[0m     transaction_function: t\u001b[39m.\u001b[39mCallable[\n\u001b[0;32m   (...)\u001b[0m\n\u001b[1;32m    635\u001b[0m     \u001b[39m*\u001b[39margs: _P\u001b[39m.\u001b[39margs,  \u001b[39m*\u001b[39m\u001b[39m*\u001b[39mkwargs: _P\u001b[39m.\u001b[39mkwargs\n\u001b[1;32m    636\u001b[0m ) \u001b[39m-\u001b[39m\u001b[39m>\u001b[39m _R:\n\u001b[1;32m    637\u001b[0m \u001b[39m    \u001b[39m\u001b[39m\"\"\"Execute a unit of work in a managed write transaction.\u001b[39;00m\n\u001b[1;32m    638\u001b[0m \n\u001b[1;32m    639\u001b[0m \u001b[39m    .. note::\u001b[39;00m\n\u001b[0;32m   (...)\u001b[0m\n\u001b[1;32m    673\u001b[0m \u001b[39m    .. versionadded:: 5.0\u001b[39;00m\n\u001b[1;32m    674\u001b[0m \u001b[39m    \"\"\"\u001b[39;00m\n\u001b[0;32m--> 675\u001b[0m     \u001b[39mreturn\u001b[39;00m \u001b[39mself\u001b[39;49m\u001b[39m.\u001b[39;49m_run_transaction(\n\u001b[1;32m    676\u001b[0m         WRITE_ACCESS, transaction_function, \u001b[39m*\u001b[39;49margs, \u001b[39m*\u001b[39;49m\u001b[39m*\u001b[39;49mkwargs\n\u001b[1;32m    677\u001b[0m     )\n",
      "File \u001b[0;32m~/.python/current/lib/python3.10/site-packages/neo4j/_sync/work/session.py:490\u001b[0m, in \u001b[0;36mSession._run_transaction\u001b[0;34m(self, access_mode, transaction_function, *args, **kwargs)\u001b[0m\n\u001b[1;32m    488\u001b[0m tx \u001b[39m=\u001b[39m \u001b[39mself\u001b[39m\u001b[39m.\u001b[39m_transaction\n\u001b[1;32m    489\u001b[0m \u001b[39mtry\u001b[39;00m:\n\u001b[0;32m--> 490\u001b[0m     result \u001b[39m=\u001b[39m transaction_function(tx, \u001b[39m*\u001b[39;49margs, \u001b[39m*\u001b[39;49m\u001b[39m*\u001b[39;49mkwargs)\n\u001b[1;32m    491\u001b[0m \u001b[39mexcept\u001b[39;00m asyncio\u001b[39m.\u001b[39mCancelledError:\n\u001b[1;32m    492\u001b[0m     \u001b[39m# if cancellation callback has not been called yet:\u001b[39;00m\n\u001b[1;32m    493\u001b[0m     \u001b[39mif\u001b[39;00m \u001b[39mself\u001b[39m\u001b[39m.\u001b[39m_transaction \u001b[39mis\u001b[39;00m \u001b[39mnot\u001b[39;00m \u001b[39mNone\u001b[39;00m:\n",
      "File \u001b[0;32m/workspaces/trengx/notebooks/../trengx/graph.py:88\u001b[0m, in \u001b[0;36mGraph._do_math_tx\u001b[0;34m(tx, node_id)\u001b[0m\n\u001b[1;32m     86\u001b[0m     \u001b[39mprint\u001b[39m(out_name)\n\u001b[1;32m     87\u001b[0m     \u001b[39mprint\u001b[39m(out_value)\n\u001b[0;32m---> 88\u001b[0m \u001b[39mreturn\u001b[39;00m out_id, out_name, out_value\n",
      "\u001b[0;31mUnboundLocalError\u001b[0m: local variable 'out_id' referenced before assignment"
     ]
    }
   ],
   "source": [
    "g.set_node_prop(x_id, 'value', 5.0, True)"
   ]
  },
  {
   "cell_type": "code",
   "execution_count": null,
   "metadata": {},
   "outputs": [
    {
     "data": {
      "text/plain": [
       "{'node_id': 2}"
      ]
     },
     "execution_count": 7,
     "metadata": {},
     "output_type": "execute_result"
    }
   ],
   "source": [
    "w_est_i = g.add_node ('num', 'name', 'w_est[i]')\n",
    "w_est_i_id = w_est_i['node_id']\n",
    "g.set_node_prop('name', 'w_est[i]', 'value', 0.0, False)\n",
    "g.add_node ('num', 'name', 'y[i-1]')\n",
    "g.set_node_prop('name', 'y[i-1]', 'value', 0.0, False)\n",
    "g.add_node ('op', 'name', '*')"
   ]
  },
  {
   "cell_type": "code",
   "execution_count": null,
   "metadata": {},
   "outputs": [
    {
     "name": "stdout",
     "output_type": "stream",
     "text": [
      "z\n",
      "1.6\n",
      "s\n",
      "3.2\n"
     ]
    },
    {
     "data": {
      "text/plain": [
       "[['name', 'x', 'value', 3], ('z', 1.6)]"
      ]
     },
     "execution_count": 3,
     "metadata": {},
     "output_type": "execute_result"
    }
   ],
   "source": [
    "# test chain operation\n",
    "# first add then multiply\n",
    "\n",
    "g.add_node ('num', 'name', 'x')\n",
    "g.set_node_prop('name', 'x', 'value', 3.6, False)\n",
    "g.add_node ('num', 'name', 'y')\n",
    "g.set_node_prop('name', 'y', 'value', 1.4, False)\n",
    "g.add_node ('num', 'name', 'z')\n",
    "g.set_node_prop('name', 'z', 'value', 2.0, False)\n",
    "g.add_node ('op', 'name', '-')\n",
    "g.add_node ('num', 'name', 't')\n",
    "g.set_node_prop('name', 't', 'value', 2.0, False)\n",
    "g.add_node ('num', 'name', 's')\n",
    "g.set_node_prop('name', 's', 'value', 0.0, False)\n",
    "g.add_node ('op', 'name', '*')\n",
    "\n",
    "g.add_edge('num2op', 'name', 'x', 'name', '-')\n",
    "g.add_edge('num2op', 'name', 'y', 'name', '-')\n",
    "g.add_edge('op2num', 'name', '-', 'name', 'z')\n",
    "g.add_edge('num2op', 'name', 'z', 'name', '*')\n",
    "g.add_edge('num2op', 'name', 't', 'name', '*')\n",
    "g.add_edge('op2num', 'name', '*', 'name', 's')\n",
    "\n",
    "g.set_node_prop('name', 'x', 'value', 3, True)"
   ]
  },
  {
   "cell_type": "code",
   "execution_count": null,
   "metadata": {},
   "outputs": [],
   "source": [
    "# test math operation with single input\n",
    "g.add_node ('num', 'name', 'x')\n",
    "g.set_node_prop('name', 'x', 'value', 3.6, False)\n",
    "g.add_node ('op', 'name', 'log')\n",
    "g.add_edge('num2op', 'name', 'x', 'name', 'log')\n",
    "g.add_node ('num', 'name', 's')\n",
    "g.set_node_prop('name', 's', 'value', 0.0, False)\n",
    "g.add_edge('op2num', 'name', 'log', 'name', 's')\n",
    "\n",
    "\n",
    "g.set_node_prop('name', 'x', 'value', 27, True)"
   ]
  },
  {
   "cell_type": "code",
   "execution_count": null,
   "metadata": {},
   "outputs": [],
   "source": [
    "import math\n",
    "math.log(27)"
   ]
  }
 ],
 "metadata": {
  "kernelspec": {
   "display_name": "Python 3",
   "language": "python",
   "name": "python3"
  },
  "language_info": {
   "codemirror_mode": {
    "name": "ipython",
    "version": 3
   },
   "file_extension": ".py",
   "mimetype": "text/x-python",
   "name": "python",
   "nbconvert_exporter": "python",
   "pygments_lexer": "ipython3",
   "version": "3.10.4"
  },
  "orig_nbformat": 4,
  "vscode": {
   "interpreter": {
    "hash": "3ad933181bd8a04b432d3370b9dc3b0662ad032c4dfaa4e4f1596c548f763858"
   }
  }
 },
 "nbformat": 4,
 "nbformat_minor": 2
}
