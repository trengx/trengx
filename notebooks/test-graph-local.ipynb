{
 "cells": [
  {
   "cell_type": "code",
   "execution_count": 1,
   "metadata": {},
   "outputs": [
    {
     "name": "stdout",
     "output_type": "stream",
     "text": [
      "Collecting neo4j\n",
      "  Downloading neo4j-5.6.0.tar.gz (171 kB)\n",
      "\u001b[2K     \u001b[90m━━━━━━━━━━━━━━━━━━━━━━━━━━━━━━━━━━━━━━━\u001b[0m \u001b[32m171.2/171.2 kB\u001b[0m \u001b[31m5.9 MB/s\u001b[0m eta \u001b[36m0:00:00\u001b[0m\n",
      "\u001b[?25h  Installing build dependencies ... \u001b[?25ldone\n",
      "\u001b[?25h  Getting requirements to build wheel ... \u001b[?25ldone\n",
      "\u001b[?25h  Installing backend dependencies ... \u001b[?25ldone\n",
      "\u001b[?25h  Preparing metadata (pyproject.toml) ... \u001b[?25ldone\n",
      "\u001b[?25hRequirement already satisfied: pytz in /home/codespace/.local/lib/python3.10/site-packages (from neo4j) (2022.7.1)\n",
      "Building wheels for collected packages: neo4j\n",
      "  Building wheel for neo4j (pyproject.toml) ... \u001b[?25ldone\n",
      "\u001b[?25h  Created wheel for neo4j: filename=neo4j-5.6.0-py3-none-any.whl size=237438 sha256=e2ac3355f135287423742e5c88d8bee32ebeec4414782ab16f54698e07365492\n",
      "  Stored in directory: /home/codespace/.cache/pip/wheels/60/65/36/0d85ba13c5ec8ce25baaaf608d4f493b1527da4c2fb333edd6\n",
      "Successfully built neo4j\n",
      "Installing collected packages: neo4j\n",
      "Successfully installed neo4j-5.6.0\n",
      "Note: you may need to restart the kernel to use updated packages.\n",
      "Collecting python-dotenv\n",
      "  Downloading python_dotenv-1.0.0-py3-none-any.whl (19 kB)\n",
      "Installing collected packages: python-dotenv\n",
      "Successfully installed python-dotenv-1.0.0\n",
      "Note: you may need to restart the kernel to use updated packages.\n"
     ]
    }
   ],
   "source": [
    "%pip install neo4j\n",
    "%pip install python-dotenv"
   ]
  },
  {
   "cell_type": "code",
   "execution_count": 1,
   "metadata": {},
   "outputs": [],
   "source": [
    "import os\n",
    "from dotenv import load_dotenv\n",
    "from neo4j import GraphDatabase as graphdb\n",
    "import sys\n",
    "sys.path.append('../trengx')\n",
    "import graph"
   ]
  },
  {
   "cell_type": "code",
   "execution_count": 2,
   "metadata": {},
   "outputs": [],
   "source": [
    "load_dotenv()  # Load environment variables from .env file\n",
    "uri = os.getenv(\"uri\")  # Get the value of the uri variable\n",
    "user = os.getenv(\"user\")  # Get the value of the user variable\n",
    "password = os.getenv(\"password\")  # Get the value of the pw variable\n",
    "g = graph.Graph(graphdb, uri, user, password)\n"
   ]
  },
  {
   "cell_type": "code",
   "execution_count": 4,
   "metadata": {},
   "outputs": [
    {
     "data": {
      "text/plain": [
       "{'name': '*'}"
      ]
     },
     "execution_count": 4,
     "metadata": {},
     "output_type": "execute_result"
    }
   ],
   "source": [
    "# test chain operation\n",
    "# first add then multiply\n",
    "\n",
    "g.add_node ('num', 'name', 'x')\n",
    "g.set_node_prop('name', 'x', 'value', 3.6, False)\n",
    "g.add_node ('num', 'name', 'y')\n",
    "g.set_node_prop('name', 'y', 'value', 1.4, False)\n",
    "g.add_node ('num', 'name', 'z')\n",
    "g.set_node_prop('name', 'z', 'value', 2.0, False)\n",
    "g.add_node ('op', 'name', '-')\n",
    "g.add_node ('num', 'name', 't')\n",
    "g.set_node_prop('name', 't', 'value', 2.0, False)\n",
    "g.add_node ('num', 'name', 's')\n",
    "g.set_node_prop('name', 's', 'value', 0.0, False)\n",
    "g.add_node ('op', 'name', '*')\n",
    "\n",
    "g.add_edge('num2op', 'name', 'x', 'name', '-')\n",
    "g.add_edge('num2op', 'name', 'y', 'name', '-')\n",
    "g.add_edge('op2num', 'name', '-', 'name', 'z')\n",
    "g.add_edge('num2op', 'name', 'z', 'name', '*')\n",
    "g.add_edge('num2op', 'name', 't', 'name', '*')\n",
    "g.add_edge('op2num', 'name', '*', 'name', 's')\n",
    "\n",
    "g.set_node_prop('name', 'x', 'value', 3, True)"
   ]
  },
  {
   "cell_type": "code",
   "execution_count": 9,
   "metadata": {},
   "outputs": [
    {
     "name": "stdout",
     "output_type": "stream",
     "text": [
      "s\n",
      "3.295836866004329\n"
     ]
    },
    {
     "data": {
      "text/plain": [
       "[['name', 'x', 'value', 27], ('s', 3.295836866004329)]"
      ]
     },
     "execution_count": 9,
     "metadata": {},
     "output_type": "execute_result"
    }
   ],
   "source": [
    "# test math operation with single input\n",
    "g.add_node ('num', 'name', 'x')\n",
    "g.set_node_prop('name', 'x', 'value', 3.6, False)\n",
    "g.add_node ('op', 'name', 'log')\n",
    "g.add_edge('num2op', 'name', 'x', 'name', 'log')\n",
    "g.add_node ('num', 'name', 's')\n",
    "g.set_node_prop('name', 's', 'value', 0.0, False)\n",
    "g.add_edge('op2num', 'name', 'log', 'name', 's')\n",
    "\n",
    "\n",
    "g.set_node_prop('name', 'x', 'value', 27, True)"
   ]
  },
  {
   "cell_type": "code",
   "execution_count": 10,
   "metadata": {},
   "outputs": [
    {
     "data": {
      "text/plain": [
       "3.295836866004329"
      ]
     },
     "execution_count": 10,
     "metadata": {},
     "output_type": "execute_result"
    }
   ],
   "source": [
    "import math\n",
    "math.log(27)"
   ]
  }
 ],
 "metadata": {
  "kernelspec": {
   "display_name": "Python 3",
   "language": "python",
   "name": "python3"
  },
  "language_info": {
   "codemirror_mode": {
    "name": "ipython",
    "version": 3
   },
   "file_extension": ".py",
   "mimetype": "text/x-python",
   "name": "python",
   "nbconvert_exporter": "python",
   "pygments_lexer": "ipython3",
   "version": "3.10.4"
  },
  "orig_nbformat": 4
 },
 "nbformat": 4,
 "nbformat_minor": 2
}
