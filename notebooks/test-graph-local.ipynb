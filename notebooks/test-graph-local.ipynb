{
 "cells": [
  {
   "cell_type": "code",
   "execution_count": 5,
   "metadata": {},
   "outputs": [],
   "source": [
    "# import os\n",
    "# from neo4j import GraphDatabase as graphdb\n",
    "# from trengx import graph\n",
    "\n",
    "import os\n",
    "from dotenv import load_dotenv\n",
    "from neo4j import GraphDatabase as graphdb\n",
    "import sys\n",
    "sys.path.append('../trengx')\n",
    "import graph"
   ]
  },
  {
   "cell_type": "code",
   "execution_count": 6,
   "metadata": {},
   "outputs": [],
   "source": [
    "# .env secrets\n",
    "uri = os.getenv('NEO4J_URI') # Get the value of the uri variable\n",
    "user = os.getenv('NEO4J_USER') # Get the value of the user variable\n",
    "password= os.getenv('NEO4J_PASSWORD')  # Get the value of the pw variable\n",
    "\n",
    "# Create a Graph class instance\n",
    "g = graph.Graph(graphdb, uri, user, password)\n"
   ]
  },
  {
   "cell_type": "code",
   "execution_count": 7,
   "metadata": {},
   "outputs": [
    {
     "name": "stdout",
     "output_type": "stream",
     "text": [
      "8\n",
      "9\n",
      "{'n_node': {'node_id': 7, 'properties': {'name': 'y_im1 ', 'value': 8}}, 'out_node': {'node_id': 9, 'properties': {'name': 'y_est_i', 'value': 1.6}}}\n",
      "1.6\n"
     ]
    }
   ],
   "source": [
    "g.delete_all()\n",
    "\n",
    "# y_est[i] = w_est[i]*y[i-1]\n",
    "w_est_i = g.add_node ('num', 'w_est_i', {'value': 1})\n",
    "w_est_i_id = w_est_i['node_id']\n",
    "y_im1 = g.add_node ('num', 'y_im1 ', {'value': 1})\n",
    "y_im1_id = y_im1['node_id']\n",
    "mul = g.add_node ('op', '*', {'reverse':False})\n",
    "mul_id = mul['node_id']\n",
    "print (mul_id)\n",
    "g.add_edge ('num2op', w_est_i_id, mul_id, {'trigger':False})\n",
    "g.add_edge ('num2op', y_im1_id, mul_id, {'trigger':True})\n",
    "y_est_i = g.add_node ('num', 'y_est_i', {'value': 1})\n",
    "y_est_i_id = y_est_i['node_id']\n",
    "print (y_est_i_id)\n",
    "g.add_edge ('op2num', mul_id, y_est_i_id, {'trigger':False})\n",
    "\n",
    "# e[i] = y[i] - y_est[i]\n",
    "y_i = g.add_node ('num', 'y_i', {'value': 1.0})\n",
    "y_i_id = y_i['node_id']\n",
    "sub = g.add_node ('op', '-', {'reverse':True})\n",
    "sub_id = sub['node_id']\n",
    "g.add_edge ('num2op', y_i_id, sub_id, {'trigger':False})\n",
    "g.add_edge ('num2op', y_est_i_id, sub_id, {'trigger':True})\n",
    "e_i = g.add_node ('num', 'e_i', {'value': 1})\n",
    "e_i_id = e_i['node_id']\n",
    "g.add_edge ('op2num', sub_id, e_i_id)\n",
    "\n",
    "result = g.set_node_value(y_im1_id, 8)\n",
    "print (result)\n",
    "result = g.get_node_prop(e_i_id, 'value')\n",
    "print (result)\n",
    "g.close()"
   ]
  },
  {
   "cell_type": "code",
   "execution_count": 8,
   "metadata": {},
   "outputs": [],
   "source": [
    "g.close()"
   ]
  }
 ],
 "metadata": {
  "kernelspec": {
   "display_name": "Python 3",
   "language": "python",
   "name": "python3"
  },
  "language_info": {
   "codemirror_mode": {
    "name": "ipython",
    "version": 3
   },
   "file_extension": ".py",
   "mimetype": "text/x-python",
   "name": "python",
   "nbconvert_exporter": "python",
   "pygments_lexer": "ipython3",
   "version": "3.8.10"
  },
  "orig_nbformat": 4,
  "vscode": {
   "interpreter": {
    "hash": "3ad933181bd8a04b432d3370b9dc3b0662ad032c4dfaa4e4f1596c548f763858"
   }
  }
 },
 "nbformat": 4,
 "nbformat_minor": 2
}
