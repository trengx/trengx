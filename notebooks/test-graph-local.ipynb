{
 "cells": [
  {
   "cell_type": "code",
   "execution_count": 1,
   "metadata": {},
   "outputs": [
    {
     "name": "stdout",
     "output_type": "stream",
     "text": [
      "Requirement already satisfied: neo4j in /usr/local/python/3.10.4/lib/python3.10/site-packages (5.7.0)\n",
      "Requirement already satisfied: pytz in /home/codespace/.local/lib/python3.10/site-packages (from neo4j) (2022.7.1)\n",
      "Note: you may need to restart the kernel to use updated packages.\n",
      "Requirement already satisfied: python-dotenv in /usr/local/python/3.10.4/lib/python3.10/site-packages (1.0.0)\n",
      "Note: you may need to restart the kernel to use updated packages.\n"
     ]
    }
   ],
   "source": [
    "%pip install neo4j\n",
    "%pip install python-dotenv"
   ]
  },
  {
   "cell_type": "code",
   "execution_count": 1,
   "metadata": {},
   "outputs": [],
   "source": [
    "import os\n",
    "from dotenv import load_dotenv\n",
    "from neo4j import GraphDatabase as graphdb\n",
    "import sys\n",
    "sys.path.append('../trengx')\n",
    "import graph"
   ]
  },
  {
   "cell_type": "code",
   "execution_count": 2,
   "metadata": {},
   "outputs": [],
   "source": [
    "load_dotenv()  # Load environment variables from .env file\n",
    "uri = os.getenv(\"uri\")  # Get the value of the uri variable\n",
    "user = os.getenv(\"user\")  # Get the value of the user variable\n",
    "password = os.getenv(\"password\")  # Get the value of the pw variable\n",
    "g = graph.Graph(graphdb, uri, user, password)\n"
   ]
  },
  {
   "cell_type": "code",
   "execution_count": 7,
   "metadata": {},
   "outputs": [],
   "source": [
    "g.close()"
   ]
  },
  {
   "cell_type": "code",
   "execution_count": 3,
   "metadata": {},
   "outputs": [
    {
     "data": {
      "text/plain": [
       "{'node_id': 35, 'node_label': frozenset({'op'}), 'properties': {'name': '*'}}"

      ]
     },
     "execution_count": 3,
     "metadata": {},
     "output_type": "execute_result"
    }
   ],
   "source": [
    "x = g.add_node ('num', 'x')\n",
    "x_id = x['node_id']\n",
    "g.set_node_prop(x_id, 'value', 2.0, False)\n",
    "\n",
    "y = g.add_node ('num', 'y')\n",
    "y_id = y['node_id']\n",
    "g.set_node_prop(y_id, 'value', 3.0, False)\n",
    "\n",
    "g.add_node ('op', '*')"
   ]
  },
  {
   "cell_type": "code",
   "execution_count": null,
   "metadata": {},
   "outputs": [
    {
     "data": {
      "text/plain": [
       "{'node_id': 2}"
      ]
     },
     "execution_count": 7,
     "metadata": {},
     "output_type": "execute_result"
    }
   ],
   "source": [
    "w_est_i = g.add_node ('num', 'name', 'w_est[i]')\n",
    "w_est_i_id = w_est_i['node_id']\n",
    "g.set_node_prop('name', 'w_est[i]', 'value', 0.0, False)\n",
    "g.add_node ('num', 'name', 'y[i-1]')\n",
    "g.set_node_prop('name', 'y[i-1]', 'value', 0.0, False)\n",
    "g.add_node ('op', 'name', '*')"
   ]
  },
  {
   "cell_type": "code",
   "execution_count": null,
   "metadata": {},
   "outputs": [
    {
     "name": "stdout",
     "output_type": "stream",
     "text": [
      "z\n",
      "1.6\n",
      "s\n",
      "3.2\n"
     ]
    },
    {
     "data": {
      "text/plain": [
       "[['name', 'x', 'value', 3], ('z', 1.6)]"
      ]
     },
     "execution_count": 3,
     "metadata": {},
     "output_type": "execute_result"
    }
   ],
   "source": [
    "# test chain operation\n",
    "# first add then multiply\n",
    "\n",
    "g.add_node ('num', 'name', 'x')\n",
    "g.set_node_prop('name', 'x', 'value', 3.6, False)\n",
    "g.add_node ('num', 'name', 'y')\n",
    "g.set_node_prop('name', 'y', 'value', 1.4, False)\n",
    "g.add_node ('num', 'name', 'z')\n",
    "g.set_node_prop('name', 'z', 'value', 2.0, False)\n",
    "g.add_node ('op', 'name', '-')\n",
    "g.add_node ('num', 'name', 't')\n",
    "g.set_node_prop('name', 't', 'value', 2.0, False)\n",
    "g.add_node ('num', 'name', 's')\n",
    "g.set_node_prop('name', 's', 'value', 0.0, False)\n",
    "g.add_node ('op', 'name', '*')\n",
    "\n",
    "g.add_edge('num2op', 'name', 'x', 'name', '-')\n",
    "g.add_edge('num2op', 'name', 'y', 'name', '-')\n",
    "g.add_edge('op2num', 'name', '-', 'name', 'z')\n",
    "g.add_edge('num2op', 'name', 'z', 'name', '*')\n",
    "g.add_edge('num2op', 'name', 't', 'name', '*')\n",
    "g.add_edge('op2num', 'name', '*', 'name', 's')\n",
    "\n",
    "g.set_node_prop('name', 'x', 'value', 3, True)"
   ]
  },
  {
   "cell_type": "code",
   "execution_count": null,
   "metadata": {},
   "outputs": [],
   "source": [
    "# test math operation with single input\n",
    "g.add_node ('num', 'name', 'x')\n",
    "g.set_node_prop('name', 'x', 'value', 3.6, False)\n",
    "g.add_node ('op', 'name', 'log')\n",
    "g.add_edge('num2op', 'name', 'x', 'name', 'log')\n",
    "g.add_node ('num', 'name', 's')\n",
    "g.set_node_prop('name', 's', 'value', 0.0, False)\n",
    "g.add_edge('op2num', 'name', 'log', 'name', 's')\n",
    "\n",
    "\n",
    "g.set_node_prop('name', 'x', 'value', 27, True)"
   ]
  },
  {
   "cell_type": "code",
   "execution_count": null,
   "metadata": {},
   "outputs": [],
   "source": [
    "import math\n",
    "math.log(27)"
   ]
  }
 ],
 "metadata": {
  "kernelspec": {
   "display_name": "Python 3",
   "language": "python",
   "name": "python3"
  },
  "language_info": {
   "codemirror_mode": {
    "name": "ipython",
    "version": 3
   },
   "file_extension": ".py",
   "mimetype": "text/x-python",
   "name": "python",
   "nbconvert_exporter": "python",
   "pygments_lexer": "ipython3",
   "version": "3.10.4"
  },
  "orig_nbformat": 4,
  "vscode": {
   "interpreter": {
    "hash": "3ad933181bd8a04b432d3370b9dc3b0662ad032c4dfaa4e4f1596c548f763858"
   }
  }
 },
 "nbformat": 4,
 "nbformat_minor": 2
}
