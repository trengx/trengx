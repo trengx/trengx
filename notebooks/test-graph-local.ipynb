{
 "cells": [
  {
   "cell_type": "code",
   "execution_count": 1,
   "metadata": {},
   "outputs": [],
   "source": [
    "# import os\n",
    "# from neo4j import GraphDatabase as graphdb\n",
    "# from trengx import graph\n",
    "\n",
    "import os\n",
    "from dotenv import load_dotenv\n",
    "from neo4j import GraphDatabase as graphdb\n",
    "import sys\n",
    "sys.path.append('../trengx')\n",
    "import graph"
   ]
  },
  {
   "cell_type": "code",
   "execution_count": 2,
   "metadata": {},
   "outputs": [],
   "source": [
    "# .env secrets\n",
    "uri = os.getenv('NEO4J_URI') # Get the value of the uri variable\n",
    "user = os.getenv('NEO4J_USER') # Get the value of the user variable\n",
    "password= os.getenv('NEO4J_PASSWORD')  # Get the value of the pw variable\n",
    "\n",
    "# Create a Graph class instance\n",
    "g = graph.Graph(graphdb, uri, user, password)\n"
   ]
  },
  {
   "cell_type": "code",
   "execution_count": 3,
   "metadata": {},
   "outputs": [
    {
     "name": "stdout",
     "output_type": "stream",
     "text": [
      "12\n",
      "13\n"
     ]
    }
   ],
   "source": [
    "g.delete_all()\n",
    "\n",
    "# y_est[i] = w_est[i]*y[i-1]\n",
    "w_est_i = g.add_node ('num', 'w_est_i', {'value': 0.1})\n",
    "w_est_i_id = w_est_i['node_id']\n",
    "y_im1 = g.add_node ('num', 'y_im1 ', {'value': 3.0})\n",
    "y_im1_id = y_im1['node_id']\n",
    "mul = g.add_node ('op', '*', {'reverse':False})\n",
    "mul_id = mul['node_id']\n",
    "print (mul_id)\n",
    "g.add_edge ('num2op', w_est_i_id, mul_id, {'trigger':False})\n",
    "g.add_edge ('num2op', y_im1_id, mul_id, {'trigger':True})\n",
    "y_est_i = g.add_node ('num', 'y_est_i', {'value': 2.0})\n",
    "y_est_i_id = y_est_i['node_id']\n",
    "print (y_est_i_id)\n",
    "g.add_edge ('op2num', mul_id, y_est_i_id, {'trigger':True})\n",
    "\n",
    "g.set_node_prop(y_im1_id, 'value', 20)\n",
    "result = g.get_node_prop(y_est_i_id, 'value')\n",
    "print (result)\n",
    "g.close()"
   ]
  },
  {
   "cell_type": "code",
   "execution_count": 25,
   "metadata": {},
   "outputs": [],
   "source": [
    "g.close()"
   ]
  }
 ],
 "metadata": {
  "kernelspec": {
   "display_name": "Python 3",
   "language": "python",
   "name": "python3"
  },
  "language_info": {
   "codemirror_mode": {
    "name": "ipython",
    "version": 3
   },
   "file_extension": ".py",
   "mimetype": "text/x-python",
   "name": "python",
   "nbconvert_exporter": "python",
   "pygments_lexer": "ipython3",
   "version": "3.8.10"
  },
  "orig_nbformat": 4,
  "vscode": {
   "interpreter": {
    "hash": "3ad933181bd8a04b432d3370b9dc3b0662ad032c4dfaa4e4f1596c548f763858"
   }
  }
 },
 "nbformat": 4,
 "nbformat_minor": 2
}
