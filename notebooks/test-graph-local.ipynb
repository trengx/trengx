{
 "cells": [
  {
   "cell_type": "code",
   "execution_count": 1,
   "metadata": {},
   "outputs": [
    {
     "name": "stdout",
     "output_type": "stream",
     "text": [
      "Requirement already satisfied: neo4j in /usr/local/python/3.10.4/lib/python3.10/site-packages (5.6.0)\n",
      "Requirement already satisfied: pytz in /home/codespace/.local/lib/python3.10/site-packages (from neo4j) (2022.7.1)\n",
      "Note: you may need to restart the kernel to use updated packages.\n",
      "Requirement already satisfied: python-dotenv in /usr/local/python/3.10.4/lib/python3.10/site-packages (1.0.0)\n",
      "Note: you may need to restart the kernel to use updated packages.\n"
     ]
    }
   ],
   "source": [
    "%pip install neo4j\n",
    "%pip install python-dotenv"
   ]
  },
  {
   "cell_type": "code",
   "execution_count": 1,
   "metadata": {},
   "outputs": [],
   "source": [
    "import os\n",
    "from dotenv import load_dotenv\n",
    "from neo4j import GraphDatabase as graphdb\n",
    "import sys\n",
    "sys.path.append('../trengx')\n",
    "import graph"
   ]
  },
  {
   "cell_type": "code",
   "execution_count": 2,
   "metadata": {},
   "outputs": [],
   "source": [
    "load_dotenv()  # Load environment variables from .env file\n",
    "uri = os.getenv(\"uri\")  # Get the value of the uri variable\n",
    "user = os.getenv(\"user\")  # Get the value of the user variable\n",
    "password = os.getenv(\"password\")  # Get the value of the pw variable\n",
    "g = graph.Graph(graphdb, uri, user, password)\n"
   ]
  },
  {
   "cell_type": "code",
   "execution_count": 4,
   "metadata": {},
   "outputs": [
    {
     "data": {
      "text/plain": [
       "[{'node_added': '*'}]"
      ]
     },
     "execution_count": 4,
     "metadata": {},
     "output_type": "execute_result"
    }
   ],
   "source": [
    "g.add_node ('op', 'name', '*')"
   ]
  },
  {
   "cell_type": "code",
   "execution_count": 5,
   "metadata": {},
   "outputs": [
    {
     "data": {
      "text/plain": [
       "[{'status': 'deleted'}]"
      ]
     },
     "execution_count": 5,
     "metadata": {},
     "output_type": "execute_result"
    }
   ],
   "source": [
    "g.delete_node ('op', 'name', '*')"
   ]
  },
  {
   "cell_type": "code",
   "execution_count": 4,
   "metadata": {},
   "outputs": [
    {
     "data": {
      "text/plain": [
       "{'name': '*'}"
      ]
     },
     "execution_count": 4,
     "metadata": {},
     "output_type": "execute_result"
    }
   ],
   "source": [
    "# test chain operation\n",
    "# first add then multiply\n",
    "\n",
    "g.add_node ('num', 'name', 'x')\n",
    "g.set_node_prop('name', 'x', 'value', 3.6, False)\n",
    "g.add_node ('num', 'name', 'y')\n",
    "g.set_node_prop('name', 'y', 'value', 1.4, False)\n",
    "g.add_node ('num', 'name', 'z')\n",
    "g.set_node_prop('name', 'z', 'value', 2.0, False)\n",
    "g.add_node ('op', 'name', '-')\n",
    "g.add_node ('num', 'name', 't')\n",
    "g.set_node_prop('name', 't', 'value', 2.0, False)\n",
    "g.add_node ('num', 'name', 's')\n",
    "g.set_node_prop('name', 's', 'value', 0.0, False)\n",
    "g.add_node ('op', 'name', '*')\n",
    "\n",
    "g.add_edge('num2op', 'name', 'x', 'name', '-')\n",
    "g.add_edge('num2op', 'name', 'y', 'name', '-')\n",
    "g.add_edge('op2num', 'name', '-', 'name', 'z')\n",
    "g.add_edge('num2op', 'name', 'z', 'name', '*')\n",
    "g.add_edge('num2op', 'name', 't', 'name', '*')\n",
    "g.add_edge('op2num', 'name', '*', 'name', 's')\n",
    "\n",
    "g.set_node_prop('name', 'x', 'value', 3, True)"
   ]
  },
  {
   "cell_type": "code",
   "execution_count": 9,
   "metadata": {},
   "outputs": [
    {
     "name": "stdout",
     "output_type": "stream",
     "text": [
      "s\n",
      "3.295836866004329\n"
     ]
    },
    {
     "data": {
      "text/plain": [
       "[['name', 'x', 'value', 27], ('s', 3.295836866004329)]"
      ]
     },
     "execution_count": 9,
     "metadata": {},
     "output_type": "execute_result"
    }
   ],
   "source": [
    "# test math operation with single input\n",
    "g.add_node ('num', 'name', 'x')\n",
    "g.set_node_prop('name', 'x', 'value', 3.6, False)\n",
    "g.add_node ('op', 'name', 'log')\n",
    "g.add_edge('num2op', 'name', 'x', 'name', 'log')\n",
    "g.add_node ('num', 'name', 's')\n",
    "g.set_node_prop('name', 's', 'value', 0.0, False)\n",
    "g.add_edge('op2num', 'name', 'log', 'name', 's')\n",
    "\n",
    "\n",
    "g.set_node_prop('name', 'x', 'value', 27, True)"
   ]
  },
  {
   "cell_type": "code",
   "execution_count": 10,
   "metadata": {},
   "outputs": [
    {
     "data": {
      "text/plain": [
       "3.295836866004329"
      ]
     },
     "execution_count": 10,
     "metadata": {},
     "output_type": "execute_result"
    }
   ],
   "source": [
    "import math\n",
    "math.log(27)"
   ]
  }
 ],
 "metadata": {
  "kernelspec": {
   "display_name": "Python 3",
   "language": "python",
   "name": "python3"
  },
  "language_info": {
   "codemirror_mode": {
    "name": "ipython",
    "version": 3
   },
   "file_extension": ".py",
   "mimetype": "text/x-python",
   "name": "python",
   "nbconvert_exporter": "python",
   "pygments_lexer": "ipython3",
   "version": "3.10.4"
  },
  "orig_nbformat": 4
 },
 "nbformat": 4,
 "nbformat_minor": 2
}
