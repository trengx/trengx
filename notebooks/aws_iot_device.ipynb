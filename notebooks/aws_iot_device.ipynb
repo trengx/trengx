{
 "cells": [
  {
   "cell_type": "code",
   "execution_count": 13,
   "metadata": {},
   "outputs": [
    {
     "name": "stdout",
     "output_type": "stream",
     "text": [
      "Requirement already satisfied: boto3 in c:\\users\\yshin\\onedrive - trengx\\trengx\\code\\trengx\\.venv\\lib\\site-packages (1.26.157)\n",
      "Requirement already satisfied: AWSIoTPythonSDK in c:\\users\\yshin\\onedrive - trengx\\trengx\\code\\trengx\\.venv\\lib\\site-packages (1.5.2)\n",
      "Requirement already satisfied: botocore<1.30.0,>=1.29.157 in c:\\users\\yshin\\onedrive - trengx\\trengx\\code\\trengx\\.venv\\lib\\site-packages (from boto3) (1.29.157)\n",
      "Requirement already satisfied: jmespath<2.0.0,>=0.7.1 in c:\\users\\yshin\\onedrive - trengx\\trengx\\code\\trengx\\.venv\\lib\\site-packages (from boto3) (1.0.1)\n",
      "Requirement already satisfied: s3transfer<0.7.0,>=0.6.0 in c:\\users\\yshin\\onedrive - trengx\\trengx\\code\\trengx\\.venv\\lib\\site-packages (from boto3) (0.6.1)\n",
      "Requirement already satisfied: python-dateutil<3.0.0,>=2.1 in c:\\users\\yshin\\onedrive - trengx\\trengx\\code\\trengx\\.venv\\lib\\site-packages (from botocore<1.30.0,>=1.29.157->boto3) (2.8.2)\n",
      "Requirement already satisfied: urllib3<1.27,>=1.25.4 in c:\\users\\yshin\\onedrive - trengx\\trengx\\code\\trengx\\.venv\\lib\\site-packages (from botocore<1.30.0,>=1.29.157->boto3) (1.26.16)\n",
      "Requirement already satisfied: six>=1.5 in c:\\users\\yshin\\onedrive - trengx\\trengx\\code\\trengx\\.venv\\lib\\site-packages (from python-dateutil<3.0.0,>=2.1->botocore<1.30.0,>=1.29.157->boto3) (1.16.0)\n",
      "Note: you may need to restart the kernel to use updated packages.\n"
     ]
    }
   ],
   "source": [
    "%pip install boto3 AWSIoTPythonSDK"
   ]
  },
  {
   "cell_type": "code",
   "execution_count": 14,
   "metadata": {},
   "outputs": [
    {
     "name": "stderr",
     "output_type": "stream",
     "text": [
      "2023-06-21 23:49:27,164 - INFO - Initializing AWSIoTMQTTClient\n",
      "2023-06-21 23:49:27,166 - DEBUG - Initializing MQTT layer...\n",
      "2023-06-21 23:49:27,167 - DEBUG - Registering internal event callbacks to MQTT layer...\n",
      "2023-06-21 23:49:27,168 - INFO - MqttCore initialized\n",
      "2023-06-21 23:49:27,169 - INFO - Client id: device-1\n",
      "2023-06-21 23:49:27,170 - INFO - Protocol version: MQTTv3.1.1\n",
      "2023-06-21 23:49:27,170 - INFO - Authentication type: TLSv1.2 certificate based Mutual Auth.\n",
      "2023-06-21 23:49:27,171 - INFO - Configuring endpoint...\n",
      "2023-06-21 23:49:27,172 - INFO - Configuring certificates and ciphers...\n",
      "2023-06-21 23:49:27,176 - INFO - Connecting to AWS IoT\n",
      "2023-06-21 23:49:27,177 - INFO - Performing sync connect...\n",
      "2023-06-21 23:49:27,177 - INFO - Performing async connect...\n",
      "2023-06-21 23:49:27,178 - INFO - Keep-alive: 600.000000 sec\n",
      "2023-06-21 23:49:27,180 - DEBUG - Event consuming thread started\n",
      "2023-06-21 23:49:27,181 - DEBUG - Passing in general notification callbacks to internal client...\n",
      "2023-06-21 23:49:27,181 - DEBUG - Filling in fixed event callbacks: CONNACK, DISCONNECT, MESSAGE\n",
      "2023-06-21 23:49:27,416 - DEBUG - Cleaning up before stopping event consuming\n",
      "2023-06-21 23:49:27,418 - DEBUG - Event queue cleared\n",
      "2023-06-21 23:49:27,419 - DEBUG - Stopping network I/O thread...\n",
      "2023-06-21 23:49:27,421 - DEBUG - Network thread stopped\n",
      "2023-06-21 23:49:27,422 - DEBUG - Event callbacks cleared\n",
      "2023-06-21 23:49:27,423 - DEBUG - Event consuming thread stopped\n",
      "2023-06-21 23:49:27,425 - DEBUG - Waiting for event consumer to completely stop\n",
      "2023-06-21 23:49:27,430 - DEBUG - Exiting dispatching loop...\n",
      "2023-06-21 23:49:27,434 - DEBUG - Event consumer stopped\n"
     ]
    },
    {
     "ename": "SSLCertVerificationError",
     "evalue": "[SSL: CERTIFICATE_VERIFY_FAILED] certificate verify failed: unable to get local issuer certificate (_ssl.c:1131)",
     "output_type": "error",
     "traceback": [
      "\u001b[1;31m---------------------------------------------------------------------------\u001b[0m",
      "\u001b[1;31mSSLCertVerificationError\u001b[0m                  Traceback (most recent call last)",
      "Cell \u001b[1;32mIn[14], line 30\u001b[0m\n\u001b[0;32m     27\u001b[0m logging\u001b[39m.\u001b[39minfo(\u001b[39m'\u001b[39m\u001b[39mConnecting to AWS IoT\u001b[39m\u001b[39m'\u001b[39m)\n\u001b[0;32m     29\u001b[0m \u001b[39m# Connect to AWS IoT\u001b[39;00m\n\u001b[1;32m---> 30\u001b[0m myAWSIoTMQTTClient\u001b[39m.\u001b[39;49mconnect()\n\u001b[0;32m     32\u001b[0m \u001b[39m# Number of messages to send\u001b[39;00m\n\u001b[0;32m     33\u001b[0m NUM_MESSAGES \u001b[39m=\u001b[39m \u001b[39m1\u001b[39m\n",
      "File \u001b[1;32mc:\\Users\\yshin\\OneDrive - trengx\\trengx\\code\\trengx\\.venv\\lib\\site-packages\\AWSIoTPythonSDK\\MQTTLib.py:520\u001b[0m, in \u001b[0;36mAWSIoTMQTTClient.connect\u001b[1;34m(self, keepAliveIntervalSecond)\u001b[0m\n\u001b[0;32m    494\u001b[0m \u001b[39m\u001b[39m\u001b[39m\"\"\"\u001b[39;00m\n\u001b[0;32m    495\u001b[0m \u001b[39m**Description**\u001b[39;00m\n\u001b[0;32m    496\u001b[0m \n\u001b[1;32m   (...)\u001b[0m\n\u001b[0;32m    517\u001b[0m \n\u001b[0;32m    518\u001b[0m \u001b[39m\"\"\"\u001b[39;00m\n\u001b[0;32m    519\u001b[0m \u001b[39mself\u001b[39m\u001b[39m.\u001b[39m_load_callbacks()\n\u001b[1;32m--> 520\u001b[0m \u001b[39mreturn\u001b[39;00m \u001b[39mself\u001b[39;49m\u001b[39m.\u001b[39;49m_mqtt_core\u001b[39m.\u001b[39;49mconnect(keepAliveIntervalSecond)\n",
      "File \u001b[1;32mc:\\Users\\yshin\\OneDrive - trengx\\trengx\\code\\trengx\\.venv\\lib\\site-packages\\AWSIoTPythonSDK\\core\\protocol\\mqtt_core.py:196\u001b[0m, in \u001b[0;36mMqttCore.connect\u001b[1;34m(self, keep_alive_sec)\u001b[0m\n\u001b[0;32m    194\u001b[0m \u001b[39mself\u001b[39m\u001b[39m.\u001b[39m_logger\u001b[39m.\u001b[39minfo(\u001b[39m\"\u001b[39m\u001b[39mPerforming sync connect...\u001b[39m\u001b[39m\"\u001b[39m)\n\u001b[0;32m    195\u001b[0m event \u001b[39m=\u001b[39m Event()\n\u001b[1;32m--> 196\u001b[0m \u001b[39mself\u001b[39;49m\u001b[39m.\u001b[39;49mconnect_async(keep_alive_sec, \u001b[39mself\u001b[39;49m\u001b[39m.\u001b[39;49m_create_blocking_ack_callback(event))\n\u001b[0;32m    197\u001b[0m \u001b[39mif\u001b[39;00m \u001b[39mnot\u001b[39;00m event\u001b[39m.\u001b[39mwait(\u001b[39mself\u001b[39m\u001b[39m.\u001b[39m_connect_disconnect_timeout_sec):\n\u001b[0;32m    198\u001b[0m     \u001b[39mself\u001b[39m\u001b[39m.\u001b[39m_logger\u001b[39m.\u001b[39merror(\u001b[39m\"\u001b[39m\u001b[39mConnect timed out\u001b[39m\u001b[39m\"\u001b[39m)\n",
      "File \u001b[1;32mc:\\Users\\yshin\\OneDrive - trengx\\trengx\\code\\trengx\\.venv\\lib\\site-packages\\AWSIoTPythonSDK\\core\\protocol\\mqtt_core.py:223\u001b[0m, in \u001b[0;36mMqttCore.connect_async\u001b[1;34m(self, keep_alive_sec, ack_callback)\u001b[0m\n\u001b[0;32m    221\u001b[0m         \u001b[39mself\u001b[39m\u001b[39m.\u001b[39m_logger\u001b[39m.\u001b[39mdebug(\u001b[39m\"\u001b[39m\u001b[39mEvent consumer stopped\u001b[39m\u001b[39m\"\u001b[39m)\n\u001b[0;32m    222\u001b[0m     \u001b[39mself\u001b[39m\u001b[39m.\u001b[39m_client_status\u001b[39m.\u001b[39mset_status(ClientStatus\u001b[39m.\u001b[39mIDLE)\n\u001b[1;32m--> 223\u001b[0m     \u001b[39mraise\u001b[39;00m e\n\u001b[0;32m    225\u001b[0m \u001b[39mreturn\u001b[39;00m FixedEventMids\u001b[39m.\u001b[39mCONNACK_MID\n",
      "File \u001b[1;32mc:\\Users\\yshin\\OneDrive - trengx\\trengx\\code\\trengx\\.venv\\lib\\site-packages\\AWSIoTPythonSDK\\core\\protocol\\mqtt_core.py:211\u001b[0m, in \u001b[0;36mMqttCore.connect_async\u001b[1;34m(self, keep_alive_sec, ack_callback)\u001b[0m\n\u001b[0;32m    209\u001b[0m \u001b[39mtry\u001b[39;00m:\n\u001b[0;32m    210\u001b[0m     \u001b[39mself\u001b[39m\u001b[39m.\u001b[39m_client_status\u001b[39m.\u001b[39mset_status(ClientStatus\u001b[39m.\u001b[39mCONNECT)\n\u001b[1;32m--> 211\u001b[0m     rc \u001b[39m=\u001b[39m \u001b[39mself\u001b[39;49m\u001b[39m.\u001b[39;49m_internal_async_client\u001b[39m.\u001b[39;49mconnect(keep_alive_sec, ack_callback)\n\u001b[0;32m    212\u001b[0m     \u001b[39mif\u001b[39;00m MQTT_ERR_SUCCESS \u001b[39m!=\u001b[39m rc:\n\u001b[0;32m    213\u001b[0m         \u001b[39mself\u001b[39m\u001b[39m.\u001b[39m_logger\u001b[39m.\u001b[39merror(\u001b[39m\"\u001b[39m\u001b[39mConnect error: \u001b[39m\u001b[39m%d\u001b[39;00m\u001b[39m\"\u001b[39m, rc)\n",
      "File \u001b[1;32mc:\\Users\\yshin\\OneDrive - trengx\\trengx\\code\\trengx\\.venv\\lib\\site-packages\\AWSIoTPythonSDK\\core\\protocol\\internal\\clients.py:125\u001b[0m, in \u001b[0;36mInternalAsyncMqttClient.connect\u001b[1;34m(self, keep_alive_sec, ack_callback)\u001b[0m\n\u001b[0;32m    122\u001b[0m \u001b[39mself\u001b[39m\u001b[39m.\u001b[39m_event_callback_map[FixedEventMids\u001b[39m.\u001b[39mDISCONNECT_MID] \u001b[39m=\u001b[39m \u001b[39mself\u001b[39m\u001b[39m.\u001b[39m_create_combined_on_disconnect_callback(\u001b[39mNone\u001b[39;00m)\n\u001b[0;32m    123\u001b[0m \u001b[39mself\u001b[39m\u001b[39m.\u001b[39m_event_callback_map[FixedEventMids\u001b[39m.\u001b[39mMESSAGE_MID] \u001b[39m=\u001b[39m \u001b[39mself\u001b[39m\u001b[39m.\u001b[39m_create_converted_on_message_callback()\n\u001b[1;32m--> 125\u001b[0m rc \u001b[39m=\u001b[39m \u001b[39mself\u001b[39;49m\u001b[39m.\u001b[39;49m_paho_client\u001b[39m.\u001b[39;49mconnect(host, port, keep_alive_sec)\n\u001b[0;32m    126\u001b[0m \u001b[39mif\u001b[39;00m MQTT_ERR_SUCCESS \u001b[39m==\u001b[39m rc:\n\u001b[0;32m    127\u001b[0m     \u001b[39mself\u001b[39m\u001b[39m.\u001b[39mstart_background_network_io()\n",
      "File \u001b[1;32mc:\\Users\\yshin\\OneDrive - trengx\\trengx\\code\\trengx\\.venv\\lib\\site-packages\\AWSIoTPythonSDK\\core\\protocol\\paho\\client.py:665\u001b[0m, in \u001b[0;36mClient.connect\u001b[1;34m(self, host, port, keepalive, bind_address)\u001b[0m\n\u001b[0;32m    654\u001b[0m \u001b[39m\u001b[39m\u001b[39m\"\"\"Connect to a remote broker.\u001b[39;00m\n\u001b[0;32m    655\u001b[0m \n\u001b[0;32m    656\u001b[0m \u001b[39mhost is the hostname or IP address of the remote broker.\u001b[39;00m\n\u001b[1;32m   (...)\u001b[0m\n\u001b[0;32m    662\u001b[0m \u001b[39mrate at which the client will send ping messages to the broker.\u001b[39;00m\n\u001b[0;32m    663\u001b[0m \u001b[39m\"\"\"\u001b[39;00m\n\u001b[0;32m    664\u001b[0m \u001b[39mself\u001b[39m\u001b[39m.\u001b[39mconnect_async(host, port, keepalive, bind_address)\n\u001b[1;32m--> 665\u001b[0m \u001b[39mreturn\u001b[39;00m \u001b[39mself\u001b[39;49m\u001b[39m.\u001b[39;49mreconnect()\n",
      "File \u001b[1;32mc:\\Users\\yshin\\OneDrive - trengx\\trengx\\code\\trengx\\.venv\\lib\\site-packages\\AWSIoTPythonSDK\\core\\protocol\\paho\\client.py:819\u001b[0m, in \u001b[0;36mClient.reconnect\u001b[1;34m(self)\u001b[0m\n\u001b[0;32m    817\u001b[0m     \u001b[39mself\u001b[39m\u001b[39m.\u001b[39m_ssl\u001b[39m.\u001b[39mdo_handshake()\n\u001b[0;32m    818\u001b[0m \u001b[39melse\u001b[39;00m:\n\u001b[1;32m--> 819\u001b[0m     \u001b[39mself\u001b[39m\u001b[39m.\u001b[39m_ssl \u001b[39m=\u001b[39m ssl\u001b[39m.\u001b[39;49mwrap_socket(\n\u001b[0;32m    820\u001b[0m         sock,\n\u001b[0;32m    821\u001b[0m         certfile\u001b[39m=\u001b[39;49m\u001b[39mself\u001b[39;49m\u001b[39m.\u001b[39;49m_tls_certfile,\n\u001b[0;32m    822\u001b[0m         keyfile\u001b[39m=\u001b[39;49m\u001b[39mself\u001b[39;49m\u001b[39m.\u001b[39;49m_tls_keyfile,\n\u001b[0;32m    823\u001b[0m         ca_certs\u001b[39m=\u001b[39;49m\u001b[39mself\u001b[39;49m\u001b[39m.\u001b[39;49m_tls_ca_certs,\n\u001b[0;32m    824\u001b[0m         cert_reqs\u001b[39m=\u001b[39;49m\u001b[39mself\u001b[39;49m\u001b[39m.\u001b[39;49m_tls_cert_reqs,\n\u001b[0;32m    825\u001b[0m         ssl_version\u001b[39m=\u001b[39;49m\u001b[39mself\u001b[39;49m\u001b[39m.\u001b[39;49m_tls_version,\n\u001b[0;32m    826\u001b[0m         ciphers\u001b[39m=\u001b[39;49m\u001b[39mself\u001b[39;49m\u001b[39m.\u001b[39;49m_tls_ciphers)\n\u001b[0;32m    828\u001b[0m \u001b[39mif\u001b[39;00m verify_hostname:\n\u001b[0;32m    829\u001b[0m     \u001b[39mif\u001b[39;00m sys\u001b[39m.\u001b[39mversion_info[\u001b[39m0\u001b[39m] \u001b[39m<\u001b[39m \u001b[39m3\u001b[39m \u001b[39mor\u001b[39;00m (sys\u001b[39m.\u001b[39mversion_info[\u001b[39m0\u001b[39m] \u001b[39m==\u001b[39m \u001b[39m3\u001b[39m \u001b[39mand\u001b[39;00m sys\u001b[39m.\u001b[39mversion_info[\u001b[39m1\u001b[39m] \u001b[39m<\u001b[39m \u001b[39m5\u001b[39m):  \u001b[39m# No IP host match before 3.5.x\u001b[39;00m\n",
      "File \u001b[1;32m~\\AppData\\Local\\Programs\\Python\\Python38\\lib\\ssl.py:1405\u001b[0m, in \u001b[0;36mwrap_socket\u001b[1;34m(sock, keyfile, certfile, server_side, cert_reqs, ssl_version, ca_certs, do_handshake_on_connect, suppress_ragged_eofs, ciphers)\u001b[0m\n\u001b[0;32m   1403\u001b[0m \u001b[39mif\u001b[39;00m ciphers:\n\u001b[0;32m   1404\u001b[0m     context\u001b[39m.\u001b[39mset_ciphers(ciphers)\n\u001b[1;32m-> 1405\u001b[0m \u001b[39mreturn\u001b[39;00m context\u001b[39m.\u001b[39;49mwrap_socket(\n\u001b[0;32m   1406\u001b[0m     sock\u001b[39m=\u001b[39;49msock, server_side\u001b[39m=\u001b[39;49mserver_side,\n\u001b[0;32m   1407\u001b[0m     do_handshake_on_connect\u001b[39m=\u001b[39;49mdo_handshake_on_connect,\n\u001b[0;32m   1408\u001b[0m     suppress_ragged_eofs\u001b[39m=\u001b[39;49msuppress_ragged_eofs\n\u001b[0;32m   1409\u001b[0m )\n",
      "File \u001b[1;32m~\\AppData\\Local\\Programs\\Python\\Python38\\lib\\ssl.py:500\u001b[0m, in \u001b[0;36mSSLContext.wrap_socket\u001b[1;34m(self, sock, server_side, do_handshake_on_connect, suppress_ragged_eofs, server_hostname, session)\u001b[0m\n\u001b[0;32m    494\u001b[0m \u001b[39mdef\u001b[39;00m \u001b[39mwrap_socket\u001b[39m(\u001b[39mself\u001b[39m, sock, server_side\u001b[39m=\u001b[39m\u001b[39mFalse\u001b[39;00m,\n\u001b[0;32m    495\u001b[0m                 do_handshake_on_connect\u001b[39m=\u001b[39m\u001b[39mTrue\u001b[39;00m,\n\u001b[0;32m    496\u001b[0m                 suppress_ragged_eofs\u001b[39m=\u001b[39m\u001b[39mTrue\u001b[39;00m,\n\u001b[0;32m    497\u001b[0m                 server_hostname\u001b[39m=\u001b[39m\u001b[39mNone\u001b[39;00m, session\u001b[39m=\u001b[39m\u001b[39mNone\u001b[39;00m):\n\u001b[0;32m    498\u001b[0m     \u001b[39m# SSLSocket class handles server_hostname encoding before it calls\u001b[39;00m\n\u001b[0;32m    499\u001b[0m     \u001b[39m# ctx._wrap_socket()\u001b[39;00m\n\u001b[1;32m--> 500\u001b[0m     \u001b[39mreturn\u001b[39;00m \u001b[39mself\u001b[39;49m\u001b[39m.\u001b[39;49msslsocket_class\u001b[39m.\u001b[39;49m_create(\n\u001b[0;32m    501\u001b[0m         sock\u001b[39m=\u001b[39;49msock,\n\u001b[0;32m    502\u001b[0m         server_side\u001b[39m=\u001b[39;49mserver_side,\n\u001b[0;32m    503\u001b[0m         do_handshake_on_connect\u001b[39m=\u001b[39;49mdo_handshake_on_connect,\n\u001b[0;32m    504\u001b[0m         suppress_ragged_eofs\u001b[39m=\u001b[39;49msuppress_ragged_eofs,\n\u001b[0;32m    505\u001b[0m         server_hostname\u001b[39m=\u001b[39;49mserver_hostname,\n\u001b[0;32m    506\u001b[0m         context\u001b[39m=\u001b[39;49m\u001b[39mself\u001b[39;49m,\n\u001b[0;32m    507\u001b[0m         session\u001b[39m=\u001b[39;49msession\n\u001b[0;32m    508\u001b[0m     )\n",
      "File \u001b[1;32m~\\AppData\\Local\\Programs\\Python\\Python38\\lib\\ssl.py:1040\u001b[0m, in \u001b[0;36mSSLSocket._create\u001b[1;34m(cls, sock, server_side, do_handshake_on_connect, suppress_ragged_eofs, server_hostname, context, session)\u001b[0m\n\u001b[0;32m   1037\u001b[0m         \u001b[39mif\u001b[39;00m timeout \u001b[39m==\u001b[39m \u001b[39m0.0\u001b[39m:\n\u001b[0;32m   1038\u001b[0m             \u001b[39m# non-blocking\u001b[39;00m\n\u001b[0;32m   1039\u001b[0m             \u001b[39mraise\u001b[39;00m \u001b[39mValueError\u001b[39;00m(\u001b[39m\"\u001b[39m\u001b[39mdo_handshake_on_connect should not be specified for non-blocking sockets\u001b[39m\u001b[39m\"\u001b[39m)\n\u001b[1;32m-> 1040\u001b[0m         \u001b[39mself\u001b[39;49m\u001b[39m.\u001b[39;49mdo_handshake()\n\u001b[0;32m   1041\u001b[0m \u001b[39mexcept\u001b[39;00m (\u001b[39mOSError\u001b[39;00m, \u001b[39mValueError\u001b[39;00m):\n\u001b[0;32m   1042\u001b[0m     \u001b[39mself\u001b[39m\u001b[39m.\u001b[39mclose()\n",
      "File \u001b[1;32m~\\AppData\\Local\\Programs\\Python\\Python38\\lib\\ssl.py:1309\u001b[0m, in \u001b[0;36mSSLSocket.do_handshake\u001b[1;34m(self, block)\u001b[0m\n\u001b[0;32m   1307\u001b[0m     \u001b[39mif\u001b[39;00m timeout \u001b[39m==\u001b[39m \u001b[39m0.0\u001b[39m \u001b[39mand\u001b[39;00m block:\n\u001b[0;32m   1308\u001b[0m         \u001b[39mself\u001b[39m\u001b[39m.\u001b[39msettimeout(\u001b[39mNone\u001b[39;00m)\n\u001b[1;32m-> 1309\u001b[0m     \u001b[39mself\u001b[39;49m\u001b[39m.\u001b[39;49m_sslobj\u001b[39m.\u001b[39;49mdo_handshake()\n\u001b[0;32m   1310\u001b[0m \u001b[39mfinally\u001b[39;00m:\n\u001b[0;32m   1311\u001b[0m     \u001b[39mself\u001b[39m\u001b[39m.\u001b[39msettimeout(timeout)\n",
      "\u001b[1;31mSSLCertVerificationError\u001b[0m: [SSL: CERTIFICATE_VERIFY_FAILED] certificate verify failed: unable to get local issuer certificate (_ssl.c:1131)"
     ]
    }
   ],
   "source": [
    "# AWSIoTPythonSDK\n",
    "# https://s3.amazonaws.com/aws-iot-device-sdk-python-docs/sphinx/html/index.html\n",
    "\n",
    "import time\n",
    "import os\n",
    "import logging\n",
    "\n",
    "from AWSIoTPythonSDK.MQTTLib import AWSIoTMQTTClient\n",
    "\n",
    "# Set up logging\n",
    "logging.basicConfig(level=logging.DEBUG,\n",
    "                    format='%(asctime)s - %(levelname)s - %(message)s')\n",
    "\n",
    "AWS_ENDPOINT = os.getenv('AWS_IOT_ENDPOINT')\n",
    "ROOT_CA_PATH = os.getenv('ROOT_CA_PATH')  # Path to your Root CA file\n",
    "PRIVATE_KEY_PATH = os.getenv('PRIVATE_KEY_PATH')  # Path to your private key file\n",
    "CERTIFICATE_PATH = os.getenv('CERTIFICATE_PATH')  # Path to your certificate file\n",
    "CLIENT_ID = \"device-1\"  # Update this with your desired client ID\n",
    "\n",
    "logging.info('Initializing AWSIoTMQTTClient')\n",
    "\n",
    "# Init AWSIoTMQTTClient\n",
    "myAWSIoTMQTTClient = AWSIoTMQTTClient(CLIENT_ID, useWebsocket=False)\n",
    "myAWSIoTMQTTClient.configureEndpoint(AWS_ENDPOINT, 8883) # Use 8883 for standard MQTT or 443 for MQTT over Websockets\n",
    "myAWSIoTMQTTClient.configureCredentials(ROOT_CA_PATH, PRIVATE_KEY_PATH, CERTIFICATE_PATH)\n",
    "\n",
    "logging.info('Connecting to AWS IoT')\n",
    "\n",
    "# Connect to AWS IoT\n",
    "myAWSIoTMQTTClient.connect()\n",
    "\n",
    "# Number of messages to send\n",
    "NUM_MESSAGES = 1\n",
    "\n",
    "# Start the timer\n",
    "start_time = time.time()\n",
    "\n",
    "# Send the messages in a loop\n",
    "for i in range(NUM_MESSAGES):\n",
    "    msg = {\"message\": f\"Hi {i}\"}\n",
    "    logging.info(f'Sending message: {msg}')\n",
    "    myAWSIoTMQTTClient.publish(\"topic\", msg, 1)\n",
    "\n",
    "# Stop the timer\n",
    "end_time = time.time()\n",
    "\n",
    "# Calculate the time taken\n",
    "time_taken = end_time - start_time\n",
    "\n",
    "# Disconnect from AWS IoT\n",
    "myAWSIoTMQTTClient.disconnect()\n",
    "\n",
    "logging.info('Disconnected from AWS IoT')\n",
    "\n",
    "# Print the result\n",
    "print(f\"Time taken to send {NUM_MESSAGES} messages: {time_taken} seconds\")\n"
   ]
  }
 ],
 "metadata": {
  "kernelspec": {
   "display_name": ".venv",
   "language": "python",
   "name": "python3"
  },
  "language_info": {
   "codemirror_mode": {
    "name": "ipython",
    "version": 3
   },
   "file_extension": ".py",
   "mimetype": "text/x-python",
   "name": "python",
   "nbconvert_exporter": "python",
   "pygments_lexer": "ipython3",
   "version": "3.8.10"
  },
  "orig_nbformat": 4
 },
 "nbformat": 4,
 "nbformat_minor": 2
}
