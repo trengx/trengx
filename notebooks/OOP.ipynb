{
 "cells": [
  {
   "cell_type": "markdown",
   "metadata": {},
   "source": [
    "# Hardware Emulation and PYNQ\n",
    "\n",
    "This notebook shows how to set up PYNQ to use the Vitis hardware emulator rather than real hardware. The starting point is to build the emulation xclbin file which follows the exact same steps as for building one for real hardware. You can see the *Building with Vitis* notebook alongside this one for more details on the commands used.\n",
    "\n",
    "The only change we need to make is to pass `-t hw_emu` to the `v++` tool."
   ]
  },
  {
   "cell_type": "code",
   "execution_count": 1,
   "metadata": {},
   "outputs": [
    {
     "name": "stdout",
     "output_type": "stream",
     "text": [
      "Overwriting oop.cpp\n"
     ]
    }
   ],
   "source": [
    "%%writefile oop.cpp\n",
    "\n",
    "#include <ap_int.h>\n",
    "\n",
    "class Node {\n",
    "public:\n",
    "    ap_int<32> id;\n",
    "    ap_int<32> inV;\n",
    "    ap_int<32> outV;\n",
    "    ap_int<32> value;\n",
    "\n",
    "    ap_int<32> operate(Node* nodes) {\n",
    "        return nodes[outV].value;\n",
    "    }\n",
    "};\n",
    "\n",
    "extern \"C\" {\n",
    "    void oop(Node* nodes, ap_int<32> start_id, ap_int<32>* out) {\n",
    "        #pragma HLS INTERFACE m_axi port=nodes offset=slave bundle=gmem\n",
    "        #pragma HLS INTERFACE s_axilite port=start_id\n",
    "        #pragma HLS INTERFACE m_axi port=out offset=slave bundle=gmem\n",
    "        #pragma HLS INTERFACE s_axilite port=out\n",
    "        #pragma HLS INTERFACE s_axilite port=return\n",
    "\n",
    "        ap_int<32> current_id = start_id;\n",
    "\n",
    "        *out = nodes[current_id].operate(nodes);\n",
    "    }\n",
    "}\n",
    "\n",
    "\n"
   ]
  },
  {
   "cell_type": "code",
   "execution_count": 2,
   "metadata": {},
   "outputs": [],
   "source": [
    "import glob\n",
    "\n",
    "platform = glob.glob(\"/opt/xilinx/platforms/*/*.xpfm\")[0]"
   ]
  },
  {
   "cell_type": "code",
   "execution_count": 3,
   "metadata": {
    "scrolled": true
   },
   "outputs": [
    {
     "name": "stdout",
     "output_type": "stream",
     "text": [
      "Option Map File Used: '/tools/Xilinx/Vitis/2022.1/data/vitis/vpp/optMap.xml'\n",
      "\n",
      "****** v++ v2022.1 (64-bit)\n",
      "  **** SW Build 3524075 on 2022-04-13-17:42:45\n",
      "    ** Copyright 1986-2022 Xilinx, Inc. All Rights Reserved.\n",
      "\n",
      "INFO: [v++ 60-1306] Additional information associated with this v++ compile can be found at:\n",
      "\tReports: /home/jun/pynq-notebooks/4-building-and-emulation/_x/reports/oop\n",
      "\tLog files: /home/jun/pynq-notebooks/4-building-and-emulation/_x/logs/oop\n",
      "Running Dispatch Server on port: 37289\n",
      "INFO: [v++ 60-1548] Creating build summary session with primary output /home/jun/pynq-notebooks/4-building-and-emulation/oop.xo.compile_summary, at Thu Jul 20 04:56:11 2023\n",
      "INFO: [v++ 60-1316] Initiating connection to rulecheck server, at Thu Jul 20 04:56:11 2023\n",
      "INFO: [v++ 60-1315] Creating rulecheck session with output '/home/jun/pynq-notebooks/4-building-and-emulation/_x/reports/oop/v++_compile_oop_guidance.html', at Thu Jul 20 04:56:13 2023\n",
      "INFO: [v++ 60-895]   Target platform: /opt/xilinx/platforms/xilinx_u250_gen3x16_xdma_2_1_202010_1/xilinx_u250_gen3x16_xdma_2_1_202010_1.xpfm\n",
      "INFO: [v++ 60-1578]   This platform contains Xilinx Shell Archive '/opt/xilinx/platforms/xilinx_u250_gen3x16_xdma_2_1_202010_1/hw/hw.xsa'\n",
      "INFO: [v++ 74-78] Compiler Version string: 2022.1\n",
      "INFO: [v++ 60-1302] Platform 'xilinx_u250_gen3x16_xdma_2_1_202010_1.xpfm' has been explicitly enabled for this release.\n",
      "INFO: [v++ 60-585] Compiling for hardware emulation target\n",
      "INFO: [v++ 60-423]   Target device: xilinx_u250_gen3x16_xdma_2_1_202010_1\n",
      "INFO: [v++ 60-242] Creating kernel: 'oop'\n",
      "\n",
      "===>The following messages were generated while  performing high-level synthesis for kernel: oop Log file: /home/jun/pynq-notebooks/4-building-and-emulation/_x/oop/oop/vitis_hls.log :\n",
      "INFO: [v++ 200-789] **** Estimated Fmax: 411.00 MHz\n",
      "INFO: [v++ 60-594] Finished kernel compilation\n",
      "INFO: [v++ 60-244] Generating system estimate report...\n",
      "INFO: [v++ 60-1092] Generated system estimate report: /home/jun/pynq-notebooks/4-building-and-emulation/_x/reports/oop/system_estimate_oop.xtxt\n",
      "WARNING: [v++-17-1525]  \n",
      "INFO: [v++ 60-586] Created oop.xo\n",
      "INFO: [v++ 60-2343] Use the vitis_analyzer tool to visualize and navigate the relevant reports. Run the following command. \n",
      "    vitis_analyzer /home/jun/pynq-notebooks/4-building-and-emulation/oop.xo.compile_summary \n",
      "INFO: [v++ 60-791] Total elapsed time: 0h 0m 43s\n",
      "INFO: [v++ 60-1653] Closing dispatch client.\n"
     ]
    }
   ],
   "source": [
    "!v++ -c oop.cpp -t hw_emu --kernel oop -f $platform -o oop.xo"
   ]
  },
  {
   "cell_type": "markdown",
   "metadata": {},
   "source": [
    "The output is the `fir.xo` file which contains the compiled kernel"
   ]
  },
  {
   "cell_type": "code",
   "execution_count": 4,
   "metadata": {
    "scrolled": true
   },
   "outputs": [
    {
     "name": "stdout",
     "output_type": "stream",
     "text": [
      "Option Map File Used: '/tools/Xilinx/Vitis/2022.1/data/vitis/vpp/optMap.xml'\n",
      "\n",
      "****** v++ v2022.1 (64-bit)\n",
      "  **** SW Build 3524075 on 2022-04-13-17:42:45\n",
      "    ** Copyright 1986-2022 Xilinx, Inc. All Rights Reserved.\n",
      "\n",
      "INFO: [v++ 60-1306] Additional information associated with this v++ link can be found at:\n",
      "\tReports: /home/jun/pynq-notebooks/4-building-and-emulation/_x/reports/link\n",
      "\tLog files: /home/jun/pynq-notebooks/4-building-and-emulation/_x/logs/link\n",
      "Running Dispatch Server on port: 45693\n",
      "INFO: [v++ 60-1548] Creating build summary session with primary output /home/jun/pynq-notebooks/4-building-and-emulation/oop_emu.xclbin.link_summary, at Thu Jul 20 04:56:57 2023\n",
      "INFO: [v++ 60-1316] Initiating connection to rulecheck server, at Thu Jul 20 04:56:57 2023\n",
      "INFO: [v++ 60-1315] Creating rulecheck session with output '/home/jun/pynq-notebooks/4-building-and-emulation/_x/reports/link/v++_link_oop_emu_guidance.html', at Thu Jul 20 04:56:59 2023\n",
      "INFO: [v++ 60-895]   Target platform: /opt/xilinx/platforms/xilinx_u250_gen3x16_xdma_2_1_202010_1/xilinx_u250_gen3x16_xdma_2_1_202010_1.xpfm\n",
      "INFO: [v++ 60-1578]   This platform contains Xilinx Shell Archive '/opt/xilinx/platforms/xilinx_u250_gen3x16_xdma_2_1_202010_1/hw/hw.xsa'\n",
      "INFO: [v++ 74-78] Compiler Version string: 2022.1\n",
      "INFO: [v++ 60-1302] Platform 'xilinx_u250_gen3x16_xdma_2_1_202010_1.xpfm' has been explicitly enabled for this release.\n",
      "INFO: [v++ 60-629] Linking for hardware emulation target\n",
      "INFO: [v++ 60-423]   Target device: xilinx_u250_gen3x16_xdma_2_1_202010_1\n",
      "INFO: [v++ 60-1332] Run 'run_link' status: Not started\n",
      "INFO: [v++ 60-1443] [04:57:03] Run run_link: Step system_link: Started\n",
      "INFO: [v++ 60-1453] Command Line: system_link --xo /home/jun/pynq-notebooks/4-building-and-emulation/oop.xo --xpfm /opt/xilinx/platforms/xilinx_u250_gen3x16_xdma_2_1_202010_1/xilinx_u250_gen3x16_xdma_2_1_202010_1.xpfm --target emu --output_dir /home/jun/pynq-notebooks/4-building-and-emulation/_x/link/int --temp_dir /home/jun/pynq-notebooks/4-building-and-emulation/_x/link/sys_link\n",
      "INFO: [v++ 60-1454] Run Directory: /home/jun/pynq-notebooks/4-building-and-emulation/_x/link/run_link\n",
      "INFO: [SYSTEM_LINK 60-1316] Initiating connection to rulecheck server, at Thu Jul 20 04:57:05 2023\n",
      "INFO: [SYSTEM_LINK 82-70] Extracting xo v3 file /home/jun/pynq-notebooks/4-building-and-emulation/oop.xo\n",
      "INFO: [SYSTEM_LINK 82-53] Creating IP database /home/jun/pynq-notebooks/4-building-and-emulation/_x/link/sys_link/_sysl/.cdb/xd_ip_db.xml\n",
      "INFO: [SYSTEM_LINK 82-38] [04:57:06] build_xd_ip_db started: /tools/Xilinx/Vitis/2022.1/bin/build_xd_ip_db -ip_search 0  -sds-pf /home/jun/pynq-notebooks/4-building-and-emulation/_x/link/sys_link/hw_emu/pfm_dynamic_emu.hpfm -clkid 0 -ip /home/jun/pynq-notebooks/4-building-and-emulation/_x/link/sys_link/iprepo/xilinx_com_hls_oop_1_0,oop -o /home/jun/pynq-notebooks/4-building-and-emulation/_x/link/sys_link/_sysl/.cdb/xd_ip_db.xml\n",
      "INFO: [SYSTEM_LINK 82-37] [04:57:14] build_xd_ip_db finished successfully\n",
      "Time (s): cpu = 00:00:11 ; elapsed = 00:00:09 . Memory (MB): peak = 2329.512 ; gain = 0.000 ; free physical = 160576 ; free virtual = 167955\n",
      "INFO: [SYSTEM_LINK 82-51] Create system connectivity graph\n",
      "INFO: [SYSTEM_LINK 82-102] Applying explicit connections to the system connectivity graph: /home/jun/pynq-notebooks/4-building-and-emulation/_x/link/sys_link/cfgraph/cfgen_cfgraph.xml\n",
      "INFO: [SYSTEM_LINK 82-38] [04:57:14] cfgen started: /tools/Xilinx/Vitis/2022.1/bin/cfgen -dmclkid 0 -r /home/jun/pynq-notebooks/4-building-and-emulation/_x/link/sys_link/_sysl/.cdb/xd_ip_db.xml -o /home/jun/pynq-notebooks/4-building-and-emulation/_x/link/sys_link/cfgraph/cfgen_cfgraph.xml\n",
      "INFO: [CFGEN 83-0] Kernel Specs: \n",
      "INFO: [CFGEN 83-0]   kernel: oop, num: 1  {oop_1}\n",
      "INFO: [CFGEN 83-2226] Inferring mapping for argument oop_1.nodes to DDR[1]\n",
      "INFO: [CFGEN 83-2226] Inferring mapping for argument oop_1.out to DDR[1]\n",
      "INFO: [SYSTEM_LINK 82-37] [04:57:20] cfgen finished successfully\n",
      "Time (s): cpu = 00:00:06 ; elapsed = 00:00:06 . Memory (MB): peak = 2329.512 ; gain = 0.000 ; free physical = 160576 ; free virtual = 167955\n",
      "INFO: [SYSTEM_LINK 82-52] Create top-level block diagram\n",
      "INFO: [SYSTEM_LINK 82-38] [04:57:20] cf2bd started: /tools/Xilinx/Vitis/2022.1/bin/cf2bd  --linux --trace_buffer 1024 --input_file /home/jun/pynq-notebooks/4-building-and-emulation/_x/link/sys_link/cfgraph/cfgen_cfgraph.xml --ip_db /home/jun/pynq-notebooks/4-building-and-emulation/_x/link/sys_link/_sysl/.cdb/xd_ip_db.xml --cf_name dr --working_dir /home/jun/pynq-notebooks/4-building-and-emulation/_x/link/sys_link/_sysl/.xsd --temp_dir /home/jun/pynq-notebooks/4-building-and-emulation/_x/link/sys_link --output_dir /home/jun/pynq-notebooks/4-building-and-emulation/_x/link/int --target_bd hw_emu/pfm_dynamic/pfm_dynamic.bd\n",
      "INFO: [CF2BD 82-31] Launching cf2xd: cf2xd -linux -trace-buffer 1024 -i /home/jun/pynq-notebooks/4-building-and-emulation/_x/link/sys_link/cfgraph/cfgen_cfgraph.xml -r /home/jun/pynq-notebooks/4-building-and-emulation/_x/link/sys_link/_sysl/.cdb/xd_ip_db.xml -o dr.xml\n",
      "INFO: [CF2BD 82-28] cf2xd finished successfully\n",
      "INFO: [CF2BD 82-31] Launching cf_xsd: cf_xsd -disable-address-gen -bd hw_emu/pfm_dynamic/pfm_dynamic.bd -dn dr -dp /home/jun/pynq-notebooks/4-building-and-emulation/_x/link/sys_link/_sysl/.xsd\n",
      "INFO: [CF2BD 82-28] cf_xsd finished successfully\n",
      "INFO: [SYSTEM_LINK 82-37] [04:57:24] cf2bd finished successfully\n",
      "Time (s): cpu = 00:00:04 ; elapsed = 00:00:04 . Memory (MB): peak = 2329.512 ; gain = 0.000 ; free physical = 160568 ; free virtual = 167952\n",
      "INFO: [v++ 60-1441] [04:57:24] Run run_link: Step system_link: Completed\n",
      "Time (s): cpu = 00:00:24 ; elapsed = 00:00:21 . Memory (MB): peak = 2206.859 ; gain = 0.000 ; free physical = 160625 ; free virtual = 168004\n",
      "INFO: [v++ 60-1443] [04:57:24] Run run_link: Step cf2sw: Started\n",
      "INFO: [v++ 60-1453] Command Line: cf2sw -sdsl /home/jun/pynq-notebooks/4-building-and-emulation/_x/link/int/sdsl.dat -rtd /home/jun/pynq-notebooks/4-building-and-emulation/_x/link/int/cf2sw.rtd -nofilter /home/jun/pynq-notebooks/4-building-and-emulation/_x/link/int/cf2sw_full.rtd -xclbin /home/jun/pynq-notebooks/4-building-and-emulation/_x/link/int/xclbin_orig.xml -o /home/jun/pynq-notebooks/4-building-and-emulation/_x/link/int/xclbin_orig.1.xml\n",
      "INFO: [v++ 60-1454] Run Directory: /home/jun/pynq-notebooks/4-building-and-emulation/_x/link/run_link\n",
      "INFO: [v++ 60-1441] [04:57:28] Run run_link: Step cf2sw: Completed\n",
      "Time (s): cpu = 00:00:04 ; elapsed = 00:00:04 . Memory (MB): peak = 2206.859 ; gain = 0.000 ; free physical = 160627 ; free virtual = 168006\n",
      "INFO: [v++ 60-1443] [04:57:28] Run run_link: Step rtd2_system_diagram: Started\n",
      "INFO: [v++ 60-1453] Command Line: rtd2SystemDiagram\n",
      "INFO: [v++ 60-1454] Run Directory: /home/jun/pynq-notebooks/4-building-and-emulation/_x/link/run_link\n",
      "INFO: [v++ 60-1441] [04:57:29] Run run_link: Step rtd2_system_diagram: Completed\n",
      "Time (s): cpu = 00:00:00 ; elapsed = 00:00:00.75 . Memory (MB): peak = 2206.859 ; gain = 0.000 ; free physical = 160618 ; free virtual = 167996\n",
      "INFO: [v++ 60-1443] [04:57:29] Run run_link: Step vpl: Started\n",
      "INFO: [v++ 60-1453] Command Line: vpl -t hw_emu -f /opt/xilinx/platforms/xilinx_u250_gen3x16_xdma_2_1_202010_1/xilinx_u250_gen3x16_xdma_2_1_202010_1.xpfm --remote_ip_cache /home/jun/pynq-notebooks/4-building-and-emulation/.ipcache --output_dir /home/jun/pynq-notebooks/4-building-and-emulation/_x/link/int --log_dir /home/jun/pynq-notebooks/4-building-and-emulation/_x/logs/link --report_dir /home/jun/pynq-notebooks/4-building-and-emulation/_x/reports/link --config /home/jun/pynq-notebooks/4-building-and-emulation/_x/link/int/vplConfig.ini -k /home/jun/pynq-notebooks/4-building-and-emulation/_x/link/int/kernel_info.dat --webtalk_flag Vitis --temp_dir /home/jun/pynq-notebooks/4-building-and-emulation/_x/link --emulation_mode debug_waveform --no-info --iprepo /home/jun/pynq-notebooks/4-building-and-emulation/_x/link/int/xo/ip_repo/xilinx_com_hls_oop_1_0 --messageDb /home/jun/pynq-notebooks/4-building-and-emulation/_x/link/run_link/vpl.pb /home/jun/pynq-notebooks/4-building-and-emulation/_x/link/int/dr.bd.tcl\n",
      "INFO: [v++ 60-1454] Run Directory: /home/jun/pynq-notebooks/4-building-and-emulation/_x/link/run_link\n",
      "\n",
      "****** vpl v2022.1 (64-bit)\n",
      "  **** SW Build 3524075 on 2022-04-13-17:42:45\n",
      "    ** Copyright 1986-2022 Xilinx, Inc. All Rights Reserved.\n",
      "\n",
      "INFO: [VPL 60-839] Read in kernel information from file '/home/jun/pynq-notebooks/4-building-and-emulation/_x/link/int/kernel_info.dat'.\n",
      "INFO: [VPL 74-78] Compiler Version string: 2022.1\n",
      "INFO: [VPL 60-423]   Target device: xilinx_u250_gen3x16_xdma_2_1_202010_1\n",
      "INFO: [VPL 60-1032] Extracting hardware platform to /home/jun/pynq-notebooks/4-building-and-emulation/_x/link/vivado/vpl/.local/hw_platform\n",
      "[04:57:44] Run vpl: Step create_project: Started\n",
      "Creating Vivado project.\n",
      "[04:57:49] Run vpl: Step create_project: Completed\n",
      "[04:57:49] Run vpl: Step create_bd: Started\n",
      "[04:59:05] Run vpl: Step create_bd: RUNNING...\n",
      "[04:59:19] Run vpl: Step create_bd: Completed\n",
      "[04:59:19] Run vpl: Step update_bd: Started\n",
      "[04:59:19] Run vpl: Step update_bd: Completed\n",
      "[04:59:19] Run vpl: Step generate_target: Started\n",
      "[05:00:35] Run vpl: Step generate_target: RUNNING...\n",
      "[05:01:21] Run vpl: Step generate_target: Completed\n",
      "[05:01:21] Run vpl: Step config_hw_emu.gen_scripts: Started\n",
      "[05:01:42] Run vpl: Step config_hw_emu.gen_scripts: Completed\n",
      "[05:01:42] Run vpl: Step config_hw_emu.compile: Started\n",
      "[05:02:27] Run vpl: Step config_hw_emu.compile: Completed\n",
      "[05:02:27] Run vpl: Step config_hw_emu.elaborate: Started\n",
      "[05:02:54] Run vpl: Step config_hw_emu.elaborate: Completed\n",
      "[05:02:54] Run vpl: FINISHED. Run Status: config_hw_emu.elaborate Complete!\n",
      "INFO: [v++ 60-1441] [05:02:54] Run run_link: Step vpl: Completed\n",
      "Time (s): cpu = 00:00:11 ; elapsed = 00:05:25 . Memory (MB): peak = 2206.859 ; gain = 0.000 ; free physical = 157448 ; free virtual = 165416\n",
      "INFO: [v++ 60-1443] [05:02:54] Run run_link: Step rtdgen: Started\n",
      "INFO: [v++ 60-1453] Command Line: rtdgen\n",
      "INFO: [v++ 60-1454] Run Directory: /home/jun/pynq-notebooks/4-building-and-emulation/_x/link/run_link\n",
      "INFO: [v++ 60-991] clock name 'kernel2_clk/clk' (clock ID '1') is being mapped to clock name 'KERNEL_CLK' in the xclbin\n",
      "INFO: [v++ 60-991] clock name 'kernel_clk/clk' (clock ID '0') is being mapped to clock name 'DATA_CLK' in the xclbin\n",
      "INFO: [v++ 60-1230] The compiler selected the following frequencies for the runtime controllable kernel clock(s) and scalable system clock(s): Kernel (KERNEL) clock: kernel2_clk/clk = 500, Kernel (DATA) clock: kernel_clk/clk = 300\n",
      "INFO: [v++ 60-1453] Command Line: cf2sw -a /home/jun/pynq-notebooks/4-building-and-emulation/_x/link/int/address_map.xml -sdsl /home/jun/pynq-notebooks/4-building-and-emulation/_x/link/int/sdsl.dat -xclbin /home/jun/pynq-notebooks/4-building-and-emulation/_x/link/int/xclbin_orig.xml -rtd /home/jun/pynq-notebooks/4-building-and-emulation/_x/link/int/oop_emu.rtd -o /home/jun/pynq-notebooks/4-building-and-emulation/_x/link/int/oop_emu.xml\n",
      "INFO: [v++ 60-1652] Cf2sw returned exit code: 0\n",
      "WARNING: [v++ 60-1455] Debuggable symbols are not generated successfully, clean up /home/jun/pynq-notebooks/4-building-and-emulation/_x/link/int/consolidated.cf\n",
      "INFO: [v++ 60-1441] [05:03:01] Run run_link: Step rtdgen: Completed\n",
      "Time (s): cpu = 00:00:06 ; elapsed = 00:00:07 . Memory (MB): peak = 2206.859 ; gain = 0.000 ; free physical = 159971 ; free virtual = 167966\n",
      "INFO: [v++ 60-1443] [05:03:01] Run run_link: Step xclbinutil: Started\n",
      "INFO: [v++ 60-1453] Command Line: xclbinutil --add-section BITSTREAM:RAW:/home/jun/pynq-notebooks/4-building-and-emulation/_x/link/int/behav.xse --force --target hw_emu --key-value SYS:dfx_enable:false --add-section :JSON:/home/jun/pynq-notebooks/4-building-and-emulation/_x/link/int/oop_emu.rtd --append-section :JSON:/home/jun/pynq-notebooks/4-building-and-emulation/_x/link/int/appendSection.rtd --add-section CLOCK_FREQ_TOPOLOGY:JSON:/home/jun/pynq-notebooks/4-building-and-emulation/_x/link/int/oop_emu_xml.rtd --add-section BUILD_METADATA:JSON:/home/jun/pynq-notebooks/4-building-and-emulation/_x/link/int/oop_emu_build.rtd --add-section EMBEDDED_METADATA:RAW:/home/jun/pynq-notebooks/4-building-and-emulation/_x/link/int/oop_emu.xml --add-section SYSTEM_METADATA:RAW:/home/jun/pynq-notebooks/4-building-and-emulation/_x/link/int/systemDiagramModelSlrBaseAddress.json --key-value SYS:PlatformVBNV:xilinx_u250_gen3x16_xdma_2_1_202010_1 --output /home/jun/pynq-notebooks/4-building-and-emulation/oop_emu.xclbin\n",
      "INFO: [v++ 60-1454] Run Directory: /home/jun/pynq-notebooks/4-building-and-emulation/_x/link/run_link\n",
      "XRT Build Version: 2.13.479 (2022.1)\n",
      "       Build Date: 2022-06-25 02:04:47\n",
      "          Hash ID: 5e92a513c6950e79638b1a879ddb882da34fc683\n",
      "Creating a default 'in-memory' xclbin image.\n",
      "\n",
      "Section: 'BITSTREAM'(0) was successfully added.\n",
      "Size   : 29084565 bytes\n",
      "Format : RAW\n",
      "File   : '/home/jun/pynq-notebooks/4-building-and-emulation/_x/link/int/behav.xse'\n",
      "\n",
      "Section: 'MEM_TOPOLOGY'(6) was successfully added.\n",
      "Format : JSON\n",
      "File   : 'mem_topology'\n",
      "\n",
      "Section: 'IP_LAYOUT'(8) was successfully added.\n",
      "Format : JSON\n",
      "File   : 'ip_layout'\n",
      "\n",
      "Section: 'CONNECTIVITY'(7) was successfully added.\n",
      "Format : JSON\n",
      "File   : 'connectivity'\n",
      "\n",
      "Section: 'CLOCK_FREQ_TOPOLOGY'(11) was successfully added.\n",
      "Size   : 274 bytes\n",
      "Format : JSON\n",
      "File   : '/home/jun/pynq-notebooks/4-building-and-emulation/_x/link/int/oop_emu_xml.rtd'\n",
      "\n",
      "Section: 'BUILD_METADATA'(14) was successfully added.\n",
      "Size   : 1947 bytes\n",
      "Format : JSON\n",
      "File   : '/home/jun/pynq-notebooks/4-building-and-emulation/_x/link/int/oop_emu_build.rtd'\n",
      "\n",
      "Section: 'EMBEDDED_METADATA'(2) was successfully added.\n",
      "Size   : 3046 bytes\n",
      "Format : RAW\n",
      "File   : '/home/jun/pynq-notebooks/4-building-and-emulation/_x/link/int/oop_emu.xml'\n",
      "\n",
      "Section: 'SYSTEM_METADATA'(22) was successfully added.\n",
      "Size   : 10201 bytes\n",
      "Format : RAW\n",
      "File   : '/home/jun/pynq-notebooks/4-building-and-emulation/_x/link/int/systemDiagramModelSlrBaseAddress.json'\n",
      "\n",
      "Section: 'PARTITION_METADATA'(20) was successfully appended to.\n",
      "Format : JSON\n",
      "File   : 'partition_metadata'\n",
      "\n",
      "Section: 'IP_LAYOUT'(8) was successfully appended to.\n",
      "Format : JSON\n",
      "File   : 'ip_layout'\n",
      "Successfully wrote (29114403 bytes) to the output file: /home/jun/pynq-notebooks/4-building-and-emulation/oop_emu.xclbin\n",
      "Leaving xclbinutil.\n",
      "INFO: [v++ 60-1441] [05:03:01] Run run_link: Step xclbinutil: Completed\n",
      "Time (s): cpu = 00:00:00.08 ; elapsed = 00:00:00.21 . Memory (MB): peak = 2206.859 ; gain = 0.000 ; free physical = 159970 ; free virtual = 167966\n",
      "INFO: [v++ 60-1443] [05:03:01] Run run_link: Step xclbinutilinfo: Started\n",
      "INFO: [v++ 60-1453] Command Line: xclbinutil --quiet --force --info /home/jun/pynq-notebooks/4-building-and-emulation/oop_emu.xclbin.info --input /home/jun/pynq-notebooks/4-building-and-emulation/oop_emu.xclbin\n",
      "INFO: [v++ 60-1454] Run Directory: /home/jun/pynq-notebooks/4-building-and-emulation/_x/link/run_link\n",
      "INFO: [v++ 60-1441] [05:03:02] Run run_link: Step xclbinutilinfo: Completed\n",
      "Time (s): cpu = 00:00:00.34 ; elapsed = 00:00:00.39 . Memory (MB): peak = 2206.859 ; gain = 0.000 ; free physical = 159971 ; free virtual = 167966\n",
      "INFO: [v++ 60-1443] [05:03:02] Run run_link: Step generate_sc_driver: Started\n",
      "INFO: [v++ 60-1453] Command Line: \n",
      "INFO: [v++ 60-1454] Run Directory: /home/jun/pynq-notebooks/4-building-and-emulation/_x/link/run_link\n",
      "INFO: [v++ 60-1441] [05:03:02] Run run_link: Step generate_sc_driver: Completed\n",
      "Time (s): cpu = 00:00:00 ; elapsed = 00:00:00.01 . Memory (MB): peak = 2206.859 ; gain = 0.000 ; free physical = 159971 ; free virtual = 167966\n",
      "INFO: [v++ 60-244] Generating system estimate report...\n",
      "INFO: [v++ 60-1092] Generated system estimate report: /home/jun/pynq-notebooks/4-building-and-emulation/_x/reports/link/system_estimate_oop_emu.xtxt\n",
      "INFO: [v++ 60-586] Created oop_emu.xclbin\n",
      "INFO: [v++ 60-1307] Run completed. Additional information can be found in:\n",
      "\tGuidance: /home/jun/pynq-notebooks/4-building-and-emulation/_x/reports/link/v++_link_oop_emu_guidance.html\n",
      "\tSteps Log File: /home/jun/pynq-notebooks/4-building-and-emulation/_x/logs/link/link.steps.log\n",
      "\n",
      "INFO: [v++ 60-2343] Use the vitis_analyzer tool to visualize and navigate the relevant reports. Run the following command. \n",
      "    vitis_analyzer /home/jun/pynq-notebooks/4-building-and-emulation/oop_emu.xclbin.link_summary \n",
      "INFO: [v++ 60-791] Total elapsed time: 0h 6m 15s\n",
      "INFO: [v++ 60-1653] Closing dispatch client.\n"
     ]
    }
   ],
   "source": [
    "!v++ -l -t hw_emu -o oop_emu.xclbin -f $platform oop.xo"
   ]
  },
  {
   "cell_type": "markdown",
   "metadata": {},
   "source": [
    "## Setting up the emulator\n",
    "\n",
    "Now we have a bitstream we can start setting up the emulator. First we use the `emconfigutil` utility to define the system we want to emulate. In this case we want a single instance containing the platform we used."
   ]
  },
  {
   "cell_type": "code",
   "execution_count": 5,
   "metadata": {
    "scrolled": true
   },
   "outputs": [
    {
     "name": "stdout",
     "output_type": "stream",
     "text": [
      "\n",
      "****** configutil v2022.1 (64-bit)\n",
      "  **** SW Build 3524075 on 2022-04-13-17:42:45\n",
      "    ** Copyright 1986-2022 Xilinx, Inc. All Rights Reserved.\n",
      "\n",
      "INFO: [ConfigUtil 60-895]   Target platform: /opt/xilinx/platforms/xilinx_u250_gen3x16_xdma_2_1_202010_1/xilinx_u250_gen3x16_xdma_2_1_202010_1.xpfm\n",
      "INFO: [ConfigUtil 60-1578]   This platform contains Xilinx Shell Archive '/opt/xilinx/platforms/xilinx_u250_gen3x16_xdma_2_1_202010_1/hw/hw.xsa'\n",
      "INFO: [ConfigUtil 60-1032] Extracting hardware platform to ./.Xil/configutil-21474-alveo/hw\n",
      "emulation configuration file `emconfig.json` is created in current working directory \n"
     ]
    }
   ],
   "source": [
    "!emconfigutil -f $platform --nd 1"
   ]
  },
  {
   "cell_type": "markdown",
   "metadata": {},
   "source": [
    "The `emconfig.json` file describes the platform and is used by the emulator runtime. default search path for this file is alongside the executable which would be `/usr/bin/python3` for a Python script. We can override this location by setting the `EMCONFIG_PATH` environment variable."
   ]
  },
  {
   "cell_type": "code",
   "execution_count": 6,
   "metadata": {},
   "outputs": [],
   "source": [
    "import os\n",
    "os.environ['EMCONFIG_PATH'] = os.getcwd()"
   ]
  },
  {
   "cell_type": "markdown",
   "metadata": {},
   "source": [
    "We also need to set the `XCL_EMULATION_MODE` environment variable to tell PYNQ and the underlying runtime to run against the emulator rather than real hardware. Note that this must be done before importing PYNQ."
   ]
  },
  {
   "cell_type": "code",
   "execution_count": 7,
   "metadata": {},
   "outputs": [],
   "source": [
    "os.environ['XCL_EMULATION_MODE'] = 'hw_emu'"
   ]
  },
  {
   "cell_type": "markdown",
   "metadata": {},
   "source": [
    "## Running PYNQ on the Emulator"
   ]
  },
  {
   "cell_type": "markdown",
   "metadata": {},
   "source": [
    "Now we can instantiate our overlay - this will start the emulator in the background"
   ]
  },
  {
   "cell_type": "markdown",
   "metadata": {},
   "source": [
    "We can now use PYNQ in exactly the same way as if we were running against real hardware. For more details on the commands used refer to the _introduction_ notebook. The only change made here is to reduce the number of elements in the array to reduce the time it takes for the emulation to run."
   ]
  },
  {
   "cell_type": "code",
   "execution_count": 8,
   "metadata": {},
   "outputs": [
    {
     "name": "stderr",
     "output_type": "stream",
     "text": [
      "/home/jun/.local/lib/python3.8/site-packages/pydantic/_internal/_config.py:261: UserWarning: Valid config keys have changed in V2:\n",
      "* 'underscore_attrs_are_private' has been removed\n",
      "  warnings.warn(message, UserWarning)\n"
     ]
    },
    {
     "data": {
      "application/javascript": [
       "\n",
       "try {\n",
       "require(['notebook/js/codecell'], function(codecell) {\n",
       "  codecell.CodeCell.options_default.highlight_modes[\n",
       "      'magic_text/x-csrc'] = {'reg':[/^%%microblaze/]};\n",
       "  Jupyter.notebook.events.one('kernel_ready.Kernel', function(){\n",
       "      Jupyter.notebook.get_cells().map(function(cell){\n",
       "          if (cell.cell_type == 'code'){ cell.auto_highlight(); } }) ;\n",
       "  });\n",
       "});\n",
       "} catch (e) {};\n"
      ]
     },
     "metadata": {},
     "output_type": "display_data"
    },
    {
     "data": {
      "application/javascript": [
       "\n",
       "try {\n",
       "require(['notebook/js/codecell'], function(codecell) {\n",
       "  codecell.CodeCell.options_default.highlight_modes[\n",
       "      'magic_text/x-csrc'] = {'reg':[/^%%pybind11/]};\n",
       "  Jupyter.notebook.events.one('kernel_ready.Kernel', function(){\n",
       "      Jupyter.notebook.get_cells().map(function(cell){\n",
       "          if (cell.cell_type == 'code'){ cell.auto_highlight(); } }) ;\n",
       "  });\n",
       "});\n",
       "} catch (e) {};\n"
      ]
     },
     "metadata": {},
     "output_type": "display_data"
    },
    {
     "name": "stdout",
     "output_type": "stream",
     "text": [
      "INFO: [HW-EMU 01] Hardware emulation runs simulation underneath. Using a large data set will result in long simulation times. It is recommended that a small dataset is used for faster execution. The flow uses approximate models for Global memories and interconnect and hence the performance data generated is approximate.\n",
      "configuring penguin scheduler mode\n",
      "scheduler config ert(0), dataflow(1), slots(16), cudma(1), cuisr(0), cdma(0), cus(1)\n",
      "INFO: [HW-EMU 07-0] Please refer the path \"/home/jun/pynq-notebooks/4-building-and-emulation/.run/18715/hw_em/device0/binary_0/behav_waveform/xsim/simulate.log\" for more detailed simulation infos, errors and warnings.\n",
      "989\n"
     ]
    }
   ],
   "source": [
    "import numpy as np\n",
    "from pynq import Overlay, allocate\n",
    "\n",
    "# Load Overlay\n",
    "ol = Overlay(\"oop_emu.xclbin\")\n",
    "\n",
    "# Access the kernel\n",
    "oop = ol.oop_1\n",
    "\n",
    "node_dtype = np.dtype({\n",
    "    'names': ['id', 'inV', 'outV', 'value'],\n",
    "    'formats': [np.int32, np.int32, np.int32, np.int32]\n",
    "})\n",
    "\n",
    "N = 4  # number of nodes\n",
    "\n",
    "# Create a Node object and an output buffer\n",
    "nodes = allocate(shape=(N,), dtype=node_dtype)\n",
    "out = allocate(shape=(1,), dtype=np.int32)\n",
    "\n",
    "nodes[0]['id'] = 0\n",
    "nodes[0]['inV'] = -1  # Set the 'inV' of the first node to -1 as None\n",
    "nodes[0]['outV'] = 1\n",
    "nodes[0]['value'] = 23\n",
    "nodes[1]['id'] = 1\n",
    "nodes[1]['inV'] = 0\n",
    "nodes[1]['outV'] = 2\n",
    "nodes[1]['value'] = 767\n",
    "nodes[2]['id'] = 2\n",
    "nodes[2]['inV'] = 1\n",
    "nodes[2]['outV'] = 3  \n",
    "nodes[2]['value'] = 544\n",
    "nodes[3]['id'] = 3\n",
    "nodes[3]['inV'] = 2\n",
    "nodes[3]['outV'] = -2  # Set the 'outV' of the last node to -2 as None\n",
    "nodes[3]['value'] = 989\n",
    "\n",
    "nodes.sync_to_device()\n",
    "\n",
    "# Call the kernel\n",
    "oop.call(nodes, np.int32(2), out)  # Pass the starting ID as 0\n",
    "\n",
    "nodes.sync_from_device()\n",
    "\n",
    "# Print the result\n",
    "print(out[0])\n"
   ]
  },
  {
   "cell_type": "code",
   "execution_count": 9,
   "metadata": {},
   "outputs": [
    {
     "ename": "NameError",
     "evalue": "name 'erwrw' is not defined",
     "output_type": "error",
     "traceback": [
      "\u001b[0;31m---------------------------------------------------------------------------\u001b[0m",
      "\u001b[0;31mNameError\u001b[0m                                 Traceback (most recent call last)",
      "Cell \u001b[0;32mIn[9], line 1\u001b[0m\n\u001b[0;32m----> 1\u001b[0m \u001b[43merwrw\u001b[49m\n",
      "\u001b[0;31mNameError\u001b[0m: name 'erwrw' is not defined"
     ]
    }
   ],
   "source": [
    "erwrw"
   ]
  },
  {
   "cell_type": "code",
   "execution_count": null,
   "metadata": {},
   "outputs": [],
   "source": [
    "ol.free()"
   ]
  },
  {
   "cell_type": "markdown",
   "metadata": {},
   "source": [
    "When using emulation it's important to close the device as well as free the bitstream to make the sure the simulator running the background is correctly shut down"
   ]
  },
  {
   "cell_type": "code",
   "execution_count": null,
   "metadata": {},
   "outputs": [],
   "source": [
    "ol.free()\n",
    "pynq.Device.active_device.close()"
   ]
  },
  {
   "cell_type": "markdown",
   "metadata": {},
   "source": [
    "For more information on using the simulator refer the [Vitis debugging documentation](https://www.xilinx.com/html_docs/xilinx2019_2/vitis_doc/Chunk1273465831.html#pht1538574247013). In particular this will show how to\n",
    "\n",
    " * View waveforms of the accelerator execution\n",
    " * Debug the underlying hardware code interactively\n",
    " \n",
    "Copyright (C) 2020 Xilinx, Inc"
   ]
  }
 ],
 "metadata": {
  "kernelspec": {
   "display_name": "Python 3 (ipykernel)",
   "language": "python",
   "name": "python3"
  },
  "language_info": {
   "codemirror_mode": {
    "name": "ipython",
    "version": 3
   },
   "file_extension": ".py",
   "mimetype": "text/x-python",
   "name": "python",
   "nbconvert_exporter": "python",
   "pygments_lexer": "ipython3",
   "version": "3.8.10"
  }
 },
 "nbformat": 4,
 "nbformat_minor": 4
}
