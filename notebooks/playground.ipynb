{
 "cells": [
  {
   "cell_type": "code",
   "execution_count": 1,
   "metadata": {},
   "outputs": [],
   "source": [
    "\"\"\"\n",
    "This script prepares your Python environment by loading essential tools for handling environment variables, \n",
    "interacting with a Neo4j graph database, and utilizing a bespoke graph module, which could be sourced \n",
    "from either a local graph class or optionally from the trengx package.\n",
    "\n",
    "import os: \n",
    "This line imports the built-in Python module os, which provides a portable way of using \n",
    "operating system dependent functionality, like reading or writing to the environment.\n",
    "\n",
    "import sys and sys.path.append('../trengx'): \n",
    "These lines modify the system path that Python uses to look for modules. The sys module provides access \n",
    "to some variables used or maintained by the Python interpreter. In this case, it's used to add \n",
    "the parent directory's trengx subdirectory to the list of directories that Python will search when you import a module.\n",
    "\n",
    "import graph: This line imports the graph module, which is expected to be found in the trengx directory \n",
    "that was just added to the system path. This module likely contains the Graph class that you use in your script. \n",
    "The specific functionality of this module depends on its implementation, but based on context, \n",
    "it likely provides tools for creating and manipulating a computational graph.\n",
    "\"\"\"\n",
    "\n",
    "# %pip install trengx\n",
    "# from trengx import neo4j\n",
    "\n",
    "import os\n",
    "import sys\n",
    "sys.path.append('../trengx')\n",
    "import graph"
   ]
  },
  {
   "cell_type": "code",
   "execution_count": 2,
   "metadata": {},
   "outputs": [],
   "source": [
    "# Retrieve secrets (confidential credentials) from environment variables stored in .env file\n",
    "uri = os.getenv('NEO4J_URI') # Get the value of the uri variable\n",
    "user = os.getenv('NEO4J_USER') # Get the value of the user variable\n",
    "password= os.getenv('NEO4J_PASSWORD')  # Get the value of the password variable\n",
    "\n",
    "# Create a Graph class instance using Graph class in neo4j_graph.py (module)\n",
    "g = graph.Graph(uri, user, password)\n"
   ]
  },
  {
   "cell_type": "code",
   "execution_count": 3,
   "metadata": {},
   "outputs": [
    {
     "data": {
      "text/plain": [
       "True"
      ]
     },
     "execution_count": 3,
     "metadata": {},
     "output_type": "execute_result"
    }
   ],
   "source": [
    "g.delete_all()"
   ]
  },
  {
   "cell_type": "code",
   "execution_count": 1,
   "metadata": {},
   "outputs": [],
   "source": [
    "query=\"\"\"\n",
    "    MATCH (in1)\n",
    "    WHERE in1.uuid = $node_id\n",
    "    SET in1.value = $value\n",
    "    WITH in1\n",
    "    MATCH path = (in1)-[r:num2op|op2num*0..]->()\n",
    "    WHERE all(rel IN relationships(path) WHERE rel.trigger = true)\n",
    "    WITH path\n",
    "    ORDER BY length(path) DESC\n",
    "    LIMIT 1\n",
    "    WITH nodes(path) AS nodes\n",
    "    UNWIND range(0, size(nodes)-2, 2) AS i\n",
    "    WITH nodes[i] AS in1, nodes[i+1] AS op, nodes[i+2] AS out, nodes\n",
    "    MATCH (in1)-[:num2op]->(op)-[:op2num]->(out)\n",
    "    OPTIONAL MATCH (in2)-[:num2op]->(op)\n",
    "    WHERE in1.uuid  <> in2.uuid\n",
    "    WITH in1, op, out, in2, nodes\n",
    "    SET out.value = \n",
    "    CASE \n",
    "        WHEN op.name = '+' THEN in1.value + in2.value\n",
    "        WHEN op.name = '-' AND op.reverse = false THEN in1.value - in2.value\n",
    "        WHEN op.name = '-' AND op.reverse = true THEN in2.value - in1.value\n",
    "        WHEN op.name = '*' THEN in1.value * in2.value\n",
    "        WHEN op.name = '/' AND op.reverse = false AND in2.value <> 0 THEN in1.value / in2.value\n",
    "        WHEN op.name = '/' AND op.reverse = true AND in1.value <> 0 THEN in2.value / in1.value\n",
    "        WHEN op.name = 'sqrt' AND in1.value >= 0 THEN sqrt(in1.value)\n",
    "        WHEN op.name = 'abs' THEN abs(in1.value)\n",
    "        WHEN op.name = 'exp' THEN exp(in1.value)\n",
    "        WHEN op.name = 'log10' AND in1.value > 0 THEN log10(in1.value)\n",
    "        WHEN op.name = 'log' AND in1.value > 0 THEN log(in1.value)\n",
    "        WHEN op.name = 'sin' THEN sin(in1.value)\n",
    "        WHEN op.name = 'cos' THEN cos(in1.value)\n",
    "        WHEN op.name = 'tan' THEN tan(in1.value)\n",
    "        WHEN op.name = 'ceil' THEN ceil(in1.value)\n",
    "        WHEN op.name = 'floor' THEN floor(in1.value)\n",
    "        WHEN op.name = 'round' THEN round(in1.value)\n",
    "        WHEN op.name = 'sign' THEN sign(in1.value)\n",
    "        WHEN op.name = 'store' THEN in1.value\n",
    "        ELSE out.value\n",
    "    END\n",
    "    RETURN nodes\n",
    "\"\"\""
   ]
  },
  {
   "cell_type": "code",
   "execution_count": 5,
   "metadata": {},
   "outputs": [
    {
     "name": "stdout",
     "output_type": "stream",
     "text": [
      "[]\n"
     ]
    }
   ],
   "source": [
    "# Define the parameters for the query.\n",
    "parameters = {'node_id': '5798a9b1-d695-4c93-b081-442ce3784684', 'value': 10}\n",
    "\n",
    "# Use the run_query method to execute the query and fetch the results.\n",
    "results = g.run_query(query, parameters)\n",
    "\n",
    "# Print the results.\n",
    "print(results)"
   ]
  },
  {
   "cell_type": "code",
   "execution_count": 6,
   "metadata": {},
   "outputs": [
    {
     "ename": "NameError",
     "evalue": "name 'e1' is not defined",
     "output_type": "error",
     "traceback": [
      "\u001b[1;31m---------------------------------------------------------------------------\u001b[0m",
      "\u001b[1;31mNameError\u001b[0m                                 Traceback (most recent call last)",
      "Cell \u001b[1;32mIn[6], line 1\u001b[0m\n\u001b[1;32m----> 1\u001b[0m e1_id \u001b[39m=\u001b[39m e1[\u001b[39m'\u001b[39m\u001b[39mid\u001b[39m\u001b[39m'\u001b[39m]\n\u001b[0;32m      2\u001b[0m g\u001b[39m.\u001b[39mget_edge(e1_id)\n",
      "\u001b[1;31mNameError\u001b[0m: name 'e1' is not defined"
     ]
    }
   ],
   "source": [
    "e1_id = e1['id']\n",
    "g.get_edge(e1_id)"
   ]
  },
  {
   "cell_type": "code",
   "execution_count": null,
   "metadata": {},
   "outputs": [
    {
     "data": {
      "text/plain": [
       "'a'"
      ]
     },
     "execution_count": 8,
     "metadata": {},
     "output_type": "execute_result"
    }
   ],
   "source": [
    "g.get_node_property(a_id, 'name')"
   ]
  },
  {
   "cell_type": "code",
   "execution_count": null,
   "metadata": {},
   "outputs": [
    {
     "data": {
      "text/plain": [
       "{'id': '01b5f18e-eb5a-494c-ac46-57504c0f9e3a',\n",
       " 'label': ['num2'],\n",
       " 'properties': {'name': 'Kevin', 'value': 343}}"
      ]
     },
     "execution_count": 9,
     "metadata": {},
     "output_type": "execute_result"
    }
   ],
   "source": [
    "g.update_node_properties (a_id, {'name': 'Kevin', 'value': 343}) \n",
    "node = g.get_node(a_id)  \n",
    "node\n"
   ]
  },
  {
   "cell_type": "code",
   "execution_count": null,
   "metadata": {},
   "outputs": [
    {
     "data": {
      "text/plain": [
       "{'id': '033fdca9-e75c-4788-ba3c-7e07fab69a31',\n",
       " 'label': 'op',\n",
       " 'out_id': '01b5f18e-eb5a-494c-ac46-57504c0f9e3a',\n",
       " 'in_id': 'dc3620ac-07c8-4361-a7a0-5a073851e55d',\n",
       " 'properties': {'name': 'Kevin', 'value': 343}}"
      ]
     },
     "execution_count": 10,
     "metadata": {},
     "output_type": "execute_result"
    }
   ],
   "source": [
    "g.update_edge_properties (e1_id, {'name': 'Kevin', 'value': 343}) \n",
    "edge = g.get_edge(e1_id)  \n",
    "edge\n"
   ]
  },
  {
   "cell_type": "code",
   "execution_count": null,
   "metadata": {},
   "outputs": [],
   "source": [
    "#g.delete_node(a_id, True)"
   ]
  },
  {
   "cell_type": "code",
   "execution_count": null,
   "metadata": {},
   "outputs": [
    {
     "data": {
      "text/plain": [
       "True"
      ]
     },
     "execution_count": 12,
     "metadata": {},
     "output_type": "execute_result"
    }
   ],
   "source": [
    "g.delete_edge(e1_id)"
   ]
  },
  {
   "attachments": {},
   "cell_type": "markdown",
   "metadata": {},
   "source": []
  }
 ],
 "metadata": {
  "kernelspec": {
   "display_name": "Python 3",
   "language": "python",
   "name": "python3"
  },
  "language_info": {
   "codemirror_mode": {
    "name": "ipython",
    "version": 3
   },
   "file_extension": ".py",
   "mimetype": "text/x-python",
   "name": "python",
   "nbconvert_exporter": "python",
   "pygments_lexer": "ipython3",
   "version": "3.8.10"
  },
  "orig_nbformat": 4,
  "vscode": {
   "interpreter": {
    "hash": "3ad933181bd8a04b432d3370b9dc3b0662ad032c4dfaa4e4f1596c548f763858"
   }
  }
 },
 "nbformat": 4,
 "nbformat_minor": 2
}
