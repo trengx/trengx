{
 "cells": [
  {
   "cell_type": "code",
   "execution_count": 1,
   "metadata": {},
   "outputs": [],
   "source": [
    "\"\"\"\n",
    "This script prepares your Python environment by loading essential tools for handling environment variables, \n",
    "interacting with a Neo4j graph database, and utilizing a bespoke graph module, which could be sourced \n",
    "from either a local graph class or optionally from the trengx package.\n",
    "\n",
    "import os: \n",
    "This line imports the built-in Python module os, which provides a portable way of using \n",
    "operating system dependent functionality, like reading or writing to the environment.\n",
    "\n",
    "from dotenv import load_dotenv: \n",
    "This line imports the load_dotenv function from the dotenv module. \n",
    "This function reads a file (by default, a file named .env in the same directory as the script) and \n",
    "loads its contents as environment variables.\n",
    "\n",
    "from neo4j import GraphDatabase as graphdb: \n",
    "This line imports the GraphDatabase class from the neo4j module, and renames it to graphdb \n",
    "in your script for convenience. This class is used to interact with a Neo4j graph database.\n",
    "\n",
    "import sys and sys.path.append('../trengx'): \n",
    "These lines modify the system path that Python uses to look for modules. The sys module provides access \n",
    "to some variables used or maintained by the Python interpreter. In this case, it's used to add \n",
    "the parent directory's trengx subdirectory to the list of directories that Python will search when you import a module.\n",
    "\n",
    "import graph: This line imports the graph module, which is expected to be found in the trengx directory \n",
    "that was just added to the system path. This module likely contains the Graph class that you use in your script. \n",
    "The specific functionality of this module depends on its implementation, but based on context, \n",
    "it likely provides tools for creating and manipulating a computational graph.\n",
    "\"\"\"\n",
    "\n",
    "# %pip install trengx\n",
    "# from trengx import graph\n",
    "\n",
    "import os\n",
    "from neo4j import GraphDatabase as graphdb\n",
    "import sys\n",
    "sys.path.append('../trengx')\n",
    "import graph"
   ]
  },
  {
   "cell_type": "code",
   "execution_count": 2,
   "metadata": {},
   "outputs": [],
   "source": [
    "# Retrieve secrets (confidential credentials) from environment variables stored in .env file\n",
    "uri = os.getenv('NEO4J_URI') # Get the value of the uri variable\n",
    "user = os.getenv('NEO4J_USER') # Get the value of the user variable\n",
    "password= os.getenv('NEO4J_PASSWORD')  # Get the value of the pw variable\n",
    "\n",
    "# Create a Graph class instance\n",
    "g = graph.Graph(graphdb, uri, user, password)\n"
   ]
  },
  {
   "cell_type": "code",
   "execution_count": 3,
   "metadata": {},
   "outputs": [
    {
     "data": {
      "text/plain": [
       "47"
      ]
     },
     "execution_count": 3,
     "metadata": {},
     "output_type": "execute_result"
    }
   ],
   "source": [
    "\n",
    "node = g.create_node ('num', {'name':'jun', 'value':9})  \n",
    "node['id']"
   ]
  },
  {
   "attachments": {},
   "cell_type": "markdown",
   "metadata": {},
   "source": []
  }
 ],
 "metadata": {
  "kernelspec": {
   "display_name": "Python 3",
   "language": "python",
   "name": "python3"
  },
  "language_info": {
   "codemirror_mode": {
    "name": "ipython",
    "version": 3
   },
   "file_extension": ".py",
   "mimetype": "text/x-python",
   "name": "python",
   "nbconvert_exporter": "python",
   "pygments_lexer": "ipython3",
   "version": "3.8.10"
  },
  "orig_nbformat": 4,
  "vscode": {
   "interpreter": {
    "hash": "3ad933181bd8a04b432d3370b9dc3b0662ad032c4dfaa4e4f1596c548f763858"
   }
  }
 },
 "nbformat": 4,
 "nbformat_minor": 2
}
