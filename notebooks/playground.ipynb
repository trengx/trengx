{
 "cells": [
  {
   "cell_type": "code",
   "execution_count": 22,
   "metadata": {},
   "outputs": [],
   "source": [
    "\"\"\"\n",
    "This script prepares your Python environment by loading essential tools for handling environment variables, \n",
    "interacting with a Neo4j graph database, and utilizing a bespoke graph module, which could be sourced \n",
    "from either a local graph class or optionally from the trengx package.\n",
    "\n",
    "import os: \n",
    "This line imports the built-in Python module os, which provides a portable way of using \n",
    "operating system dependent functionality, like reading or writing to the environment.\n",
    "\n",
    "import sys and sys.path.append('../trengx'): \n",
    "These lines modify the system path that Python uses to look for modules. The sys module provides access \n",
    "to some variables used or maintained by the Python interpreter. In this case, it's used to add \n",
    "the parent directory's trengx subdirectory to the list of directories that Python will search when you import a module.\n",
    "\n",
    "import graph: This line imports the graph module, which is expected to be found in the trengx directory \n",
    "that was just added to the system path. This module likely contains the Graph class that you use in your script. \n",
    "The specific functionality of this module depends on its implementation, but based on context, \n",
    "it likely provides tools for creating and manipulating a computational graph.\n",
    "\"\"\"\n",
    "\n",
    "# %pip install trengx\n",
    "# from trengx import neo4j\n",
    "\n",
    "import os\n",
    "import sys\n",
    "sys.path.append('../trengx')\n",
    "import graph"
   ]
  },
  {
   "cell_type": "code",
   "execution_count": 23,
   "metadata": {},
   "outputs": [],
   "source": [
    "# Retrieve secrets (confidential credentials) from environment variables stored in .env file\n",
    "uri = os.getenv('NEO4J_URI') # Get the value of the uri variable\n",
    "user = os.getenv('NEO4J_USER') # Get the value of the user variable\n",
    "password= os.getenv('NEO4J_PASSWORD')  # Get the value of the password variable\n",
    "\n",
    "# Create a Graph class instance using Graph class in neo4j_graph.py (module)\n",
    "g = graph.Graph(uri, user, password)\n"
   ]
  },
  {
   "cell_type": "code",
   "execution_count": 24,
   "metadata": {},
   "outputs": [
    {
     "data": {
      "text/plain": [
       "True"
      ]
     },
     "execution_count": 24,
     "metadata": {},
     "output_type": "execute_result"
    }
   ],
   "source": [
    "g.delete_all()"
   ]
  },
  {
   "cell_type": "code",
   "execution_count": 25,
   "metadata": {},
   "outputs": [
    {
     "name": "stdout",
     "output_type": "stream",
     "text": [
      "{'id': 'ef414068-08f5-46ad-8926-9dcff49f8667', 'label': ['num2'], 'properties': {'name': 'a', 'value': 9}}\n",
      "ef414068-08f5-46ad-8926-9dcff49f8667\n",
      "9348aa79-aa9d-4111-a4ec-e092fb869499\n"
     ]
    }
   ],
   "source": [
    "\n",
    "a = g.add_node ('num2', {'name':'a', 'value':9})  \n",
    "print (a)\n",
    "\n",
    "b = g.add_node ('num2', {'name':'b', 'value':9})  \n",
    "a_id = a['id']\n",
    "b_id = b['id']\n",
    "print (a_id)\n",
    "print (b_id)\n"
   ]
  },
  {
   "cell_type": "code",
   "execution_count": 26,
   "metadata": {},
   "outputs": [
    {
     "data": {
      "text/plain": [
       "{'id': 'f13e0804-0752-48fb-b8bf-9126448a6045',\n",
       " 'label': 'op',\n",
       " 'out_id': 'ef414068-08f5-46ad-8926-9dcff49f8667',\n",
       " 'in_id': '9348aa79-aa9d-4111-a4ec-e092fb869499',\n",
       " 'properties': {}}"
      ]
     },
     "execution_count": 26,
     "metadata": {},
     "output_type": "execute_result"
    }
   ],
   "source": [
    "e1 = g.add_edge('op', a_id, b_id)\n",
    "e1"
   ]
  },
  {
   "cell_type": "code",
   "execution_count": 27,
   "metadata": {},
   "outputs": [
    {
     "data": {
      "text/plain": [
       "{'id': 'f13e0804-0752-48fb-b8bf-9126448a6045',\n",
       " 'label': 'op',\n",
       " 'out_id': 'ef414068-08f5-46ad-8926-9dcff49f8667',\n",
       " 'in_id': '9348aa79-aa9d-4111-a4ec-e092fb869499',\n",
       " 'properties': {}}"
      ]
     },
     "execution_count": 27,
     "metadata": {},
     "output_type": "execute_result"
    }
   ],
   "source": [
    "e1_id = e1['id']\n",
    "g.get_edge(e1_id)"
   ]
  },
  {
   "cell_type": "code",
   "execution_count": 28,
   "metadata": {},
   "outputs": [
    {
     "data": {
      "text/plain": [
       "'a'"
      ]
     },
     "execution_count": 28,
     "metadata": {},
     "output_type": "execute_result"
    }
   ],
   "source": [
    "g.get_node_property(a_id, 'name')"
   ]
  },
  {
   "cell_type": "code",
   "execution_count": 29,
   "metadata": {},
   "outputs": [
    {
     "data": {
      "text/plain": [
       "{'id': 'ef414068-08f5-46ad-8926-9dcff49f8667',\n",
       " 'label': ['num2'],\n",
       " 'properties': {'name': 'Kevin', 'value': 343}}"
      ]
     },
     "execution_count": 29,
     "metadata": {},
     "output_type": "execute_result"
    }
   ],
   "source": [
    "g.update_node_properties (a_id, {'name': 'Kevin', 'value': 343}) \n",
    "node = g.get_node(a_id)  \n",
    "node\n"
   ]
  },
  {
   "cell_type": "code",
   "execution_count": 30,
   "metadata": {},
   "outputs": [
    {
     "data": {
      "text/plain": [
       "{'id': 'f13e0804-0752-48fb-b8bf-9126448a6045',\n",
       " 'label': 'op',\n",
       " 'out_id': 'ef414068-08f5-46ad-8926-9dcff49f8667',\n",
       " 'in_id': '9348aa79-aa9d-4111-a4ec-e092fb869499',\n",
       " 'properties': {'name': 'Kevin', 'value': 343}}"
      ]
     },
     "execution_count": 30,
     "metadata": {},
     "output_type": "execute_result"
    }
   ],
   "source": [
    "g.update_edge_properties (e1_id, {'name': 'Kevin', 'value': 343}) \n",
    "edge = g.get_edge(e1_id)  \n",
    "edge\n"
   ]
  },
  {
   "cell_type": "code",
   "execution_count": 31,
   "metadata": {},
   "outputs": [],
   "source": [
    "#g.delete_node(a_id, True)"
   ]
  },
  {
   "cell_type": "code",
   "execution_count": 32,
   "metadata": {},
   "outputs": [
    {
     "data": {
      "text/plain": [
       "True"
      ]
     },
     "execution_count": 32,
     "metadata": {},
     "output_type": "execute_result"
    }
   ],
   "source": [
    "g.delete_edge(e1_id)"
   ]
  },
  {
   "attachments": {},
   "cell_type": "markdown",
   "metadata": {},
   "source": []
  }
 ],
 "metadata": {
  "kernelspec": {
   "display_name": "Python 3",
   "language": "python",
   "name": "python3"
  },
  "language_info": {
   "codemirror_mode": {
    "name": "ipython",
    "version": 3
   },
   "file_extension": ".py",
   "mimetype": "text/x-python",
   "name": "python",
   "nbconvert_exporter": "python",
   "pygments_lexer": "ipython3",
   "version": "3.8.10"
  },
  "orig_nbformat": 4,
  "vscode": {
   "interpreter": {
    "hash": "3ad933181bd8a04b432d3370b9dc3b0662ad032c4dfaa4e4f1596c548f763858"
   }
  }
 },
 "nbformat": 4,
 "nbformat_minor": 2
}
