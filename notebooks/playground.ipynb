{
 "cells": [
  {
   "cell_type": "code",
   "execution_count": 1,
   "metadata": {},
   "outputs": [],
   "source": [
    "\"\"\"\n",
    "This script prepares your Python environment by loading essential tools for handling environment variables, \n",
    "interacting with a Neo4j graph database, and utilizing a bespoke graph module, which could be sourced \n",
    "from either a local graph class or optionally from the trengx package.\n",
    "\n",
    "import os: \n",
    "This line imports the built-in Python module os, which provides a portable way of using \n",
    "operating system dependent functionality, like reading or writing to the environment.\n",
    "\n",
    "import sys and sys.path.append('../trengx'): \n",
    "These lines modify the system path that Python uses to look for modules. The sys module provides access \n",
    "to some variables used or maintained by the Python interpreter. In this case, it's used to add \n",
    "the parent directory's trengx subdirectory to the list of directories that Python will search when you import a module.\n",
    "\n",
    "import graph: This line imports the graph module, which is expected to be found in the trengx directory \n",
    "that was just added to the system path. This module likely contains the Graph class that you use in your script. \n",
    "The specific functionality of this module depends on its implementation, but based on context, \n",
    "it likely provides tools for creating and manipulating a computational graph.\n",
    "\"\"\"\n",
    "\n",
    "# %pip install trengx\n",
    "# from trengx import neo4j\n",
    "\n",
    "import os\n",
    "import sys\n",
    "sys.path.append('../trengx')\n",
    "import graph"
   ]
  },
  {
   "cell_type": "code",
   "execution_count": 2,
   "metadata": {},
   "outputs": [],
   "source": [
    "# Retrieve secrets (confidential credentials) from environment variables stored in .env file\n",
    "uri = os.getenv('NEO4J_URI') # Get the value of the uri variable\n",
    "user = os.getenv('NEO4J_USER') # Get the value of the user variable\n",
    "password= os.getenv('NEO4J_PASSWORD')  # Get the value of the password variable\n",
    "\n",
    "# Create a Graph class instance using Graph class in neo4j_graph.py (module)\n",
    "g = graph.Graph(uri, user, password)\n"
   ]
  },
  {
   "cell_type": "code",
   "execution_count": 3,
   "metadata": {},
   "outputs": [
    {
     "name": "stdout",
     "output_type": "stream",
     "text": [
      "{'id': '6febf7ee-55ec-4583-bad8-ca907c1c52d8', 'label': ['num2'], 'properties': {'name': 'jun', 'value': 9}}\n"
     ]
    }
   ],
   "source": [
    "\n",
    "node = g.create_node ('num2', {'name':'jun', 'value':9})  \n",
    "node_id = node['id']\n",
    "print (node)\n"
   ]
  },
  {
   "cell_type": "code",
   "execution_count": 4,
   "metadata": {},
   "outputs": [
    {
     "data": {
      "text/plain": [
       "{'message': 'No node found with UUID: dfsdf'}"
      ]
     },
     "execution_count": 4,
     "metadata": {},
     "output_type": "execute_result"
    }
   ],
   "source": [
    "node = g.get_node_by_id ('dfsdf')  \n",
    "node"
   ]
  },
  {
   "cell_type": "code",
   "execution_count": 5,
   "metadata": {},
   "outputs": [],
   "source": [
    "g.update_node_properties (node_id, {'value': 10}) "
   ]
  },
  {
   "attachments": {},
   "cell_type": "markdown",
   "metadata": {},
   "source": []
  }
 ],
 "metadata": {
  "kernelspec": {
   "display_name": "Python 3",
   "language": "python",
   "name": "python3"
  },
  "language_info": {
   "codemirror_mode": {
    "name": "ipython",
    "version": 3
   },
   "file_extension": ".py",
   "mimetype": "text/x-python",
   "name": "python",
   "nbconvert_exporter": "python",
   "pygments_lexer": "ipython3",
   "version": "3.8.10"
  },
  "orig_nbformat": 4,
  "vscode": {
   "interpreter": {
    "hash": "3ad933181bd8a04b432d3370b9dc3b0662ad032c4dfaa4e4f1596c548f763858"
   }
  }
 },
 "nbformat": 4,
 "nbformat_minor": 2
}
