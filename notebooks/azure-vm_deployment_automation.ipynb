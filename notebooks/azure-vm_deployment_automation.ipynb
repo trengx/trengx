{
 "cells": [
  {
   "cell_type": "code",
   "execution_count": 1,
   "metadata": {},
   "outputs": [
    {
     "name": "stdout",
     "output_type": "stream",
     "text": [
      "Collecting azure-mgmt-compute\n",
      "  Downloading azure_mgmt_compute-30.0.0-py3-none-any.whl (4.9 MB)\n",
      "                                              0.0/4.9 MB ? eta -:--:--\n",
      "     ---                                      0.5/4.9 MB 9.4 MB/s eta 0:00:01\n",
      "     --------                                 1.0/4.9 MB 13.3 MB/s eta 0:00:01\n",
      "     -------------                            1.6/4.9 MB 9.5 MB/s eta 0:00:01\n",
      "     -----------------                        2.1/4.9 MB 12.1 MB/s eta 0:00:01\n",
      "     -------------------------                3.1/4.9 MB 11.8 MB/s eta 0:00:01\n",
      "     -------------------------------------    4.5/4.9 MB 13.2 MB/s eta 0:00:01\n",
      "     ---------------------------------------- 4.9/4.9 MB 12.9 MB/s eta 0:00:00\n",
      "Collecting azure-identity\n",
      "  Downloading azure_identity-1.13.0-py3-none-any.whl (151 kB)\n",
      "                                              0.0/151.6 kB ? eta -:--:--\n",
      "     ---------------------------------------- 151.6/151.6 kB ? eta 0:00:00\n",
      "Requirement already satisfied: isodate<1.0.0,>=0.6.1 in c:\\users\\yshin\\onedrive - trengx\\trengx\\code\\trengx\\.venv\\lib\\site-packages (from azure-mgmt-compute) (0.6.1)\n",
      "Collecting azure-common~=1.1 (from azure-mgmt-compute)\n",
      "  Downloading azure_common-1.1.28-py2.py3-none-any.whl (14 kB)\n",
      "Collecting azure-mgmt-core<2.0.0,>=1.3.2 (from azure-mgmt-compute)\n",
      "  Downloading azure_mgmt_core-1.4.0-py3-none-any.whl (27 kB)\n",
      "Requirement already satisfied: azure-core<2.0.0,>=1.11.0 in c:\\users\\yshin\\onedrive - trengx\\trengx\\code\\trengx\\.venv\\lib\\site-packages (from azure-identity) (1.27.1)\n",
      "Collecting cryptography>=2.5 (from azure-identity)\n",
      "  Downloading cryptography-41.0.1-cp37-abi3-win_amd64.whl (2.6 MB)\n",
      "                                              0.0/2.6 MB ? eta -:--:--\n",
      "     ---------------------------------------  2.6/2.6 MB 84.6 MB/s eta 0:00:01\n",
      "     ---------------------------------------- 2.6/2.6 MB 56.0 MB/s eta 0:00:00\n",
      "Collecting msal<2.0.0,>=1.20.0 (from azure-identity)\n",
      "  Downloading msal-1.22.0-py2.py3-none-any.whl (90 kB)\n",
      "                                              0.0/90.0 kB ? eta -:--:--\n",
      "     ---------------------------------------- 90.0/90.0 kB ? eta 0:00:00\n",
      "Collecting msal-extensions<2.0.0,>=0.3.0 (from azure-identity)\n",
      "  Downloading msal_extensions-1.0.0-py2.py3-none-any.whl (19 kB)\n",
      "Requirement already satisfied: six>=1.12.0 in c:\\users\\yshin\\onedrive - trengx\\trengx\\code\\trengx\\.venv\\lib\\site-packages (from azure-identity) (1.16.0)\n",
      "Requirement already satisfied: requests>=2.18.4 in c:\\users\\yshin\\onedrive - trengx\\trengx\\code\\trengx\\.venv\\lib\\site-packages (from azure-core<2.0.0,>=1.11.0->azure-identity) (2.31.0)\n",
      "Requirement already satisfied: typing-extensions>=4.3.0 in c:\\users\\yshin\\onedrive - trengx\\trengx\\code\\trengx\\.venv\\lib\\site-packages (from azure-core<2.0.0,>=1.11.0->azure-identity) (4.6.2)\n",
      "Collecting cffi>=1.12 (from cryptography>=2.5->azure-identity)\n",
      "  Downloading cffi-1.15.1-cp38-cp38-win_amd64.whl (178 kB)\n",
      "                                              0.0/178.8 kB ? eta -:--:--\n",
      "     ---------------------------------------- 178.8/178.8 kB ? eta 0:00:00\n",
      "Collecting PyJWT[crypto]<3,>=1.0.0 (from msal<2.0.0,>=1.20.0->azure-identity)\n",
      "  Downloading PyJWT-2.7.0-py3-none-any.whl (22 kB)\n",
      "Collecting portalocker<3,>=1.6 (from msal-extensions<2.0.0,>=0.3.0->azure-identity)\n",
      "  Downloading portalocker-2.7.0-py2.py3-none-any.whl (15 kB)\n",
      "Collecting pycparser (from cffi>=1.12->cryptography>=2.5->azure-identity)\n",
      "  Downloading pycparser-2.21-py2.py3-none-any.whl (118 kB)\n",
      "                                              0.0/118.7 kB ? eta -:--:--\n",
      "     -------------------------------------- 118.7/118.7 kB 6.8 MB/s eta 0:00:00\n",
      "Requirement already satisfied: pywin32>=226 in c:\\users\\yshin\\onedrive - trengx\\trengx\\code\\trengx\\.venv\\lib\\site-packages (from portalocker<3,>=1.6->msal-extensions<2.0.0,>=0.3.0->azure-identity) (306)\n",
      "Requirement already satisfied: charset-normalizer<4,>=2 in c:\\users\\yshin\\onedrive - trengx\\trengx\\code\\trengx\\.venv\\lib\\site-packages (from requests>=2.18.4->azure-core<2.0.0,>=1.11.0->azure-identity) (3.1.0)\n",
      "Requirement already satisfied: idna<4,>=2.5 in c:\\users\\yshin\\onedrive - trengx\\trengx\\code\\trengx\\.venv\\lib\\site-packages (from requests>=2.18.4->azure-core<2.0.0,>=1.11.0->azure-identity) (3.4)\n",
      "Requirement already satisfied: urllib3<3,>=1.21.1 in c:\\users\\yshin\\onedrive - trengx\\trengx\\code\\trengx\\.venv\\lib\\site-packages (from requests>=2.18.4->azure-core<2.0.0,>=1.11.0->azure-identity) (1.26.16)\n",
      "Requirement already satisfied: certifi>=2017.4.17 in c:\\users\\yshin\\onedrive - trengx\\trengx\\code\\trengx\\.venv\\lib\\site-packages (from requests>=2.18.4->azure-core<2.0.0,>=1.11.0->azure-identity) (2023.5.7)\n",
      "Installing collected packages: azure-common, PyJWT, pycparser, portalocker, cffi, cryptography, azure-mgmt-core, azure-mgmt-compute, msal, msal-extensions, azure-identity\n",
      "Successfully installed PyJWT-2.7.0 azure-common-1.1.28 azure-identity-1.13.0 azure-mgmt-compute-30.0.0 azure-mgmt-core-1.4.0 cffi-1.15.1 cryptography-41.0.1 msal-1.22.0 msal-extensions-1.0.0 portalocker-2.7.0 pycparser-2.21\n",
      "Note: you may need to restart the kernel to use updated packages.\n"
     ]
    }
   ],
   "source": [
    "%pip install azure-mgmt-compute azure-identity"
   ]
  },
  {
   "cell_type": "code",
   "execution_count": 2,
   "metadata": {},
   "outputs": [],
   "source": [
    "from dotenv import load_dotenv\n",
    "import os\n",
    "\n",
    "# Load environment variables from .env file\n",
    "load_dotenv()\n",
    "\n",
    "# Access the environment variables\n",
    "subscription_id = os.getenv('AZURE_SUBSCRIPTION_ID')\n",
    "tenant_id = os.getenv('AZURE_TENANT_ID')\n",
    "client_id = os.getenv('AZURE_CLIENT_ID')\n",
    "client_secret = os.getenv('AZURE_CLIENT_SECRET')\n",
    "admin_username = os.getenv('ADMIN_USERNAME')\n",
    "admin_password = os.getenv('ADMIN_PASSWORD')\n"
   ]
  },
  {
   "cell_type": "code",
   "execution_count": 3,
   "metadata": {},
   "outputs": [],
   "source": [
    "from azure.identity import ClientSecretCredential\n",
    "from azure.mgmt.compute import ComputeManagementClient\n",
    "\n",
    "credentials = ClientSecretCredential(\n",
    "    tenant_id=tenant_id,\n",
    "    client_id=client_id,\n",
    "    client_secret=client_secret\n",
    ")\n",
    "\n",
    "compute_client = ComputeManagementClient(credentials, subscription_id)\n"
   ]
  },
  {
   "cell_type": "code",
   "execution_count": null,
   "metadata": {},
   "outputs": [],
   "source": [
    "from azure.mgmt.compute.models import HardwareProfile, NetworkProfile, \\\n",
    "    NetworkInterfaceReference, OSProfile, StorageProfile, VirtualHardDisk, \\\n",
    "    VirtualMachine, VirtualMachineSizeTypes\n",
    "\n",
    "resource_group_name = 'alveo-group'\n",
    "vm_name = 'alveo'\n",
    "location = 'West US 2'\n",
    "admin_username = admin_username\n",
    "admin_password = admin_password\n",
    "\n",
    "# Construct the VM object\n",
    "vm_params = {\n",
    "    'location': location,\n",
    "    'os_profile': OSProfile(admin_username=admin_username,\n",
    "                            admin_password=admin_password),\n",
    "    'hardware_profile': HardwareProfile(vm_size=VirtualMachineSizeTypes.standard_d2s_v3),\n",
    "    'storage_profile': StorageProfile(image_reference={\n",
    "        'publisher': 'Canonical',\n",
    "        'offer': 'UbuntuServer',\n",
    "        'sku': '16.04-LTS',\n",
    "        'version': 'latest'\n",
    "    }, os_disk=VirtualHardDisk(create_option='fromImage')),\n",
    "    'network_profile': NetworkProfile(network_interfaces=[\n",
    "        NetworkInterfaceReference(id='your-network-interface-id')\n",
    "    ])\n",
    "}\n",
    "\n",
    "# Create the VM\n",
    "vm_result = compute_client.virtual_machines.create_or_update(\n",
    "    resource_group_name=resource_group_name,\n",
    "    vm_name=vm_name,\n",
    "    parameters=vm_params\n",
    ")\n",
    "\n",
    "print(\"VM created successfully!\")\n"
   ]
  }
 ],
 "metadata": {
  "kernelspec": {
   "display_name": ".venv",
   "language": "python",
   "name": "python3"
  },
  "language_info": {
   "codemirror_mode": {
    "name": "ipython",
    "version": 3
   },
   "file_extension": ".py",
   "mimetype": "text/x-python",
   "name": "python",
   "nbconvert_exporter": "python",
   "pygments_lexer": "ipython3",
   "version": "3.8.10"
  },
  "orig_nbformat": 4
 },
 "nbformat": 4,
 "nbformat_minor": 2
}
