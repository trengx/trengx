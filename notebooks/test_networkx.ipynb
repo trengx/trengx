{
 "cells": [
  {
   "attachments": {},
   "cell_type": "markdown",
   "metadata": {},
   "source": []
  },
  {
   "cell_type": "code",
   "execution_count": 1,
   "metadata": {},
   "outputs": [
    {
     "name": "stdout",
     "output_type": "stream",
     "text": [
      "Requirement already satisfied: networkx in c:\\users\\yshin\\onedrive\\trengx\\code\\trengx\\.venv\\lib\\site-packages (3.1)\n",
      "Requirement already satisfied: matplotlib in c:\\users\\yshin\\onedrive\\trengx\\code\\trengx\\.venv\\lib\\site-packages (3.7.1)\n",
      "Requirement already satisfied: contourpy>=1.0.1 in c:\\users\\yshin\\onedrive\\trengx\\code\\trengx\\.venv\\lib\\site-packages (from matplotlib) (1.0.7)\n",
      "Requirement already satisfied: cycler>=0.10 in c:\\users\\yshin\\onedrive\\trengx\\code\\trengx\\.venv\\lib\\site-packages (from matplotlib) (0.11.0)\n",
      "Requirement already satisfied: fonttools>=4.22.0 in c:\\users\\yshin\\onedrive\\trengx\\code\\trengx\\.venv\\lib\\site-packages (from matplotlib) (4.39.4)\n",
      "Requirement already satisfied: kiwisolver>=1.0.1 in c:\\users\\yshin\\onedrive\\trengx\\code\\trengx\\.venv\\lib\\site-packages (from matplotlib) (1.4.4)\n",
      "Requirement already satisfied: numpy>=1.20 in c:\\users\\yshin\\onedrive\\trengx\\code\\trengx\\.venv\\lib\\site-packages (from matplotlib) (1.24.3)\n",
      "Requirement already satisfied: packaging>=20.0 in c:\\users\\yshin\\onedrive\\trengx\\code\\trengx\\.venv\\lib\\site-packages (from matplotlib) (23.1)\n",
      "Requirement already satisfied: pillow>=6.2.0 in c:\\users\\yshin\\onedrive\\trengx\\code\\trengx\\.venv\\lib\\site-packages (from matplotlib) (9.5.0)\n",
      "Requirement already satisfied: pyparsing>=2.3.1 in c:\\users\\yshin\\onedrive\\trengx\\code\\trengx\\.venv\\lib\\site-packages (from matplotlib) (3.0.9)\n",
      "Requirement already satisfied: python-dateutil>=2.7 in c:\\users\\yshin\\onedrive\\trengx\\code\\trengx\\.venv\\lib\\site-packages (from matplotlib) (2.8.2)\n",
      "Requirement already satisfied: importlib-resources>=3.2.0 in c:\\users\\yshin\\onedrive\\trengx\\code\\trengx\\.venv\\lib\\site-packages (from matplotlib) (5.12.0)\n",
      "Requirement already satisfied: zipp>=3.1.0 in c:\\users\\yshin\\onedrive\\trengx\\code\\trengx\\.venv\\lib\\site-packages (from importlib-resources>=3.2.0->matplotlib) (3.15.0)\n",
      "Requirement already satisfied: six>=1.5 in c:\\users\\yshin\\onedrive\\trengx\\code\\trengx\\.venv\\lib\\site-packages (from python-dateutil>=2.7->matplotlib) (1.16.0)\n"
     ]
    }
   ],
   "source": [
    "! pip install networkx\n",
    "! pip install matplotlib"
   ]
  },
  {
   "cell_type": "code",
   "execution_count": 2,
   "metadata": {},
   "outputs": [],
   "source": [
    "import sys\n",
    "\n",
    "# Set recursion limit\n",
    "sys.setrecursionlimit(10**6)  # Adjust this number based on your needs"
   ]
  },
  {
   "cell_type": "code",
   "execution_count": 3,
   "metadata": {},
   "outputs": [
    {
     "data": {
      "text/plain": [
       "\"\\npos = nx.spring_layout(G, scale=2)\\nedge_labels = nx.get_edge_attributes(G, 'type')\\nnx.draw(G, pos, with_labels=True, node_size=500, node_color='skyblue')\\nnx.draw_networkx_edge_labels(G, pos, edge_labels=edge_labels)\\nplt.show()\\n\""
      ]
     },
     "execution_count": 3,
     "metadata": {},
     "output_type": "execute_result"
    }
   ],
   "source": [
    "import networkx as nx\n",
    "import matplotlib.pyplot as plt\n",
    "\n",
    "# Create a directed graph\n",
    "G = nx.DiGraph()\n",
    "\n",
    "N = 5000  # Number of 'num' nodes you want to create\n",
    "values = range(1, N+1)  # Values for 'num' nodes\n",
    "\n",
    "# First 'num' node\n",
    "G.add_node('x1', value=0, grad=0.0)\n",
    "prev_node = 'x1'\n",
    "\n",
    "for i in range(1, N):\n",
    "    # 'op' node\n",
    "    op_node = f'op{i}'\n",
    "    G.add_node(op_node, name='sin')\n",
    "    G.add_edge(prev_node, op_node, type='num2op')\n",
    "\n",
    "    # 'num' node\n",
    "    curr_node = f'x{values[i]}'\n",
    "    G.add_node(curr_node, value=0, grad=0.0)\n",
    "    G.add_edge(op_node, curr_node, type='op2num')\n",
    "\n",
    "    prev_node = curr_node\n",
    "\n",
    "last = curr_node\n",
    "\n",
    "# Draw the graph\n",
    "'''\n",
    "pos = nx.spring_layout(G, scale=2)\n",
    "edge_labels = nx.get_edge_attributes(G, 'type')\n",
    "nx.draw(G, pos, with_labels=True, node_size=500, node_color='skyblue')\n",
    "nx.draw_networkx_edge_labels(G, pos, edge_labels=edge_labels)\n",
    "plt.show()\n",
    "'''\n"
   ]
  },
  {
   "cell_type": "code",
   "execution_count": 4,
   "metadata": {},
   "outputs": [
    {
     "ename": "",
     "evalue": "",
     "output_type": "error",
     "traceback": [
      "\u001b[1;31mCanceled future for execute_request message before replies were done"
     ]
    },
    {
     "ename": "",
     "evalue": "",
     "output_type": "error",
     "traceback": [
      "\u001b[1;31mThe Kernel crashed while executing code in the the current cell or a previous cell. Please review the code in the cell(s) to identify a possible cause of the failure. Click <a href='https://aka.ms/vscodeJupyterKernelCrash'>here</a> for more info. View Jupyter <a href='command:jupyter.viewOutput'>log</a> for further details."
     ]
    }
   ],
   "source": [
    "import math\n",
    "\n",
    "def calculate(node_id):\n",
    "    # Get the neighbors (connected nodes)\n",
    "    for nbr in G.neighbors(node_id):\n",
    "        # Assuming you have num-op-num repeating pattern\n",
    "        next_num_node = list(G.neighbors(nbr))[0]\n",
    "        op_name = G.nodes[nbr]['name']\n",
    "        in1_value = G.nodes[node_id]['value']\n",
    "        in2_value = G.nodes[next_num_node]['value']\n",
    "        \n",
    "        # Perform calculations\n",
    "        if op_name == 'sin':\n",
    "            result = math.sin(in1_value)\n",
    "        # Add other operations if required here\n",
    "        else:\n",
    "            result = in1_value  # If no operation is specified, keep the value the same\n",
    "\n",
    "        G.nodes[next_num_node]['value'] = result\n",
    "        calculate(next_num_node)  # Recursive call for next node\n",
    "\n",
    "# Apply to every 'num' node\n",
    "for node_id in G.nodes:\n",
    "    if node_id == 'x1':\n",
    "        G.nodes['x1']['value'] = 1\n",
    "    if node_id.startswith('x'):  # 'num' nodes start with 'x'\n",
    "        calculate(node_id)\n",
    "\n",
    "G.nodes['x5000']['value']"
   ]
  },
  {
   "cell_type": "code",
   "execution_count": null,
   "metadata": {},
   "outputs": [
    {
     "data": {
      "text/plain": [
       "0.05462012602579727"
      ]
     },
     "execution_count": 4,
     "metadata": {},
     "output_type": "execute_result"
    }
   ],
   "source": [
    "G.nodes['x1000']['value']"
   ]
  }
 ],
 "metadata": {
  "kernelspec": {
   "display_name": "Python 3",
   "language": "python",
   "name": "python3"
  },
  "language_info": {
   "codemirror_mode": {
    "name": "ipython",
    "version": 3
   },
   "file_extension": ".py",
   "mimetype": "text/x-python",
   "name": "python",
   "nbconvert_exporter": "python",
   "pygments_lexer": "ipython3",
   "version": "3.8.10"
  },
  "orig_nbformat": 4,
  "vscode": {
   "interpreter": {
    "hash": "3ad933181bd8a04b432d3370b9dc3b0662ad032c4dfaa4e4f1596c548f763858"
   }
  }
 },
 "nbformat": 4,
 "nbformat_minor": 2
}
